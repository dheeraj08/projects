{
 "cells": [
  {
   "cell_type": "markdown",
   "id": "47bce688-a57d-415c-84c8-f041aa3ad1f0",
   "metadata": {
    "slideshow": {
     "slide_type": "slide"
    }
   },
   "source": [
    "## Uber Ride Sharing Analysis"
   ]
  },
  {
   "cell_type": "markdown",
   "id": "b50135d1-58e0-4821-baa7-68ae286a69a8",
   "metadata": {
    "slideshow": {
     "slide_type": "fragment"
    }
   },
   "source": [
    "We are tasked with identifying the reasons behind the increased cancellation of rides, and unavailability of cabs leading to a loss of revenue for Uber and dissatifaction for the customers. We will begin by first importing the libraries required, and loading and inspecting the dataset, including observing the shape, the first few rows, and examining the null values in the dataset."
   ]
  },
  {
   "cell_type": "code",
   "execution_count": 1,
   "id": "6a168cf7-1cf5-4454-b6a4-7c5726162cc5",
   "metadata": {
    "slideshow": {
     "slide_type": "slide"
    }
   },
   "outputs": [],
   "source": [
    "# Import necessary libraries.\n",
    "import numpy as np\n",
    "import pandas as pd\n",
    "import matplotlib.pyplot as plt\n",
    "import seaborn as sns\n",
    "from datetime import datetime"
   ]
  },
  {
   "cell_type": "code",
   "execution_count": 2,
   "id": "0afce310-c94d-474c-8d54-0ce086e32897",
   "metadata": {
    "slideshow": {
     "slide_type": "fragment"
    }
   },
   "outputs": [],
   "source": [
    "# Load the dataset.\n",
    "df = pd.read_csv('Uber Request Data.csv')"
   ]
  },
  {
   "cell_type": "code",
   "execution_count": 3,
   "id": "94bfb843-a4ec-4ef3-923e-5d3e2acc8db9",
   "metadata": {
    "slideshow": {
     "slide_type": "fragment"
    }
   },
   "outputs": [
    {
     "name": "stdout",
     "output_type": "stream",
     "text": [
      "Data Shape: (6745, 6)\n"
     ]
    }
   ],
   "source": [
    "# Inspect the data.\n",
    "print(f'Data Shape: {df.shape}')"
   ]
  },
  {
   "cell_type": "code",
   "execution_count": 4,
   "id": "e053fd20-8286-4e3a-b76e-de5f76b48457",
   "metadata": {
    "slideshow": {
     "slide_type": "fragment"
    }
   },
   "outputs": [
    {
     "data": {
      "text/html": [
       "<div>\n",
       "<style scoped>\n",
       "    .dataframe tbody tr th:only-of-type {\n",
       "        vertical-align: middle;\n",
       "    }\n",
       "\n",
       "    .dataframe tbody tr th {\n",
       "        vertical-align: top;\n",
       "    }\n",
       "\n",
       "    .dataframe thead th {\n",
       "        text-align: right;\n",
       "    }\n",
       "</style>\n",
       "<table border=\"1\" class=\"dataframe\">\n",
       "  <thead>\n",
       "    <tr style=\"text-align: right;\">\n",
       "      <th></th>\n",
       "      <th>Request id</th>\n",
       "      <th>Pickup point</th>\n",
       "      <th>Driver id</th>\n",
       "      <th>Status</th>\n",
       "      <th>Request timestamp</th>\n",
       "      <th>Drop timestamp</th>\n",
       "    </tr>\n",
       "  </thead>\n",
       "  <tbody>\n",
       "    <tr>\n",
       "      <th>0</th>\n",
       "      <td>619</td>\n",
       "      <td>Airport</td>\n",
       "      <td>1.0</td>\n",
       "      <td>Trip Completed</td>\n",
       "      <td>11/7/2016 11:51</td>\n",
       "      <td>11/7/2016 13:00</td>\n",
       "    </tr>\n",
       "    <tr>\n",
       "      <th>1</th>\n",
       "      <td>867</td>\n",
       "      <td>Airport</td>\n",
       "      <td>1.0</td>\n",
       "      <td>Trip Completed</td>\n",
       "      <td>11/7/2016 17:57</td>\n",
       "      <td>11/7/2016 18:47</td>\n",
       "    </tr>\n",
       "    <tr>\n",
       "      <th>2</th>\n",
       "      <td>1807</td>\n",
       "      <td>City</td>\n",
       "      <td>1.0</td>\n",
       "      <td>Trip Completed</td>\n",
       "      <td>12/7/2016 9:17</td>\n",
       "      <td>12/7/2016 9:58</td>\n",
       "    </tr>\n",
       "    <tr>\n",
       "      <th>3</th>\n",
       "      <td>2532</td>\n",
       "      <td>Airport</td>\n",
       "      <td>1.0</td>\n",
       "      <td>Trip Completed</td>\n",
       "      <td>12/7/2016 21:08</td>\n",
       "      <td>12/7/2016 22:03</td>\n",
       "    </tr>\n",
       "    <tr>\n",
       "      <th>4</th>\n",
       "      <td>3112</td>\n",
       "      <td>City</td>\n",
       "      <td>1.0</td>\n",
       "      <td>Trip Completed</td>\n",
       "      <td>13-07-2016 08:33:16</td>\n",
       "      <td>13-07-2016 09:25:47</td>\n",
       "    </tr>\n",
       "    <tr>\n",
       "      <th>5</th>\n",
       "      <td>3879</td>\n",
       "      <td>Airport</td>\n",
       "      <td>1.0</td>\n",
       "      <td>Trip Completed</td>\n",
       "      <td>13-07-2016 21:57:28</td>\n",
       "      <td>13-07-2016 22:28:59</td>\n",
       "    </tr>\n",
       "    <tr>\n",
       "      <th>6</th>\n",
       "      <td>4270</td>\n",
       "      <td>Airport</td>\n",
       "      <td>1.0</td>\n",
       "      <td>Trip Completed</td>\n",
       "      <td>14-07-2016 06:15:32</td>\n",
       "      <td>14-07-2016 07:13:15</td>\n",
       "    </tr>\n",
       "    <tr>\n",
       "      <th>7</th>\n",
       "      <td>5510</td>\n",
       "      <td>Airport</td>\n",
       "      <td>1.0</td>\n",
       "      <td>Trip Completed</td>\n",
       "      <td>15-07-2016 05:11:52</td>\n",
       "      <td>15-07-2016 06:07:52</td>\n",
       "    </tr>\n",
       "    <tr>\n",
       "      <th>8</th>\n",
       "      <td>6248</td>\n",
       "      <td>City</td>\n",
       "      <td>1.0</td>\n",
       "      <td>Trip Completed</td>\n",
       "      <td>15-07-2016 17:57:27</td>\n",
       "      <td>15-07-2016 18:50:51</td>\n",
       "    </tr>\n",
       "    <tr>\n",
       "      <th>9</th>\n",
       "      <td>267</td>\n",
       "      <td>City</td>\n",
       "      <td>2.0</td>\n",
       "      <td>Trip Completed</td>\n",
       "      <td>11/7/2016 6:46</td>\n",
       "      <td>11/7/2016 7:25</td>\n",
       "    </tr>\n",
       "  </tbody>\n",
       "</table>\n",
       "</div>"
      ],
      "text/plain": [
       "   Request id Pickup point  Driver id          Status    Request timestamp  \\\n",
       "0         619      Airport        1.0  Trip Completed      11/7/2016 11:51   \n",
       "1         867      Airport        1.0  Trip Completed      11/7/2016 17:57   \n",
       "2        1807         City        1.0  Trip Completed       12/7/2016 9:17   \n",
       "3        2532      Airport        1.0  Trip Completed      12/7/2016 21:08   \n",
       "4        3112         City        1.0  Trip Completed  13-07-2016 08:33:16   \n",
       "5        3879      Airport        1.0  Trip Completed  13-07-2016 21:57:28   \n",
       "6        4270      Airport        1.0  Trip Completed  14-07-2016 06:15:32   \n",
       "7        5510      Airport        1.0  Trip Completed  15-07-2016 05:11:52   \n",
       "8        6248         City        1.0  Trip Completed  15-07-2016 17:57:27   \n",
       "9         267         City        2.0  Trip Completed       11/7/2016 6:46   \n",
       "\n",
       "        Drop timestamp  \n",
       "0      11/7/2016 13:00  \n",
       "1      11/7/2016 18:47  \n",
       "2       12/7/2016 9:58  \n",
       "3      12/7/2016 22:03  \n",
       "4  13-07-2016 09:25:47  \n",
       "5  13-07-2016 22:28:59  \n",
       "6  14-07-2016 07:13:15  \n",
       "7  15-07-2016 06:07:52  \n",
       "8  15-07-2016 18:50:51  \n",
       "9       11/7/2016 7:25  "
      ]
     },
     "execution_count": 4,
     "metadata": {},
     "output_type": "execute_result"
    }
   ],
   "source": [
    "# Display the first 5 rows.\n",
    "df.head(10)"
   ]
  },
  {
   "cell_type": "code",
   "execution_count": 5,
   "id": "1337168f-c3c4-4198-a85e-4f99716df0d8",
   "metadata": {
    "slideshow": {
     "slide_type": "fragment"
    }
   },
   "outputs": [
    {
     "name": "stdout",
     "output_type": "stream",
     "text": [
      "<class 'pandas.core.frame.DataFrame'>\n",
      "RangeIndex: 6745 entries, 0 to 6744\n",
      "Data columns (total 6 columns):\n",
      " #   Column             Non-Null Count  Dtype  \n",
      "---  ------             --------------  -----  \n",
      " 0   Request id         6745 non-null   int64  \n",
      " 1   Pickup point       6745 non-null   object \n",
      " 2   Driver id          4095 non-null   float64\n",
      " 3   Status             6745 non-null   object \n",
      " 4   Request timestamp  6745 non-null   object \n",
      " 5   Drop timestamp     2831 non-null   object \n",
      "dtypes: float64(1), int64(1), object(4)\n",
      "memory usage: 316.3+ KB\n"
     ]
    }
   ],
   "source": [
    "# Inspect the data columns.\n",
    "df.info()"
   ]
  },
  {
   "cell_type": "code",
   "execution_count": 6,
   "id": "0dfc674d-9c32-46e2-8567-d14cc6a87cfa",
   "metadata": {
    "slideshow": {
     "slide_type": "fragment"
    }
   },
   "outputs": [
    {
     "name": "stdout",
     "output_type": "stream",
     "text": [
      "Driver ID Null Count: 2650\n",
      "Drop TimeStamp Null Count: 3914\n"
     ]
    }
   ],
   "source": [
    "# Check the null values in the Driver ID and Drop Timestamp columns.\n",
    "print(f'Driver ID Null Count: {df[\"Driver id\"].isnull().sum()}')\n",
    "print(f'Drop TimeStamp Null Count: {df[\"Drop timestamp\"].isnull().sum()}')"
   ]
  },
  {
   "cell_type": "code",
   "execution_count": 7,
   "id": "1afb1920-017e-4da2-8e34-38de5b6bcb10",
   "metadata": {
    "slideshow": {
     "slide_type": "fragment"
    }
   },
   "outputs": [],
   "source": [
    "# Retrieve all the rows where the driver ID is null and Drop timestamp is null in two separate dataframes.\n",
    "null_driver_ids = df[df['Driver id'].isnull()]\n",
    "null_drop_timestamps = df[df['Drop timestamp'].isnull()]"
   ]
  },
  {
   "cell_type": "code",
   "execution_count": 8,
   "id": "c90ad683-e777-4445-a6c6-7eaf53f1de7d",
   "metadata": {
    "slideshow": {
     "slide_type": "fragment"
    }
   },
   "outputs": [
    {
     "name": "stdout",
     "output_type": "stream",
     "text": [
      "Unique Status Values for Null Driver ID Rows: ['No Cars Available']\n",
      "Unique Status Values for Null Drop Timestamp Rows: ['Cancelled', 'No Cars Available']\n"
     ]
    }
   ],
   "source": [
    "# Check the status of the rides for both null value cases to understand why null values are present.\n",
    "print(f'Unique Status Values for Null Driver ID Rows: {null_driver_ids.Status.unique().tolist()}')\n",
    "print(f'Unique Status Values for Null Drop Timestamp Rows: {null_drop_timestamps.Status.unique().tolist()}')"
   ]
  },
  {
   "cell_type": "markdown",
   "id": "5ba5e4f3-f1dd-4114-a9ff-eeeb44e66320",
   "metadata": {
    "slideshow": {
     "slide_type": "slide"
    }
   },
   "source": [
    "# Data Cleaning\n",
    "\n",
    "Post inspecting the data above, we can make the following observations with respect to the dataset.\n",
    "1. We see that null values are present in only 2 columns Driver ID and Drop Timestamp.\n",
    "    - On closer inspection we observed the following:\n",
    "            1. All the rows where the Driver ID was null had the status value of No Cars Available.\n",
    "            2. All the rows where the Drop Timestamp was null had the status values of Cancelled and No Cars Available.\n",
    "    - As these are rows that are important for analysis, it would be best to retain the rows.\n",
    "\n",
    "Accordingly we can then take the below steps to process and clean our data."
   ]
  },
  {
   "cell_type": "markdown",
   "id": "9ca50c15",
   "metadata": {
    "slideshow": {
     "slide_type": "fragment"
    }
   },
   "source": [
    "### Cleaning Steps\n",
    "1. We can cleanup the Timestamp columns, by correcting the formats, replacing the null values with the standard initial date of 1900-01-01 and then converting them to DateTime format for easier processing.\n",
    "2. We then can proceed to extract additional crucial information for our analysis such as the exact Month, Date, Day and Hour of both Requests as well as Drops.\n",
    "3. We can then derive an additional field for both Requests and Drops, where we categorize the hours of the day, into 5 categories as below:\n",
    "    - 12 AM to 5 AM as Early Morning.\n",
    "    - 6 AM to 11 AM as Morning.\n",
    "    - 12 PM to 3 PM as Afternoon.\n",
    "    - 4 PM to 6 PM as Evening.\n",
    "    - 7 PM to 11 PM as Night.\n",
    "\n",
    "Below we have the code to perform all the data cleaning steps in order."
   ]
  },
  {
   "cell_type": "code",
   "execution_count": 9,
   "id": "4cdcfcf1-8c26-4c67-96bc-182f83d5668d",
   "metadata": {
    "slideshow": {
     "slide_type": "fragment"
    }
   },
   "outputs": [],
   "source": [
    "# Clean the Drop and Request Timestamp columns.\n",
    "df['Request timestamp'] = df['Request timestamp'].apply(lambda x: x.replace('/', '-'))\n",
    "df['Drop timestamp'] = df['Drop timestamp'].fillna('1900-01-01 00:00:00')\n",
    "df['Drop timestamp'] = df['Drop timestamp'].apply(lambda x: x.replace('/', '-'))"
   ]
  },
  {
   "cell_type": "code",
   "execution_count": 10,
   "id": "4db421a8-15ad-49f2-99f2-1bd37f258d38",
   "metadata": {
    "slideshow": {
     "slide_type": "fragment"
    }
   },
   "outputs": [],
   "source": [
    "# Convert the Request and Drop Timestamps to datetime format.\n",
    "df['Request timestamp'] = pd.to_datetime(df['Request timestamp'])\n",
    "df['Drop timestamp'] = pd.to_datetime(df['Drop timestamp'])"
   ]
  },
  {
   "cell_type": "code",
   "execution_count": 11,
   "id": "0b2ff0ae-9b7c-405a-b71c-95f86a3a6e0d",
   "metadata": {
    "slideshow": {
     "slide_type": "fragment"
    }
   },
   "outputs": [],
   "source": [
    "# Extract Day, Month, Year and Hour Information of Request Timestamps into different columns.\n",
    "df['Request Year'] = df['Request timestamp'].dt.year\n",
    "df['Request Month'] = df['Request timestamp'].dt.month\n",
    "df['Request Day'] = df['Request timestamp'].dt.day\n",
    "df['Request Hour'] = df['Request timestamp'].dt.hour"
   ]
  },
  {
   "cell_type": "code",
   "execution_count": 12,
   "id": "9550a01b-bc56-4d32-abb0-8e0c6908d2cf",
   "metadata": {
    "slideshow": {
     "slide_type": "fragment"
    },
    "tags": []
   },
   "outputs": [],
   "source": [
    "# Generate new columns to categorize the time of the day based on the hour information.\n",
    "def categorize_time_of_day(hour):\n",
    "    if hour in range(0,6):\n",
    "        return 'Early Morning'\n",
    "    elif hour in range(6,12):\n",
    "        return 'Morning'\n",
    "    elif hour in range(12,16):\n",
    "        return 'Afternoon'\n",
    "    elif hour in range(16, 19):\n",
    "        return 'Evening'\n",
    "    elif hour in range(19, 24):\n",
    "        return 'Night'\n",
    "    \n",
    "df['Request Time of Day'] = df['Request Hour'].apply(categorize_time_of_day)"
   ]
  },
  {
   "cell_type": "code",
   "execution_count": 13,
   "id": "5966ba5a-3879-466b-93e2-ffb6c0584c2f",
   "metadata": {
    "slideshow": {
     "slide_type": "fragment"
    }
   },
   "outputs": [
    {
     "data": {
      "text/plain": [
       "(6745, 11)"
      ]
     },
     "execution_count": 13,
     "metadata": {},
     "output_type": "execute_result"
    }
   ],
   "source": [
    "df.shape"
   ]
  },
  {
   "cell_type": "code",
   "execution_count": 14,
   "id": "0ce9164a-b228-484e-8a0d-7d9a927a480e",
   "metadata": {
    "slideshow": {
     "slide_type": "fragment"
    }
   },
   "outputs": [
    {
     "data": {
      "text/html": [
       "<div>\n",
       "<style scoped>\n",
       "    .dataframe tbody tr th:only-of-type {\n",
       "        vertical-align: middle;\n",
       "    }\n",
       "\n",
       "    .dataframe tbody tr th {\n",
       "        vertical-align: top;\n",
       "    }\n",
       "\n",
       "    .dataframe thead th {\n",
       "        text-align: right;\n",
       "    }\n",
       "</style>\n",
       "<table border=\"1\" class=\"dataframe\">\n",
       "  <thead>\n",
       "    <tr style=\"text-align: right;\">\n",
       "      <th></th>\n",
       "      <th>Request id</th>\n",
       "      <th>Pickup point</th>\n",
       "      <th>Driver id</th>\n",
       "      <th>Status</th>\n",
       "      <th>Request timestamp</th>\n",
       "      <th>Drop timestamp</th>\n",
       "      <th>Request Year</th>\n",
       "      <th>Request Month</th>\n",
       "      <th>Request Day</th>\n",
       "      <th>Request Hour</th>\n",
       "      <th>Request Time of Day</th>\n",
       "    </tr>\n",
       "  </thead>\n",
       "  <tbody>\n",
       "    <tr>\n",
       "      <th>0</th>\n",
       "      <td>619</td>\n",
       "      <td>Airport</td>\n",
       "      <td>1.0</td>\n",
       "      <td>Trip Completed</td>\n",
       "      <td>2016-11-07 11:51:00</td>\n",
       "      <td>2016-11-07 13:00:00</td>\n",
       "      <td>2016</td>\n",
       "      <td>11</td>\n",
       "      <td>7</td>\n",
       "      <td>11</td>\n",
       "      <td>Morning</td>\n",
       "    </tr>\n",
       "    <tr>\n",
       "      <th>1</th>\n",
       "      <td>867</td>\n",
       "      <td>Airport</td>\n",
       "      <td>1.0</td>\n",
       "      <td>Trip Completed</td>\n",
       "      <td>2016-11-07 17:57:00</td>\n",
       "      <td>2016-11-07 18:47:00</td>\n",
       "      <td>2016</td>\n",
       "      <td>11</td>\n",
       "      <td>7</td>\n",
       "      <td>17</td>\n",
       "      <td>Evening</td>\n",
       "    </tr>\n",
       "    <tr>\n",
       "      <th>2</th>\n",
       "      <td>1807</td>\n",
       "      <td>City</td>\n",
       "      <td>1.0</td>\n",
       "      <td>Trip Completed</td>\n",
       "      <td>2016-12-07 09:17:00</td>\n",
       "      <td>2016-12-07 09:58:00</td>\n",
       "      <td>2016</td>\n",
       "      <td>12</td>\n",
       "      <td>7</td>\n",
       "      <td>9</td>\n",
       "      <td>Morning</td>\n",
       "    </tr>\n",
       "    <tr>\n",
       "      <th>3</th>\n",
       "      <td>2532</td>\n",
       "      <td>Airport</td>\n",
       "      <td>1.0</td>\n",
       "      <td>Trip Completed</td>\n",
       "      <td>2016-12-07 21:08:00</td>\n",
       "      <td>2016-12-07 22:03:00</td>\n",
       "      <td>2016</td>\n",
       "      <td>12</td>\n",
       "      <td>7</td>\n",
       "      <td>21</td>\n",
       "      <td>Night</td>\n",
       "    </tr>\n",
       "    <tr>\n",
       "      <th>4</th>\n",
       "      <td>3112</td>\n",
       "      <td>City</td>\n",
       "      <td>1.0</td>\n",
       "      <td>Trip Completed</td>\n",
       "      <td>2016-07-13 08:33:16</td>\n",
       "      <td>2016-07-13 09:25:47</td>\n",
       "      <td>2016</td>\n",
       "      <td>7</td>\n",
       "      <td>13</td>\n",
       "      <td>8</td>\n",
       "      <td>Morning</td>\n",
       "    </tr>\n",
       "  </tbody>\n",
       "</table>\n",
       "</div>"
      ],
      "text/plain": [
       "   Request id Pickup point  Driver id          Status   Request timestamp  \\\n",
       "0         619      Airport        1.0  Trip Completed 2016-11-07 11:51:00   \n",
       "1         867      Airport        1.0  Trip Completed 2016-11-07 17:57:00   \n",
       "2        1807         City        1.0  Trip Completed 2016-12-07 09:17:00   \n",
       "3        2532      Airport        1.0  Trip Completed 2016-12-07 21:08:00   \n",
       "4        3112         City        1.0  Trip Completed 2016-07-13 08:33:16   \n",
       "\n",
       "       Drop timestamp  Request Year  Request Month  Request Day  Request Hour  \\\n",
       "0 2016-11-07 13:00:00          2016             11            7            11   \n",
       "1 2016-11-07 18:47:00          2016             11            7            17   \n",
       "2 2016-12-07 09:58:00          2016             12            7             9   \n",
       "3 2016-12-07 22:03:00          2016             12            7            21   \n",
       "4 2016-07-13 09:25:47          2016              7           13             8   \n",
       "\n",
       "  Request Time of Day  \n",
       "0             Morning  \n",
       "1             Evening  \n",
       "2             Morning  \n",
       "3               Night  \n",
       "4             Morning  "
      ]
     },
     "execution_count": 14,
     "metadata": {},
     "output_type": "execute_result"
    }
   ],
   "source": [
    "# View the DataFrame again after cleaning and extracting new values for analysis.\n",
    "df.head()"
   ]
  },
  {
   "cell_type": "markdown",
   "id": "a374ecb6-1bf3-4560-aedd-edf93ad486ca",
   "metadata": {
    "slideshow": {
     "slide_type": "slide"
    }
   },
   "source": [
    "# Data Analysis\n",
    "Now that we have cleaned the data we can proceed to analyze the most pressing problems Uber is facing."
   ]
  },
  {
   "cell_type": "markdown",
   "id": "a39e5cbe-a1e9-4037-96db-1cd796c8e96a",
   "metadata": {
    "slideshow": {
     "slide_type": "fragment"
    }
   },
   "source": [
    "## Count Analysis.\n",
    "Using a count plot we can analyze following:\n",
    "1. The number of requests that have been cancelled, or dropped due to unavailability of cars.\n",
    "2. The number of requests where the pickup points are from the City and the Airport.\n",
    "3. The number of requests that have come through different times of the day.\n",
    "4. The number of drops that have been made throughout different times of the day.\n",
    "\n",
    "Below we have Count Plots for all the 4 scenarios listed above together with the insights that we can gain from them."
   ]
  },
  {
   "cell_type": "code",
   "execution_count": 15,
   "id": "6994db32-2549-4d38-b5b4-adcae278769f",
   "metadata": {
    "scrolled": true,
    "slideshow": {
     "slide_type": "slide"
    }
   },
   "outputs": [
    {
     "data": {
      "image/png": "[encoded data removed]",
      "text/plain": [
       "<Figure size 432x288 with 1 Axes>"
      ]
     },
     "metadata": {
      "needs_background": "light"
     },
     "output_type": "display_data"
    }
   ],
   "source": [
    "# Analysing the most pressing problems for Uber post data cleaning.\n",
    "# Visualize the frequency of the request statuses.\n",
    "sns.countplot(data = df, x = 'Status')\n",
    "plt.show()"
   ]
  },
  {
   "cell_type": "code",
   "execution_count": 16,
   "id": "b01798cc-b769-4770-bb62-1e19ad3a368c",
   "metadata": {
    "scrolled": true,
    "slideshow": {
     "slide_type": "fragment"
    }
   },
   "outputs": [
    {
     "data": {
      "image/png": "[encoded data removed]",
      "text/plain": [
       "<Figure size 432x288 with 1 Axes>"
      ]
     },
     "metadata": {
      "needs_background": "light"
     },
     "output_type": "display_data"
    }
   ],
   "source": [
    "# Visualize the count of the pickup points to analyse which type of requests were higher.\n",
    "sns.countplot(data = df, x = 'Pickup point')\n",
    "plt.show()"
   ]
  },
  {
   "cell_type": "code",
   "execution_count": 17,
   "id": "94375351-a454-42a2-bd06-a644df3de64d",
   "metadata": {
    "scrolled": true,
    "slideshow": {
     "slide_type": "fragment"
    }
   },
   "outputs": [
    {
     "data": {
      "image/png": "[encoded data removed]",
      "text/plain": [
       "<Figure size 432x288 with 1 Axes>"
      ]
     },
     "metadata": {
      "needs_background": "light"
     },
     "output_type": "display_data"
    }
   ],
   "source": [
    "# Visualize the count of Request Time of Day and Drop Time of Day to see how they were distributed throughout a particular day.\n",
    "sns.countplot(data = df, x = 'Request Time of Day')\n",
    "plt.show()"
   ]
  },
  {
   "cell_type": "markdown",
   "id": "fab07845",
   "metadata": {
    "slideshow": {
     "slide_type": "fragment"
    }
   },
   "source": [
    "### Count Analysis Insights.\n",
    "1. We have a very high number of requests that have been dropped due to unavailability of cars than cancellations.\n",
    "2. We have pickup requests coming in from both the City as and the Airport, with ones from the City being marginally higher.\n",
    "3. We see that the highest count of requests are in 2 time slots of 7 PM - 11 PM and 6 AM - 11 AM.\n",
    "4. We see that the highest count of drops, are coming in the early mornings, from 12 AM - 5 AM."
   ]
  },
  {
   "cell_type": "markdown",
   "id": "ed5e809c-8aff-49b9-b275-9210f2cc3c74",
   "metadata": {
    "slideshow": {
     "slide_type": "slide"
    }
   },
   "source": [
    "# Multivariate Analysis.\n",
    "Next we will perform multivariate analysis using Bar Plots to uncover interesting patterns if any are present which would help increase our understanding of why we are facing increased cancellations.\n",
    "\n",
    "1. <b>Pickup Points v/s Status:</b> Here we are analyzing which particular requests have seen the cancellations and have been dropped due to the unavailability of cars.\n",
    "2. <b>Request v/s Status v/s Time of Day:</b> Here we are analyzing the frequency of requests throughout which time of day have seen the highest cancellations, or have been dropped due to the unavailability of cars.\n",
    "3. <b>Request v/s Pickup Points v/s Time of Day:</b> Here we are analyzing the frequency of requests throughout the times of the day across all the pickup locations.\n",
    "\n",
    "Below we have the plots that describe each of the analysis scenarios listed above in order."
   ]
  },
  {
   "cell_type": "code",
   "execution_count": 18,
   "id": "7ff339ff-4f81-410c-a0fa-3bd4d90e6e1b",
   "metadata": {
    "slideshow": {
     "slide_type": "slide"
    }
   },
   "outputs": [
    {
     "data": {
      "image/png": "[encoded data removed]",
      "text/plain": [
       "<Figure size 432x288 with 1 Axes>"
      ]
     },
     "metadata": {
      "needs_background": "light"
     },
     "output_type": "display_data"
    }
   ],
   "source": [
    "# Plot the statuses and the request types together to see which requests presented the most problems for Uber.\n",
    "sns.barplot(data = df.groupby(['Status', 'Pickup point']).size().to_frame('Status Count').reset_index(),\n",
    "            x = 'Status', y = 'Status Count', hue = 'Pickup point')\n",
    "plt.show()"
   ]
  },
  {
   "cell_type": "code",
   "execution_count": 19,
   "id": "2244decf-fb3d-45bd-84f1-2e94d1a3fec0",
   "metadata": {
    "slideshow": {
     "slide_type": "fragment"
    }
   },
   "outputs": [
    {
     "data": {
      "image/png": "[encoded data removed]",
      "text/plain": [
       "<Figure size 432x288 with 1 Axes>"
      ]
     },
     "metadata": {
      "needs_background": "light"
     },
     "output_type": "display_data"
    }
   ],
   "source": [
    "# Visualize how the requests for the cabs are distributed throughout the times of day, for all status types.\n",
    "sns.barplot(data = df.groupby(['Status', 'Pickup point', 'Request Time of Day']).size().to_frame('Request Count').reset_index(),\n",
    "            x = 'Status', y = 'Request Count', hue = 'Request Time of Day')\n",
    "plt.show()"
   ]
  },
  {
   "cell_type": "code",
   "execution_count": 20,
   "id": "0b326f59-dcac-4ffb-88e8-54a2d65df2be",
   "metadata": {
    "scrolled": true,
    "slideshow": {
     "slide_type": "fragment"
    }
   },
   "outputs": [
    {
     "data": {
      "image/png": "[encoded data removed]",
      "text/plain": [
       "<Figure size 432x288 with 1 Axes>"
      ]
     },
     "metadata": {
      "needs_background": "light"
     },
     "output_type": "display_data"
    }
   ],
   "source": [
    "# Visualize the how the requests are distributed throughout the different times of the day at the 2 pickup locations.\n",
    "sns.barplot(data = df.groupby(['Status', 'Pickup point', 'Request Time of Day']).size().to_frame('Request Count').reset_index(),\n",
    "            x = 'Pickup point', y = 'Request Count', hue = 'Request Time of Day')\n",
    "plt.show()"
   ]
  },
  {
   "cell_type": "markdown",
   "id": "48f05447",
   "metadata": {
    "slideshow": {
     "slide_type": "fragment"
    }
   },
   "source": [
    "## Multivariate Analysis Insights.\n",
    "1. We can see that the biggest problem Uber is facing is <b>unavailability of cars at the airports.</b>\n",
    "2. We observe that the <b>highest number of cancelled requests are coming in the time range from 6 AM - 11 AM.</b>\n",
    "3. We observe that the <b>highest number of rides that have been dropped due to the unavailability of cars is in the time range from 7 PM - 11 PM.</b>\n",
    "4. We observe that <b>there is very high demand for cabs to the Airport at night from 7 PM - 11 PM.</b>\n",
    "5. We observe that <b>there is very high demand for cabs to the City in the morning from 6 AM - 11 AM.</b>"
   ]
  },
  {
   "cell_type": "markdown",
   "id": "a7510960-df4d-49cc-af3a-9b68624e8320",
   "metadata": {
    "slideshow": {
     "slide_type": "slide"
    }
   },
   "source": [
    "# Supply v/s Demand Analysis\n",
    "\n",
    "As we can see from the above bar plots, the biggest problem Uber is facing is the non-availability of cabs at the airports, at night from 7 PM - 11 PM. The second major problem is that driver cancellation occurrs to requests from the City to the Airport in the mornings from 6 AM - 11 AM. We can conclude that the biggest demand for the cabs are in those two time slots.\n",
    "\n",
    "With this information at hand, we can further drill down within our dataset to analyze the requests by the hour, to get more detailed information at a granular level. First we can go ahead and calculate the necessary variables such as demand, supply etc below.\n",
    "\n",
    "We can then use line plots to observe the exact nature and trend of the supply of drivers through the hours of the day correspondingly with the number of requests raised by the customers."
   ]
  },
  {
   "cell_type": "code",
   "execution_count": 35,
   "id": "62dfd048-d21c-42eb-8c37-f424dbfa1f0f",
   "metadata": {},
   "outputs": [
    {
     "name": "stdout",
     "output_type": "stream",
     "text": [
      "Total Available Drivers: 300\n",
      "Total Requests Booked: 6745\n",
      "Total Number of Days Cabs were booked: 4\n",
      "Total Cab Demand per day: 1686.0\n",
      "Total Driver Supply per day: 75.0\n",
      "Average Drivers Available per request: 22.0\n"
     ]
    }
   ],
   "source": [
    "# Let us find out some useful information from the dataset that might help with the observations in demand and supply.\n",
    "total_drivers = df['Driver id'].nunique()\n",
    "total_requests = df['Request id'].nunique()\n",
    "total_booking_days = df['Request Day'].nunique()\n",
    "per_day_demand = np.round(total_requests / total_booking_days)\n",
    "per_day_supply = np.round(total_drivers / total_booking_days)\n",
    "drivers_available_per_request = np.round(total_requests / total_drivers)\n",
    "\n",
    "print(f'Total Available Drivers: {total_drivers}')\n",
    "print(f'Total Requests Booked: {total_requests}')\n",
    "print(f'Total Number of Days Cabs were booked: {total_booking_days}')\n",
    "print(f'Total Cab Demand per day: {per_day_demand}')\n",
    "print(f'Total Driver Supply per day: {per_day_supply}')\n",
    "print(f'Average Drivers Available per request: {drivers_available_per_request}')"
   ]
  },
  {
   "cell_type": "code",
   "execution_count": 36,
   "id": "4b39f2e8-fcca-43c8-b4a0-12be4fcc7b71",
   "metadata": {
    "tags": []
   },
   "outputs": [
    {
     "data": {
      "image/png": "[encoded data removed]",
      "text/plain": [
       "<Figure size 432x288 with 1 Axes>"
      ]
     },
     "metadata": {
      "needs_background": "light"
     },
     "output_type": "display_data"
    }
   ],
   "source": [
    "# Let us plot and visualize the information we have obtained.\n",
    "# First we can plot how the requests flowed into the app by the hour to observe the demand.\n",
    "sns.lineplot(data = df.groupby(['Request Hour']).size().to_frame('Per Hour Request Count').reset_index(),\n",
    "             x = 'Request Hour', y = 'Per Hour Request Count')\n",
    "plt.show()"
   ]
  },
  {
   "cell_type": "code",
   "execution_count": 37,
   "id": "0cc3c8a7-da85-4ace-97bf-758ff7963ea7",
   "metadata": {},
   "outputs": [
    {
     "data": {
      "image/png": "[encoded data removed]",
      "text/plain": [
       "<Figure size 432x288 with 1 Axes>"
      ]
     },
     "metadata": {
      "needs_background": "light"
     },
     "output_type": "display_data"
    }
   ],
   "source": [
    "# Let us filter out only the rows where the trips have been successfully completed,\n",
    "# and observe the requests fulfilled per hour.\n",
    "trips_completed_df = df[df['Status'] == 'Trip Completed']\n",
    "sns.lineplot(data = trips_completed_df.groupby(['Request Hour']).size().to_frame('Per Hour Request Supplied').reset_index(),\n",
    "             x = 'Request Hour', y = 'Per Hour Request Supplied')\n",
    "plt.show()"
   ]
  },
  {
   "cell_type": "code",
   "execution_count": 62,
   "id": "42aa6ada-6ce6-4ee9-a74e-7c09af5db757",
   "metadata": {},
   "outputs": [
    {
     "data": {
      "image/png": "[encoded data removed]",
      "text/plain": [
       "<Figure size 432x288 with 1 Axes>"
      ]
     },
     "metadata": {
      "needs_background": "light"
     },
     "output_type": "display_data"
    }
   ],
   "source": [
    "# Now that we have the observations of demand and supply throughout the hour, we can calculate the difference\n",
    "# which essentially becomes the Demand - Supply Gap.\n",
    "demand = df.groupby(['Request Hour']).size().to_frame('Demand')\n",
    "supply = trips_completed_df.groupby(['Request Hour']).size().to_frame('Supply')\n",
    "demand_supply_gap = demand['Demand'] - supply['Supply']\n",
    "\n",
    "sns.lineplot(data = demand_supply_gap.to_frame('Demand Supply Gap').reset_index(),\n",
    "             x = 'Request Hour', y = 'Demand Supply Gap')\n",
    "plt.show()"
   ]
  },
  {
   "cell_type": "code",
   "execution_count": 64,
   "id": "86685a6c-44a9-4116-9d68-059aa7dca90c",
   "metadata": {},
   "outputs": [
    {
     "data": {
      "image/png": "[encoded data removed]",
      "text/plain": [
       "<Figure size 432x288 with 1 Axes>"
      ]
     },
     "metadata": {
      "needs_background": "light"
     },
     "output_type": "display_data"
    }
   ],
   "source": [
    "# Let us combine everything into a single dataframe and plot it together to visualize it better.\n",
    "demand_supply_gap_df = pd.concat([demand, supply, pd.DataFrame(demand_supply_gap, columns = ['Demand Supply Gap'])], axis = 1)\n",
    "sns.lineplot(data = demand_supply_gap_df)\n",
    "plt.show()"
   ]
  },
  {
   "cell_type": "markdown",
   "id": "b2a48359-1c89-4226-8a5e-aa80beaa9604",
   "metadata": {},
   "source": [
    "We can clearly see above that there is a massive gap between the demand and the supply in those morning and the night windows. Line plots allow us to look at the trend of data over time periods, enabling us to look at current trends as well as get an amazing idea of behaviour of variables, so we can forecast them for the future."
   ]
  },
  {
   "cell_type": "markdown",
   "id": "dc149c31-6c33-4565-908a-5547dab0e2ab",
   "metadata": {
    "slideshow": {
     "slide_type": "slide"
    }
   },
   "source": [
    "# Further Investigations and Recommendations.\n",
    "\n",
    "The supply demand analysis above enables us to closely understand the data behind the problem statement at hand and to think of further questions that would enable us to come to an even more concrete conclusion.\n",
    "\n",
    "Here are some areas we can investigate further:\n",
    "1. <b>Airport - City Proximity: </b>A potential reason for cancellations by drivers could be the distance between the two locations. Is the airport located further away from the city or is it nearer ?\n",
    "2. <b>Traffic Data: </b>As we are seeing a high number of cancellations to airport drops in the mornings, high traffic congestions in the routes to the airport could indicate a potential reason for cancellation.\n",
    "3. <b>Flight Data: </b>Flight data can be a great source of data to forecast cab demands to and from the airport. As we are seeing many cancellations in the morning, a potential reason could be increased driver wait time for pickups from the airport. Lesser flights arriving at that particular time, would mean very long driver wait times, leading to driver cancellation.\n",
    "4. <b>City Request Location Data: </b>Observing the location data within the city where the request to the airport is made could provide a potential clue, so cabs can be tailored to be available within such specific locations to the city should the need arise.\n",
    "5. <b>Driver Logout Time: </b>As we are seeing a lot of unavailability of cabs at night at the airport, a potential reason could be that the drivers during that time would be winding up for the day."
   ]
  },
  {
   "cell_type": "markdown",
   "id": "b2001075",
   "metadata": {},
   "source": [
    "## Recommendations and Potential Solutions.\n",
    "1. Use flight data to potentially forecast the demand for cabs, and adjust the cab presence accordingly by recommending trips to drivers that are nearer to the airport location beforehand thereby reducing driver proximity to the airport.\n",
    "2. Using the same flight data, we can also ensure driver wait times at the airport are reduced, by recommending them trips nearer to the airport location when there are more number of flights arriving to the city.\n",
    "3. Incentivizing the drivers who take airport trips at night, by either allowing them to take the following day off, or start late, or with a bonus for every such trip, or once in 3 trips etc could be attempted.\n",
    "4. A small separate line of cars, that would ferry multiple people to the airport from specific locations where the request to the airport is high, could help to meet the increased demand while at the same time reducing traffic congestion on routes to the airport by preventing a higher volume of cars being on the road at the same time."
   ]
  }
 ],
 "metadata": {
  "kernelspec": {
   "display_name": "Python 3 (ipykernel)",
   "language": "python",
   "name": "python3"
  },
  "language_info": {
   "codemirror_mode": {
    "name": "ipython",
    "version": 3
   },
   "file_extension": ".py",
   "mimetype": "text/x-python",
   "name": "python",
   "nbconvert_exporter": "python",
   "pygments_lexer": "ipython3",
   "version": "3.9.12"
  }
 },
 "nbformat": 4,
 "nbformat_minor": 5
}
