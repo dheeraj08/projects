{
 "cells": [
  {
   "cell_type": "markdown",
   "id": "e834c93a-3ed4-4650-9c1f-e347e589b75c",
   "metadata": {},
   "source": [
    "# Click Through Rate Prediction"
   ]
  },
  {
   "cell_type": "code",
   "execution_count": 132,
   "id": "2c8e6f81-d76c-4341-8b35-9ab443037bd3",
   "metadata": {},
   "outputs": [],
   "source": [
    "# Import the necessary libraries.\n",
    "import numpy as np\n",
    "import pandas as pd\n",
    "import matplotlib.pyplot as plt\n",
    "import seaborn as sns"
   ]
  },
  {
   "cell_type": "code",
   "execution_count": 133,
   "id": "5b16be5c-36e2-44d4-b237-ea7cb7819cc3",
   "metadata": {},
   "outputs": [],
   "source": [
    "# Read the dataset.\n",
    "df = pd.read_csv('data.csv')"
   ]
  },
  {
   "cell_type": "code",
   "execution_count": 134,
   "id": "2d974bd9-5bf1-4e3b-9a2a-df92c13a4e16",
   "metadata": {},
   "outputs": [
    {
     "data": {
      "text/html": [
       "<div>\n",
       "<style scoped>\n",
       "    .dataframe tbody tr th:only-of-type {\n",
       "        vertical-align: middle;\n",
       "    }\n",
       "\n",
       "    .dataframe tbody tr th {\n",
       "        vertical-align: top;\n",
       "    }\n",
       "\n",
       "    .dataframe thead th {\n",
       "        text-align: right;\n",
       "    }\n",
       "</style>\n",
       "<table border=\"1\" class=\"dataframe\">\n",
       "  <thead>\n",
       "    <tr style=\"text-align: right;\">\n",
       "      <th></th>\n",
       "      <th>click</th>\n",
       "      <th>C1</th>\n",
       "      <th>banner_pos</th>\n",
       "      <th>site_id</th>\n",
       "      <th>site_domain</th>\n",
       "      <th>site_category</th>\n",
       "      <th>app_id</th>\n",
       "      <th>app_domain</th>\n",
       "      <th>app_category</th>\n",
       "      <th>device_id</th>\n",
       "      <th>...</th>\n",
       "      <th>C17</th>\n",
       "      <th>C18</th>\n",
       "      <th>C19</th>\n",
       "      <th>C20</th>\n",
       "      <th>C21</th>\n",
       "      <th>month</th>\n",
       "      <th>dayofweek</th>\n",
       "      <th>day</th>\n",
       "      <th>hour</th>\n",
       "      <th>y</th>\n",
       "    </tr>\n",
       "  </thead>\n",
       "  <tbody>\n",
       "    <tr>\n",
       "      <th>0</th>\n",
       "      <td>False</td>\n",
       "      <td>1005</td>\n",
       "      <td>1</td>\n",
       "      <td>856e6d3f</td>\n",
       "      <td>58a89a43</td>\n",
       "      <td>f028772b</td>\n",
       "      <td>ecad2386</td>\n",
       "      <td>7801e8d9</td>\n",
       "      <td>07d7df22</td>\n",
       "      <td>a99f214a</td>\n",
       "      <td>...</td>\n",
       "      <td>2528</td>\n",
       "      <td>0</td>\n",
       "      <td>39</td>\n",
       "      <td>100075</td>\n",
       "      <td>221</td>\n",
       "      <td>10</td>\n",
       "      <td>1</td>\n",
       "      <td>28</td>\n",
       "      <td>14</td>\n",
       "      <td>0</td>\n",
       "    </tr>\n",
       "    <tr>\n",
       "      <th>1</th>\n",
       "      <td>True</td>\n",
       "      <td>1005</td>\n",
       "      <td>1</td>\n",
       "      <td>e151e245</td>\n",
       "      <td>7e091613</td>\n",
       "      <td>f028772b</td>\n",
       "      <td>ecad2386</td>\n",
       "      <td>7801e8d9</td>\n",
       "      <td>07d7df22</td>\n",
       "      <td>a99f214a</td>\n",
       "      <td>...</td>\n",
       "      <td>1934</td>\n",
       "      <td>2</td>\n",
       "      <td>39</td>\n",
       "      <td>-1</td>\n",
       "      <td>16</td>\n",
       "      <td>10</td>\n",
       "      <td>2</td>\n",
       "      <td>22</td>\n",
       "      <td>19</td>\n",
       "      <td>1</td>\n",
       "    </tr>\n",
       "    <tr>\n",
       "      <th>2</th>\n",
       "      <td>False</td>\n",
       "      <td>1005</td>\n",
       "      <td>0</td>\n",
       "      <td>e3c09f3a</td>\n",
       "      <td>d262cf1e</td>\n",
       "      <td>28905ebd</td>\n",
       "      <td>ecad2386</td>\n",
       "      <td>7801e8d9</td>\n",
       "      <td>07d7df22</td>\n",
       "      <td>a99f214a</td>\n",
       "      <td>...</td>\n",
       "      <td>2552</td>\n",
       "      <td>3</td>\n",
       "      <td>167</td>\n",
       "      <td>100202</td>\n",
       "      <td>23</td>\n",
       "      <td>10</td>\n",
       "      <td>3</td>\n",
       "      <td>23</td>\n",
       "      <td>18</td>\n",
       "      <td>0</td>\n",
       "    </tr>\n",
       "    <tr>\n",
       "      <th>3</th>\n",
       "      <td>False</td>\n",
       "      <td>1002</td>\n",
       "      <td>0</td>\n",
       "      <td>0da94452</td>\n",
       "      <td>248e439f</td>\n",
       "      <td>50e219e0</td>\n",
       "      <td>ecad2386</td>\n",
       "      <td>7801e8d9</td>\n",
       "      <td>07d7df22</td>\n",
       "      <td>0fa578fd</td>\n",
       "      <td>...</td>\n",
       "      <td>2478</td>\n",
       "      <td>3</td>\n",
       "      <td>167</td>\n",
       "      <td>100074</td>\n",
       "      <td>23</td>\n",
       "      <td>10</td>\n",
       "      <td>2</td>\n",
       "      <td>22</td>\n",
       "      <td>19</td>\n",
       "      <td>0</td>\n",
       "    </tr>\n",
       "    <tr>\n",
       "      <th>4</th>\n",
       "      <td>True</td>\n",
       "      <td>1005</td>\n",
       "      <td>0</td>\n",
       "      <td>1fbe01fe</td>\n",
       "      <td>f3845767</td>\n",
       "      <td>28905ebd</td>\n",
       "      <td>ecad2386</td>\n",
       "      <td>7801e8d9</td>\n",
       "      <td>07d7df22</td>\n",
       "      <td>a99f214a</td>\n",
       "      <td>...</td>\n",
       "      <td>1722</td>\n",
       "      <td>0</td>\n",
       "      <td>35</td>\n",
       "      <td>-1</td>\n",
       "      <td>79</td>\n",
       "      <td>10</td>\n",
       "      <td>1</td>\n",
       "      <td>21</td>\n",
       "      <td>8</td>\n",
       "      <td>1</td>\n",
       "    </tr>\n",
       "  </tbody>\n",
       "</table>\n",
       "<p>5 rows × 27 columns</p>\n",
       "</div>"
      ],
      "text/plain": [
       "   click    C1  banner_pos   site_id site_domain site_category    app_id  \\\n",
       "0  False  1005           1  856e6d3f    58a89a43      f028772b  ecad2386   \n",
       "1   True  1005           1  e151e245    7e091613      f028772b  ecad2386   \n",
       "2  False  1005           0  e3c09f3a    d262cf1e      28905ebd  ecad2386   \n",
       "3  False  1002           0  0da94452    248e439f      50e219e0  ecad2386   \n",
       "4   True  1005           0  1fbe01fe    f3845767      28905ebd  ecad2386   \n",
       "\n",
       "  app_domain app_category device_id  ...   C17 C18  C19     C20  C21  month  \\\n",
       "0   7801e8d9     07d7df22  a99f214a  ...  2528   0   39  100075  221     10   \n",
       "1   7801e8d9     07d7df22  a99f214a  ...  1934   2   39      -1   16     10   \n",
       "2   7801e8d9     07d7df22  a99f214a  ...  2552   3  167  100202   23     10   \n",
       "3   7801e8d9     07d7df22  0fa578fd  ...  2478   3  167  100074   23     10   \n",
       "4   7801e8d9     07d7df22  a99f214a  ...  1722   0   35      -1   79     10   \n",
       "\n",
       "   dayofweek  day  hour  y  \n",
       "0          1   28    14  0  \n",
       "1          2   22    19  1  \n",
       "2          3   23    18  0  \n",
       "3          2   22    19  0  \n",
       "4          1   21     8  1  \n",
       "\n",
       "[5 rows x 27 columns]"
      ]
     },
     "execution_count": 134,
     "metadata": {},
     "output_type": "execute_result"
    }
   ],
   "source": [
    "# Observe the first 5 rows.\n",
    "df.head()"
   ]
  },
  {
   "cell_type": "code",
   "execution_count": 135,
   "id": "1cb080b2-d2da-4caf-a2c5-6dbc4a20294a",
   "metadata": {},
   "outputs": [
    {
     "name": "stdout",
     "output_type": "stream",
     "text": [
      "<class 'pandas.core.frame.DataFrame'>\n",
      "RangeIndex: 99999 entries, 0 to 99998\n",
      "Data columns (total 27 columns):\n",
      " #   Column            Non-Null Count  Dtype \n",
      "---  ------            --------------  ----- \n",
      " 0   click             99999 non-null  bool  \n",
      " 1   C1                99999 non-null  int64 \n",
      " 2   banner_pos        99999 non-null  int64 \n",
      " 3   site_id           99999 non-null  object\n",
      " 4   site_domain       99999 non-null  object\n",
      " 5   site_category     99999 non-null  object\n",
      " 6   app_id            99999 non-null  object\n",
      " 7   app_domain        99999 non-null  object\n",
      " 8   app_category      99999 non-null  object\n",
      " 9   device_id         99999 non-null  object\n",
      " 10  device_ip         99999 non-null  object\n",
      " 11  device_model      99999 non-null  object\n",
      " 12  device_type       99999 non-null  int64 \n",
      " 13  device_conn_type  99999 non-null  int64 \n",
      " 14  C14               99999 non-null  int64 \n",
      " 15  C15               99999 non-null  int64 \n",
      " 16  C16               99999 non-null  int64 \n",
      " 17  C17               99999 non-null  int64 \n",
      " 18  C18               99999 non-null  int64 \n",
      " 19  C19               99999 non-null  int64 \n",
      " 20  C20               99999 non-null  int64 \n",
      " 21  C21               99999 non-null  int64 \n",
      " 22  month             99999 non-null  int64 \n",
      " 23  dayofweek         99999 non-null  int64 \n",
      " 24  day               99999 non-null  int64 \n",
      " 25  hour              99999 non-null  int64 \n",
      " 26  y                 99999 non-null  int64 \n",
      "dtypes: bool(1), int64(17), object(9)\n",
      "memory usage: 19.9+ MB\n"
     ]
    }
   ],
   "source": [
    "# Observe the detailed information about the dataset columns.\n",
    "df.info()"
   ]
  },
  {
   "cell_type": "code",
   "execution_count": 136,
   "id": "f6def901-c16e-44d1-a5b0-43c3f68d4540",
   "metadata": {},
   "outputs": [
    {
     "data": {
      "text/plain": [
       "False    0.830198\n",
       "True     0.169802\n",
       "Name: click, dtype: float64"
      ]
     },
     "execution_count": 136,
     "metadata": {},
     "output_type": "execute_result"
    }
   ],
   "source": [
    "# As we can clearly see there is a class imbalance. \n",
    "df['click'].value_counts(normalize = True)"
   ]
  },
  {
   "cell_type": "markdown",
   "id": "840692a5-9cce-441f-a5b2-ca580b45e2e8",
   "metadata": {},
   "source": [
    "# Data Cleaning"
   ]
  },
  {
   "cell_type": "markdown",
   "id": "55202a62-c4bb-4d03-b947-abcc9d3b5387",
   "metadata": {},
   "source": [
    "### Anonymized Categorical Variable analysis.\n",
    "Now that the dataset is loaded, we will begin by observing our data. As we have a lot of anonyomized categorical variables, we do not have a context for their usefulness. We can analyze these variables and see if it is necessary to retain them."
   ]
  },
  {
   "cell_type": "code",
   "execution_count": 137,
   "id": "6d57ded6-f015-432c-aa50-ad0633a384dd",
   "metadata": {},
   "outputs": [
    {
     "data": {
      "text/html": [
       "<div>\n",
       "<style scoped>\n",
       "    .dataframe tbody tr th:only-of-type {\n",
       "        vertical-align: middle;\n",
       "    }\n",
       "\n",
       "    .dataframe tbody tr th {\n",
       "        vertical-align: top;\n",
       "    }\n",
       "\n",
       "    .dataframe thead th {\n",
       "        text-align: right;\n",
       "    }\n",
       "</style>\n",
       "<table border=\"1\" class=\"dataframe\">\n",
       "  <thead>\n",
       "    <tr style=\"text-align: right;\">\n",
       "      <th></th>\n",
       "      <th>C1</th>\n",
       "      <th>C14</th>\n",
       "      <th>C15</th>\n",
       "      <th>C16</th>\n",
       "      <th>C20</th>\n",
       "      <th>C21</th>\n",
       "    </tr>\n",
       "  </thead>\n",
       "  <tbody>\n",
       "    <tr>\n",
       "      <th>0</th>\n",
       "      <td>1005</td>\n",
       "      <td>22683</td>\n",
       "      <td>320</td>\n",
       "      <td>50</td>\n",
       "      <td>100075</td>\n",
       "      <td>221</td>\n",
       "    </tr>\n",
       "    <tr>\n",
       "      <th>1</th>\n",
       "      <td>1005</td>\n",
       "      <td>17037</td>\n",
       "      <td>320</td>\n",
       "      <td>50</td>\n",
       "      <td>-1</td>\n",
       "      <td>16</td>\n",
       "    </tr>\n",
       "    <tr>\n",
       "      <th>2</th>\n",
       "      <td>1005</td>\n",
       "      <td>22155</td>\n",
       "      <td>320</td>\n",
       "      <td>50</td>\n",
       "      <td>100202</td>\n",
       "      <td>23</td>\n",
       "    </tr>\n",
       "    <tr>\n",
       "      <th>3</th>\n",
       "      <td>1002</td>\n",
       "      <td>21591</td>\n",
       "      <td>320</td>\n",
       "      <td>50</td>\n",
       "      <td>100074</td>\n",
       "      <td>23</td>\n",
       "    </tr>\n",
       "    <tr>\n",
       "      <th>4</th>\n",
       "      <td>1005</td>\n",
       "      <td>15708</td>\n",
       "      <td>320</td>\n",
       "      <td>50</td>\n",
       "      <td>-1</td>\n",
       "      <td>79</td>\n",
       "    </tr>\n",
       "  </tbody>\n",
       "</table>\n",
       "</div>"
      ],
      "text/plain": [
       "     C1    C14  C15  C16     C20  C21\n",
       "0  1005  22683  320   50  100075  221\n",
       "1  1005  17037  320   50      -1   16\n",
       "2  1005  22155  320   50  100202   23\n",
       "3  1002  21591  320   50  100074   23\n",
       "4  1005  15708  320   50      -1   79"
      ]
     },
     "execution_count": 137,
     "metadata": {},
     "output_type": "execute_result"
    }
   ],
   "source": [
    "# Anonymized Categorical Variable analysis. First we filter out the required data.\n",
    "anon_categorical_cols = ['C1','C14','C15','C16','C20','C21']\n",
    "anon_categorical_data = df[anon_categorical_cols]\n",
    "anon_categorical_data.head()"
   ]
  },
  {
   "cell_type": "code",
   "execution_count": 138,
   "id": "5ed3a058-8cbf-4665-9d75-ba9cb1d24e0b",
   "metadata": {},
   "outputs": [
    {
     "data": {
      "image/png": "[encoded data removed]",
      "text/plain": [
       "<Figure size 648x360 with 1 Axes>"
      ]
     },
     "metadata": {
      "needs_background": "light"
     },
     "output_type": "display_data"
    }
   ],
   "source": [
    "# We then plot a box plot to observe for outliers in the data.\n",
    "plt.figure(figsize = (9,5))\n",
    "sns.boxplot(data = anon_categorical_data)\n",
    "plt.show()"
   ]
  },
  {
   "cell_type": "code",
   "execution_count": 139,
   "id": "0a31f826-0440-4a06-af00-98dc3e2852c6",
   "metadata": {},
   "outputs": [
    {
     "data": {
      "image/png": "[encoded data removed]",
      "text/plain": [
       "<Figure size 1080x864 with 2 Axes>"
      ]
     },
     "metadata": {
      "needs_background": "light"
     },
     "output_type": "display_data"
    }
   ],
   "source": [
    "# We can also observe for any correlations using a heatmap.\n",
    "f ,ax = plt.subplots(figsize=(15,12)) \n",
    "sns.heatmap(df.corr(), annot = True)\n",
    "plt.show()"
   ]
  },
  {
   "cell_type": "markdown",
   "id": "d2a0b0ca-1cc8-479b-9edb-a53d7446775e",
   "metadata": {},
   "source": [
    "We see a lot of correlations between the variables. Specifically we can see the following.\n",
    "1. <b>C14 has high correlation with C17 and C21.</b>\n",
    "2. <b>C21 shows correlation with C17 and C18.</b>\n",
    "3. <b>C1 with device_type and banner_pos.</b>\n",
    "\n",
    "We also observe a few other factors with the categorical variables.\n",
    "1. <b>Columns C15 and C16 have a lot of values in around 320 and 50.</b>\n",
    "2. <b>Column C20 shows a lot of -1 values not usually seen with categorical variables.</b>\n",
    "\n",
    "All these factors are good enough for us to drop these columns, which we have done below."
   ]
  },
  {
   "cell_type": "code",
   "execution_count": 140,
   "id": "479cc2ac-70df-42dd-aa31-0b7e16c92d43",
   "metadata": {},
   "outputs": [
    {
     "data": {
      "text/html": [
       "<div>\n",
       "<style scoped>\n",
       "    .dataframe tbody tr th:only-of-type {\n",
       "        vertical-align: middle;\n",
       "    }\n",
       "\n",
       "    .dataframe tbody tr th {\n",
       "        vertical-align: top;\n",
       "    }\n",
       "\n",
       "    .dataframe thead th {\n",
       "        text-align: right;\n",
       "    }\n",
       "</style>\n",
       "<table border=\"1\" class=\"dataframe\">\n",
       "  <thead>\n",
       "    <tr style=\"text-align: right;\">\n",
       "      <th></th>\n",
       "      <th>click</th>\n",
       "      <th>banner_pos</th>\n",
       "      <th>site_id</th>\n",
       "      <th>site_domain</th>\n",
       "      <th>site_category</th>\n",
       "      <th>app_id</th>\n",
       "      <th>app_domain</th>\n",
       "      <th>app_category</th>\n",
       "      <th>device_id</th>\n",
       "      <th>device_ip</th>\n",
       "      <th>...</th>\n",
       "      <th>device_type</th>\n",
       "      <th>device_conn_type</th>\n",
       "      <th>C17</th>\n",
       "      <th>C18</th>\n",
       "      <th>C19</th>\n",
       "      <th>month</th>\n",
       "      <th>dayofweek</th>\n",
       "      <th>day</th>\n",
       "      <th>hour</th>\n",
       "      <th>y</th>\n",
       "    </tr>\n",
       "  </thead>\n",
       "  <tbody>\n",
       "    <tr>\n",
       "      <th>0</th>\n",
       "      <td>False</td>\n",
       "      <td>1</td>\n",
       "      <td>856e6d3f</td>\n",
       "      <td>58a89a43</td>\n",
       "      <td>f028772b</td>\n",
       "      <td>ecad2386</td>\n",
       "      <td>7801e8d9</td>\n",
       "      <td>07d7df22</td>\n",
       "      <td>a99f214a</td>\n",
       "      <td>962c8333</td>\n",
       "      <td>...</td>\n",
       "      <td>1</td>\n",
       "      <td>0</td>\n",
       "      <td>2528</td>\n",
       "      <td>0</td>\n",
       "      <td>39</td>\n",
       "      <td>10</td>\n",
       "      <td>1</td>\n",
       "      <td>28</td>\n",
       "      <td>14</td>\n",
       "      <td>0</td>\n",
       "    </tr>\n",
       "    <tr>\n",
       "      <th>1</th>\n",
       "      <td>True</td>\n",
       "      <td>1</td>\n",
       "      <td>e151e245</td>\n",
       "      <td>7e091613</td>\n",
       "      <td>f028772b</td>\n",
       "      <td>ecad2386</td>\n",
       "      <td>7801e8d9</td>\n",
       "      <td>07d7df22</td>\n",
       "      <td>a99f214a</td>\n",
       "      <td>5b1f94b9</td>\n",
       "      <td>...</td>\n",
       "      <td>1</td>\n",
       "      <td>0</td>\n",
       "      <td>1934</td>\n",
       "      <td>2</td>\n",
       "      <td>39</td>\n",
       "      <td>10</td>\n",
       "      <td>2</td>\n",
       "      <td>22</td>\n",
       "      <td>19</td>\n",
       "      <td>1</td>\n",
       "    </tr>\n",
       "    <tr>\n",
       "      <th>2</th>\n",
       "      <td>False</td>\n",
       "      <td>0</td>\n",
       "      <td>e3c09f3a</td>\n",
       "      <td>d262cf1e</td>\n",
       "      <td>28905ebd</td>\n",
       "      <td>ecad2386</td>\n",
       "      <td>7801e8d9</td>\n",
       "      <td>07d7df22</td>\n",
       "      <td>a99f214a</td>\n",
       "      <td>a9a84f4c</td>\n",
       "      <td>...</td>\n",
       "      <td>1</td>\n",
       "      <td>0</td>\n",
       "      <td>2552</td>\n",
       "      <td>3</td>\n",
       "      <td>167</td>\n",
       "      <td>10</td>\n",
       "      <td>3</td>\n",
       "      <td>23</td>\n",
       "      <td>18</td>\n",
       "      <td>0</td>\n",
       "    </tr>\n",
       "    <tr>\n",
       "      <th>3</th>\n",
       "      <td>False</td>\n",
       "      <td>0</td>\n",
       "      <td>0da94452</td>\n",
       "      <td>248e439f</td>\n",
       "      <td>50e219e0</td>\n",
       "      <td>ecad2386</td>\n",
       "      <td>7801e8d9</td>\n",
       "      <td>07d7df22</td>\n",
       "      <td>0fa578fd</td>\n",
       "      <td>88c62dad</td>\n",
       "      <td>...</td>\n",
       "      <td>0</td>\n",
       "      <td>0</td>\n",
       "      <td>2478</td>\n",
       "      <td>3</td>\n",
       "      <td>167</td>\n",
       "      <td>10</td>\n",
       "      <td>2</td>\n",
       "      <td>22</td>\n",
       "      <td>19</td>\n",
       "      <td>0</td>\n",
       "    </tr>\n",
       "    <tr>\n",
       "      <th>4</th>\n",
       "      <td>True</td>\n",
       "      <td>0</td>\n",
       "      <td>1fbe01fe</td>\n",
       "      <td>f3845767</td>\n",
       "      <td>28905ebd</td>\n",
       "      <td>ecad2386</td>\n",
       "      <td>7801e8d9</td>\n",
       "      <td>07d7df22</td>\n",
       "      <td>a99f214a</td>\n",
       "      <td>1e5e0d0e</td>\n",
       "      <td>...</td>\n",
       "      <td>1</td>\n",
       "      <td>0</td>\n",
       "      <td>1722</td>\n",
       "      <td>0</td>\n",
       "      <td>35</td>\n",
       "      <td>10</td>\n",
       "      <td>1</td>\n",
       "      <td>21</td>\n",
       "      <td>8</td>\n",
       "      <td>1</td>\n",
       "    </tr>\n",
       "  </tbody>\n",
       "</table>\n",
       "<p>5 rows × 21 columns</p>\n",
       "</div>"
      ],
      "text/plain": [
       "   click  banner_pos   site_id site_domain site_category    app_id app_domain  \\\n",
       "0  False           1  856e6d3f    58a89a43      f028772b  ecad2386   7801e8d9   \n",
       "1   True           1  e151e245    7e091613      f028772b  ecad2386   7801e8d9   \n",
       "2  False           0  e3c09f3a    d262cf1e      28905ebd  ecad2386   7801e8d9   \n",
       "3  False           0  0da94452    248e439f      50e219e0  ecad2386   7801e8d9   \n",
       "4   True           0  1fbe01fe    f3845767      28905ebd  ecad2386   7801e8d9   \n",
       "\n",
       "  app_category device_id device_ip  ... device_type  device_conn_type   C17  \\\n",
       "0     07d7df22  a99f214a  962c8333  ...           1                 0  2528   \n",
       "1     07d7df22  a99f214a  5b1f94b9  ...           1                 0  1934   \n",
       "2     07d7df22  a99f214a  a9a84f4c  ...           1                 0  2552   \n",
       "3     07d7df22  0fa578fd  88c62dad  ...           0                 0  2478   \n",
       "4     07d7df22  a99f214a  1e5e0d0e  ...           1                 0  1722   \n",
       "\n",
       "   C18  C19  month  dayofweek  day  hour  y  \n",
       "0    0   39     10          1   28    14  0  \n",
       "1    2   39     10          2   22    19  1  \n",
       "2    3  167     10          3   23    18  0  \n",
       "3    3  167     10          2   22    19  0  \n",
       "4    0   35     10          1   21     8  1  \n",
       "\n",
       "[5 rows x 21 columns]"
      ]
     },
     "execution_count": 140,
     "metadata": {},
     "output_type": "execute_result"
    }
   ],
   "source": [
    "# Dropping the categorical columns.\n",
    "df = df.drop(columns = anon_categorical_cols, axis = 1)\n",
    "df.head()"
   ]
  },
  {
   "cell_type": "markdown",
   "id": "349bf908-e26d-451c-851c-ccc631d59acc",
   "metadata": {},
   "source": [
    "### Dropping unnecessary columns.\n",
    "We also observe that the columns from site_id to device_model contain a lot of data that is not present in a useful format. We would need to deal with these columns. We can remove the <b>device_id</b>, <b>device_ip</b> columns as they don't contain useful information that is relevant to our problem."
   ]
  },
  {
   "cell_type": "code",
   "execution_count": 141,
   "id": "3c547d6e-8967-424c-af45-9a94cdafb9b4",
   "metadata": {},
   "outputs": [
    {
     "data": {
      "text/html": [
       "<div>\n",
       "<style scoped>\n",
       "    .dataframe tbody tr th:only-of-type {\n",
       "        vertical-align: middle;\n",
       "    }\n",
       "\n",
       "    .dataframe tbody tr th {\n",
       "        vertical-align: top;\n",
       "    }\n",
       "\n",
       "    .dataframe thead th {\n",
       "        text-align: right;\n",
       "    }\n",
       "</style>\n",
       "<table border=\"1\" class=\"dataframe\">\n",
       "  <thead>\n",
       "    <tr style=\"text-align: right;\">\n",
       "      <th></th>\n",
       "      <th>banner_pos</th>\n",
       "      <th>site_id</th>\n",
       "      <th>site_domain</th>\n",
       "      <th>site_category</th>\n",
       "      <th>app_id</th>\n",
       "      <th>app_domain</th>\n",
       "      <th>app_category</th>\n",
       "      <th>device_model</th>\n",
       "      <th>device_type</th>\n",
       "      <th>device_conn_type</th>\n",
       "      <th>C17</th>\n",
       "      <th>C18</th>\n",
       "      <th>C19</th>\n",
       "      <th>dayofweek</th>\n",
       "      <th>day</th>\n",
       "      <th>hour</th>\n",
       "      <th>y</th>\n",
       "    </tr>\n",
       "  </thead>\n",
       "  <tbody>\n",
       "    <tr>\n",
       "      <th>0</th>\n",
       "      <td>1</td>\n",
       "      <td>856e6d3f</td>\n",
       "      <td>58a89a43</td>\n",
       "      <td>f028772b</td>\n",
       "      <td>ecad2386</td>\n",
       "      <td>7801e8d9</td>\n",
       "      <td>07d7df22</td>\n",
       "      <td>be6db1d7</td>\n",
       "      <td>1</td>\n",
       "      <td>0</td>\n",
       "      <td>2528</td>\n",
       "      <td>0</td>\n",
       "      <td>39</td>\n",
       "      <td>1</td>\n",
       "      <td>28</td>\n",
       "      <td>14</td>\n",
       "      <td>0</td>\n",
       "    </tr>\n",
       "    <tr>\n",
       "      <th>1</th>\n",
       "      <td>1</td>\n",
       "      <td>e151e245</td>\n",
       "      <td>7e091613</td>\n",
       "      <td>f028772b</td>\n",
       "      <td>ecad2386</td>\n",
       "      <td>7801e8d9</td>\n",
       "      <td>07d7df22</td>\n",
       "      <td>1b13b020</td>\n",
       "      <td>1</td>\n",
       "      <td>0</td>\n",
       "      <td>1934</td>\n",
       "      <td>2</td>\n",
       "      <td>39</td>\n",
       "      <td>2</td>\n",
       "      <td>22</td>\n",
       "      <td>19</td>\n",
       "      <td>1</td>\n",
       "    </tr>\n",
       "    <tr>\n",
       "      <th>2</th>\n",
       "      <td>0</td>\n",
       "      <td>e3c09f3a</td>\n",
       "      <td>d262cf1e</td>\n",
       "      <td>28905ebd</td>\n",
       "      <td>ecad2386</td>\n",
       "      <td>7801e8d9</td>\n",
       "      <td>07d7df22</td>\n",
       "      <td>9a45a8e8</td>\n",
       "      <td>1</td>\n",
       "      <td>0</td>\n",
       "      <td>2552</td>\n",
       "      <td>3</td>\n",
       "      <td>167</td>\n",
       "      <td>3</td>\n",
       "      <td>23</td>\n",
       "      <td>18</td>\n",
       "      <td>0</td>\n",
       "    </tr>\n",
       "    <tr>\n",
       "      <th>3</th>\n",
       "      <td>0</td>\n",
       "      <td>0da94452</td>\n",
       "      <td>248e439f</td>\n",
       "      <td>50e219e0</td>\n",
       "      <td>ecad2386</td>\n",
       "      <td>7801e8d9</td>\n",
       "      <td>07d7df22</td>\n",
       "      <td>ea6abc60</td>\n",
       "      <td>0</td>\n",
       "      <td>0</td>\n",
       "      <td>2478</td>\n",
       "      <td>3</td>\n",
       "      <td>167</td>\n",
       "      <td>2</td>\n",
       "      <td>22</td>\n",
       "      <td>19</td>\n",
       "      <td>0</td>\n",
       "    </tr>\n",
       "    <tr>\n",
       "      <th>4</th>\n",
       "      <td>0</td>\n",
       "      <td>1fbe01fe</td>\n",
       "      <td>f3845767</td>\n",
       "      <td>28905ebd</td>\n",
       "      <td>ecad2386</td>\n",
       "      <td>7801e8d9</td>\n",
       "      <td>07d7df22</td>\n",
       "      <td>36d749e5</td>\n",
       "      <td>1</td>\n",
       "      <td>0</td>\n",
       "      <td>1722</td>\n",
       "      <td>0</td>\n",
       "      <td>35</td>\n",
       "      <td>1</td>\n",
       "      <td>21</td>\n",
       "      <td>8</td>\n",
       "      <td>1</td>\n",
       "    </tr>\n",
       "  </tbody>\n",
       "</table>\n",
       "</div>"
      ],
      "text/plain": [
       "   banner_pos   site_id site_domain site_category    app_id app_domain  \\\n",
       "0           1  856e6d3f    58a89a43      f028772b  ecad2386   7801e8d9   \n",
       "1           1  e151e245    7e091613      f028772b  ecad2386   7801e8d9   \n",
       "2           0  e3c09f3a    d262cf1e      28905ebd  ecad2386   7801e8d9   \n",
       "3           0  0da94452    248e439f      50e219e0  ecad2386   7801e8d9   \n",
       "4           0  1fbe01fe    f3845767      28905ebd  ecad2386   7801e8d9   \n",
       "\n",
       "  app_category device_model  device_type  device_conn_type   C17  C18  C19  \\\n",
       "0     07d7df22     be6db1d7            1                 0  2528    0   39   \n",
       "1     07d7df22     1b13b020            1                 0  1934    2   39   \n",
       "2     07d7df22     9a45a8e8            1                 0  2552    3  167   \n",
       "3     07d7df22     ea6abc60            0                 0  2478    3  167   \n",
       "4     07d7df22     36d749e5            1                 0  1722    0   35   \n",
       "\n",
       "   dayofweek  day  hour  y  \n",
       "0          1   28    14  0  \n",
       "1          2   22    19  1  \n",
       "2          3   23    18  0  \n",
       "3          2   22    19  0  \n",
       "4          1   21     8  1  "
      ]
     },
     "execution_count": 141,
     "metadata": {},
     "output_type": "execute_result"
    }
   ],
   "source": [
    "irrelevant_cols = ['device_id', 'device_ip', 'month', 'click']\n",
    "df = df.drop(columns = irrelevant_cols, axis = 1)\n",
    "df.head()"
   ]
  },
  {
   "cell_type": "code",
   "execution_count": 142,
   "id": "92788d3a-1d25-4c48-b466-1e0c1f47d8ff",
   "metadata": {},
   "outputs": [
    {
     "name": "stdout",
     "output_type": "stream",
     "text": [
      "SITE ID UNIQUE VALUE COUNT:  1485\n",
      "SITE DOMAIN UNIQUE VALUE COUNT:  1331\n",
      "SITE CATEGORY UNIQUE VALUE COUNT:  19\n",
      "APP ID UNIQUE VALUE COUNT:  1354\n",
      "APP DOMAIN UNIQUE VALUE COUNT:  96\n",
      "APP CATEGORY UNIQUE VALUE COUNT:  21\n",
      "DEVICE MODEL UNIQUE VALUE COUNT:  3145\n"
     ]
    }
   ],
   "source": [
    "# Checking the no of unique values in the object type categorical columns.\n",
    "print('SITE ID UNIQUE VALUE COUNT: ', len(df['site_id'].unique()))\n",
    "print('SITE DOMAIN UNIQUE VALUE COUNT: ', len(df['site_domain'].unique()))\n",
    "print('SITE CATEGORY UNIQUE VALUE COUNT: ', len(df['site_category'].unique()))\n",
    "print('APP ID UNIQUE VALUE COUNT: ', len(df['app_id'].unique()))\n",
    "print('APP DOMAIN UNIQUE VALUE COUNT: ', len(df['app_domain'].unique()))\n",
    "print('APP CATEGORY UNIQUE VALUE COUNT: ', len(df['app_category'].unique()))\n",
    "print('DEVICE MODEL UNIQUE VALUE COUNT: ', len(df['device_model'].unique()))"
   ]
  },
  {
   "cell_type": "markdown",
   "id": "31436040-59af-4e61-9a71-a6cb8753240f",
   "metadata": {},
   "source": [
    "# Data Transformation"
   ]
  },
  {
   "cell_type": "markdown",
   "id": "bba375bd-f135-42bf-87d1-c2ab1d8bef18",
   "metadata": {},
   "source": [
    "We have a lot of categorical data in our dataset. As we know that machine learning models need data in the form of numbers, we would have to do encoding for our data. We will proceed to do it below thereby preparing our dataset for modelling.\n",
    "\n",
    "One thing we would need to consider is the no of features that we have. Given that we have a lot of features, one hot encoding becomes impractical as it increases the no of features immeasurably.\n",
    "\n",
    "We will use it selectively and use Target encoding as well for our purposes here."
   ]
  },
  {
   "cell_type": "code",
   "execution_count": 143,
   "id": "de7fa994-5e10-4f43-9277-7f7998dff480",
   "metadata": {},
   "outputs": [],
   "source": [
    "# Perform One Hot Encoding for Numeric Categorical Variables.\n",
    "numeric_categorical_cols = ['banner_pos', 'device_type', 'device_conn_type']\n",
    "df = pd.get_dummies(df, columns = numeric_categorical_cols)"
   ]
  },
  {
   "cell_type": "code",
   "execution_count": 144,
   "id": "fcbd6369-b2da-4df9-ad58-027163ef2a2c",
   "metadata": {},
   "outputs": [
    {
     "data": {
      "text/plain": [
       "Index(['site_id', 'site_domain', 'site_category', 'app_id', 'app_domain',\n",
       "       'app_category', 'device_model', 'C17', 'C18', 'C19', 'dayofweek', 'day',\n",
       "       'hour', 'y', 'banner_pos_0', 'banner_pos_1', 'banner_pos_2',\n",
       "       'banner_pos_3', 'banner_pos_4', 'banner_pos_5', 'banner_pos_7',\n",
       "       'device_type_0', 'device_type_1', 'device_type_4', 'device_type_5',\n",
       "       'device_conn_type_0', 'device_conn_type_2', 'device_conn_type_3',\n",
       "       'device_conn_type_5'],\n",
       "      dtype='object')"
      ]
     },
     "execution_count": 144,
     "metadata": {},
     "output_type": "execute_result"
    }
   ],
   "source": [
    "df.columns"
   ]
  },
  {
   "cell_type": "code",
   "execution_count": 145,
   "id": "2e6dfbf9-6a26-43b8-894e-0b7c3558ab07",
   "metadata": {},
   "outputs": [
    {
     "data": {
      "text/plain": [
       "(99999, 29)"
      ]
     },
     "execution_count": 145,
     "metadata": {},
     "output_type": "execute_result"
    }
   ],
   "source": [
    "df.shape"
   ]
  },
  {
   "cell_type": "code",
   "execution_count": 146,
   "id": "f090abd1-e6db-4bdd-92ed-d272bb0bfc91",
   "metadata": {},
   "outputs": [
    {
     "name": "stdout",
     "output_type": "stream",
     "text": [
      "Requirement already satisfied: category_encoders in /Users/dheeraj/opt/anaconda3/lib/python3.9/site-packages (2.6.1)\n",
      "Requirement already satisfied: numpy>=1.14.0 in /Users/dheeraj/opt/anaconda3/lib/python3.9/site-packages (from category_encoders) (1.21.5)\n",
      "Requirement already satisfied: pandas>=1.0.5 in /Users/dheeraj/opt/anaconda3/lib/python3.9/site-packages (from category_encoders) (1.4.2)\n",
      "Requirement already satisfied: statsmodels>=0.9.0 in /Users/dheeraj/opt/anaconda3/lib/python3.9/site-packages (from category_encoders) (0.13.2)\n",
      "Requirement already satisfied: scipy>=1.0.0 in /Users/dheeraj/opt/anaconda3/lib/python3.9/site-packages (from category_encoders) (1.7.3)\n",
      "Requirement already satisfied: patsy>=0.5.1 in /Users/dheeraj/opt/anaconda3/lib/python3.9/site-packages (from category_encoders) (0.5.2)\n",
      "Requirement already satisfied: scikit-learn>=0.20.0 in /Users/dheeraj/opt/anaconda3/lib/python3.9/site-packages (from category_encoders) (1.0.2)\n",
      "Requirement already satisfied: python-dateutil>=2.8.1 in /Users/dheeraj/opt/anaconda3/lib/python3.9/site-packages (from pandas>=1.0.5->category_encoders) (2.8.2)\n",
      "Requirement already satisfied: pytz>=2020.1 in /Users/dheeraj/opt/anaconda3/lib/python3.9/site-packages (from pandas>=1.0.5->category_encoders) (2021.3)\n",
      "Requirement already satisfied: six in /Users/dheeraj/opt/anaconda3/lib/python3.9/site-packages (from patsy>=0.5.1->category_encoders) (1.16.0)\n",
      "Requirement already satisfied: threadpoolctl>=2.0.0 in /Users/dheeraj/opt/anaconda3/lib/python3.9/site-packages (from scikit-learn>=0.20.0->category_encoders) (2.2.0)\n",
      "Requirement already satisfied: joblib>=0.11 in /Users/dheeraj/opt/anaconda3/lib/python3.9/site-packages (from scikit-learn>=0.20.0->category_encoders) (1.1.0)\n",
      "Requirement already satisfied: packaging>=21.3 in /Users/dheeraj/opt/anaconda3/lib/python3.9/site-packages (from statsmodels>=0.9.0->category_encoders) (21.3)\n",
      "Requirement already satisfied: pyparsing!=3.0.5,>=2.0.2 in /Users/dheeraj/opt/anaconda3/lib/python3.9/site-packages (from packaging>=21.3->statsmodels>=0.9.0->category_encoders) (3.0.4)\n"
     ]
    }
   ],
   "source": [
    "! pip install category_encoders"
   ]
  },
  {
   "cell_type": "code",
   "execution_count": 147,
   "id": "417b2d03-3aff-473d-9567-f07906f8d6db",
   "metadata": {},
   "outputs": [
    {
     "data": {
      "text/html": [
       "<div>\n",
       "<style scoped>\n",
       "    .dataframe tbody tr th:only-of-type {\n",
       "        vertical-align: middle;\n",
       "    }\n",
       "\n",
       "    .dataframe tbody tr th {\n",
       "        vertical-align: top;\n",
       "    }\n",
       "\n",
       "    .dataframe thead th {\n",
       "        text-align: right;\n",
       "    }\n",
       "</style>\n",
       "<table border=\"1\" class=\"dataframe\">\n",
       "  <thead>\n",
       "    <tr style=\"text-align: right;\">\n",
       "      <th></th>\n",
       "      <th>site_id</th>\n",
       "      <th>site_domain</th>\n",
       "      <th>site_category</th>\n",
       "      <th>app_id</th>\n",
       "      <th>app_domain</th>\n",
       "      <th>app_category</th>\n",
       "      <th>device_model</th>\n",
       "      <th>C17</th>\n",
       "      <th>C18</th>\n",
       "      <th>C19</th>\n",
       "      <th>...</th>\n",
       "      <th>banner_pos_5</th>\n",
       "      <th>banner_pos_7</th>\n",
       "      <th>device_type_0</th>\n",
       "      <th>device_type_1</th>\n",
       "      <th>device_type_4</th>\n",
       "      <th>device_type_5</th>\n",
       "      <th>device_conn_type_0</th>\n",
       "      <th>device_conn_type_2</th>\n",
       "      <th>device_conn_type_3</th>\n",
       "      <th>device_conn_type_5</th>\n",
       "    </tr>\n",
       "  </thead>\n",
       "  <tbody>\n",
       "    <tr>\n",
       "      <th>0</th>\n",
       "      <td>0.034043</td>\n",
       "      <td>0.034043</td>\n",
       "      <td>0.176707</td>\n",
       "      <td>0.197227</td>\n",
       "      <td>0.194074</td>\n",
       "      <td>0.198258</td>\n",
       "      <td>0.189474</td>\n",
       "      <td>2528</td>\n",
       "      <td>0</td>\n",
       "      <td>39</td>\n",
       "      <td>...</td>\n",
       "      <td>0</td>\n",
       "      <td>0</td>\n",
       "      <td>0</td>\n",
       "      <td>1</td>\n",
       "      <td>0</td>\n",
       "      <td>0</td>\n",
       "      <td>1</td>\n",
       "      <td>0</td>\n",
       "      <td>0</td>\n",
       "      <td>0</td>\n",
       "    </tr>\n",
       "    <tr>\n",
       "      <th>1</th>\n",
       "      <td>0.296498</td>\n",
       "      <td>0.258816</td>\n",
       "      <td>0.176707</td>\n",
       "      <td>0.197227</td>\n",
       "      <td>0.194074</td>\n",
       "      <td>0.198258</td>\n",
       "      <td>0.276074</td>\n",
       "      <td>1934</td>\n",
       "      <td>2</td>\n",
       "      <td>39</td>\n",
       "      <td>...</td>\n",
       "      <td>0</td>\n",
       "      <td>0</td>\n",
       "      <td>0</td>\n",
       "      <td>1</td>\n",
       "      <td>0</td>\n",
       "      <td>0</td>\n",
       "      <td>1</td>\n",
       "      <td>0</td>\n",
       "      <td>0</td>\n",
       "      <td>0</td>\n",
       "    </tr>\n",
       "    <tr>\n",
       "      <th>2</th>\n",
       "      <td>0.052133</td>\n",
       "      <td>0.034853</td>\n",
       "      <td>0.205942</td>\n",
       "      <td>0.197227</td>\n",
       "      <td>0.194074</td>\n",
       "      <td>0.198258</td>\n",
       "      <td>0.097858</td>\n",
       "      <td>2552</td>\n",
       "      <td>3</td>\n",
       "      <td>167</td>\n",
       "      <td>...</td>\n",
       "      <td>0</td>\n",
       "      <td>0</td>\n",
       "      <td>0</td>\n",
       "      <td>1</td>\n",
       "      <td>0</td>\n",
       "      <td>0</td>\n",
       "      <td>1</td>\n",
       "      <td>0</td>\n",
       "      <td>0</td>\n",
       "      <td>0</td>\n",
       "    </tr>\n",
       "    <tr>\n",
       "      <th>3</th>\n",
       "      <td>0.136212</td>\n",
       "      <td>0.138826</td>\n",
       "      <td>0.131223</td>\n",
       "      <td>0.197227</td>\n",
       "      <td>0.194074</td>\n",
       "      <td>0.198258</td>\n",
       "      <td>0.189147</td>\n",
       "      <td>2478</td>\n",
       "      <td>3</td>\n",
       "      <td>167</td>\n",
       "      <td>...</td>\n",
       "      <td>0</td>\n",
       "      <td>0</td>\n",
       "      <td>1</td>\n",
       "      <td>0</td>\n",
       "      <td>0</td>\n",
       "      <td>0</td>\n",
       "      <td>1</td>\n",
       "      <td>0</td>\n",
       "      <td>0</td>\n",
       "      <td>0</td>\n",
       "    </tr>\n",
       "    <tr>\n",
       "      <th>4</th>\n",
       "      <td>0.202875</td>\n",
       "      <td>0.202875</td>\n",
       "      <td>0.205942</td>\n",
       "      <td>0.197227</td>\n",
       "      <td>0.194074</td>\n",
       "      <td>0.198258</td>\n",
       "      <td>0.224832</td>\n",
       "      <td>1722</td>\n",
       "      <td>0</td>\n",
       "      <td>35</td>\n",
       "      <td>...</td>\n",
       "      <td>0</td>\n",
       "      <td>0</td>\n",
       "      <td>0</td>\n",
       "      <td>1</td>\n",
       "      <td>0</td>\n",
       "      <td>0</td>\n",
       "      <td>1</td>\n",
       "      <td>0</td>\n",
       "      <td>0</td>\n",
       "      <td>0</td>\n",
       "    </tr>\n",
       "  </tbody>\n",
       "</table>\n",
       "<p>5 rows × 28 columns</p>\n",
       "</div>"
      ],
      "text/plain": [
       "    site_id  site_domain  site_category    app_id  app_domain  app_category  \\\n",
       "0  0.034043     0.034043       0.176707  0.197227    0.194074      0.198258   \n",
       "1  0.296498     0.258816       0.176707  0.197227    0.194074      0.198258   \n",
       "2  0.052133     0.034853       0.205942  0.197227    0.194074      0.198258   \n",
       "3  0.136212     0.138826       0.131223  0.197227    0.194074      0.198258   \n",
       "4  0.202875     0.202875       0.205942  0.197227    0.194074      0.198258   \n",
       "\n",
       "   device_model   C17  C18  C19  ...  banner_pos_5  banner_pos_7  \\\n",
       "0      0.189474  2528    0   39  ...             0             0   \n",
       "1      0.276074  1934    2   39  ...             0             0   \n",
       "2      0.097858  2552    3  167  ...             0             0   \n",
       "3      0.189147  2478    3  167  ...             0             0   \n",
       "4      0.224832  1722    0   35  ...             0             0   \n",
       "\n",
       "   device_type_0  device_type_1  device_type_4  device_type_5  \\\n",
       "0              0              1              0              0   \n",
       "1              0              1              0              0   \n",
       "2              0              1              0              0   \n",
       "3              1              0              0              0   \n",
       "4              0              1              0              0   \n",
       "\n",
       "   device_conn_type_0  device_conn_type_2  device_conn_type_3  \\\n",
       "0                   1                   0                   0   \n",
       "1                   1                   0                   0   \n",
       "2                   1                   0                   0   \n",
       "3                   1                   0                   0   \n",
       "4                   1                   0                   0   \n",
       "\n",
       "   device_conn_type_5  \n",
       "0                   0  \n",
       "1                   0  \n",
       "2                   0  \n",
       "3                   0  \n",
       "4                   0  \n",
       "\n",
       "[5 rows x 28 columns]"
      ]
     },
     "execution_count": 147,
     "metadata": {},
     "output_type": "execute_result"
    }
   ],
   "source": [
    "from category_encoders import TargetEncoder\n",
    "\n",
    "X = df.loc[:, df.columns != 'y']\n",
    "y = df.loc[:, 'y']\n",
    "\n",
    "target_encoder = TargetEncoder()\n",
    "X = target_encoder.fit_transform(X, y)\n",
    "X.head()"
   ]
  },
  {
   "cell_type": "markdown",
   "id": "20eedf46-b248-4c4b-b5c8-fe5f0d43767b",
   "metadata": {},
   "source": [
    "# Model Building\n",
    "Now that we have prepared and cleaned the dataset, we can proceed to building models for performing the CTR prediction.\n",
    "We have learnt three models that can potentially be used for classfication problems:\n",
    "1. Logistic Regression\n",
    "2. Decision Trees\n",
    "3. Random Forests.\n",
    "\n",
    "We can have a look at each of the approaches one by one below."
   ]
  },
  {
   "cell_type": "markdown",
   "id": "058cb7a5-ee80-4af7-8ec4-fde781df7845",
   "metadata": {},
   "source": [
    "### Logistic Regression"
   ]
  },
  {
   "cell_type": "code",
   "execution_count": 148,
   "id": "fa1e6aff-ccf7-4569-b97f-171e37aa8c2e",
   "metadata": {},
   "outputs": [],
   "source": [
    "# Importing the necessary functions from the Scikit-Learn Machine Learning Library.\n",
    "from sklearn.model_selection import train_test_split\n",
    "from sklearn.linear_model import LogisticRegression\n",
    "\n",
    "# Split the data into train and test sets. We have taken a 70:30 Train-Test split ratio.\n",
    "X_train, X_test, y_train, y_test = train_test_split(X, y, test_size = 0.3, random_state = 0)\n",
    "\n",
    "# Post splitting we will scale the data.\n",
    "from sklearn.preprocessing import StandardScaler\n",
    "scaler = StandardScaler()\n",
    "X_train = scaler.fit_transform(X_train)\n",
    "X_test = scaler.transform(X_test)"
   ]
  },
  {
   "cell_type": "code",
   "execution_count": 149,
   "id": "a0ed09a3-2782-4e32-b95f-1141c6cbdec2",
   "metadata": {},
   "outputs": [],
   "source": [
    "# Calculating a base line for comparing the model. \n",
    "from sklearn.dummy import DummyClassifier"
   ]
  },
  {
   "cell_type": "code",
   "execution_count": 150,
   "id": "40b621ae-f196-486c-b653-2ae01a5c0adf",
   "metadata": {},
   "outputs": [
    {
     "name": "stdout",
     "output_type": "stream",
     "text": [
      "Baseline Accuracy =  0.8293333333333334\n"
     ]
    }
   ],
   "source": [
    "dummy_classifier = DummyClassifier(strategy='most_frequent')\n",
    "dummy_classifier.fit(X_train,y_train)\n",
    "baseline_acc = dummy_classifier.score(X_test,y_test)\n",
    "\n",
    "# We verify the baseline accuracy.\n",
    "print(\"Baseline Accuracy = \", baseline_acc)"
   ]
  },
  {
   "cell_type": "code",
   "execution_count": 151,
   "id": "dfce5216-3755-451a-80d9-1e157857ee32",
   "metadata": {},
   "outputs": [
    {
     "name": "stdout",
     "output_type": "stream",
     "text": [
      "[[24880     0]\n",
      " [ 5120     0]]\n"
     ]
    },
    {
     "name": "stderr",
     "output_type": "stream",
     "text": [
      "/Users/dheeraj/opt/anaconda3/lib/python3.9/site-packages/sklearn/utils/deprecation.py:87: FutureWarning: Function plot_confusion_matrix is deprecated; Function `plot_confusion_matrix` is deprecated in 1.0 and will be removed in 1.2. Use one of the class methods: ConfusionMatrixDisplay.from_predictions or ConfusionMatrixDisplay.from_estimator.\n",
      "  warnings.warn(msg, category=FutureWarning)\n"
     ]
    },
    {
     "data": {
      "image/png": "[encoded data removed]",
      "text/plain": [
       "<Figure size 432x288 with 2 Axes>"
      ]
     },
     "metadata": {
      "needs_background": "light"
     },
     "output_type": "display_data"
    }
   ],
   "source": [
    "import sklearn.metrics as metrics\n",
    "\n",
    "y_pred_base=dummy_classifier.predict(X_test)\n",
    "\n",
    "# Plot and print confusion matrix\n",
    "cnf_matrix = metrics.confusion_matrix(y_test, y_pred_base)\n",
    "print(cnf_matrix)\n",
    "metrics.plot_confusion_matrix(dummy_classifier, X_test, y_test)\n",
    "plt.show()"
   ]
  },
  {
   "cell_type": "code",
   "execution_count": 152,
   "id": "f2ce3c52-b7d1-4479-8a4c-11f88ba6c999",
   "metadata": {},
   "outputs": [
    {
     "data": {
      "image/png": "[encoded data removed]",
      "text/plain": [
       "<Figure size 432x288 with 1 Axes>"
      ]
     },
     "metadata": {
      "needs_background": "light"
     },
     "output_type": "display_data"
    },
    {
     "data": {
      "image/png": "[encoded data removed]",
      "text/plain": [
       "<Figure size 432x288 with 1 Axes>"
      ]
     },
     "metadata": {
      "needs_background": "light"
     },
     "output_type": "display_data"
    }
   ],
   "source": [
    "# Drawing the ROC Curve for the baseline. We will see that the line is the worst possible line.\n",
    "from sklearn.metrics import RocCurveDisplay\n",
    "\n",
    "roc_train = RocCurveDisplay.from_estimator(dummy_classifier, X_train, y_train, name='Train Data')\n",
    "roc_test = RocCurveDisplay.from_estimator(dummy_classifier, X_test, y_test, name='Test Data')\n",
    "plt.title('Receiver operating characteristic (ROC) Curve')\n",
    "plt.legend(loc=\"lower right\")\n",
    "plt.show()"
   ]
  },
  {
   "cell_type": "code",
   "execution_count": 153,
   "id": "66686af0-2024-4ef1-984e-cf9f129c8b84",
   "metadata": {},
   "outputs": [
    {
     "data": {
      "text/plain": [
       "LogisticRegression()"
      ]
     },
     "execution_count": 153,
     "metadata": {},
     "output_type": "execute_result"
    }
   ],
   "source": [
    "# Declare the model.\n",
    "logistic_regression = LogisticRegression()\n",
    "\n",
    "# Fit the model on the training data.\n",
    "logistic_regression.fit(X_train, y_train)"
   ]
  },
  {
   "cell_type": "code",
   "execution_count": 154,
   "id": "c55a4e42-4602-4d94-b88d-a576c5cff85e",
   "metadata": {},
   "outputs": [
    {
     "data": {
      "text/plain": [
       "array([[ 4.24130275e-01,  1.74337777e-01, -2.79497533e-02,\n",
       "         7.67172106e-01, -1.71426811e-01, -2.63196494e-01,\n",
       "         3.68261614e-01, -7.34928728e-02, -4.97294924e-02,\n",
       "         5.16686832e-02,  4.15007584e-03, -8.30184968e-03,\n",
       "        -2.80747527e-02, -2.65478751e-02,  3.18420033e-02,\n",
       "        -2.02776344e-02,  1.47889985e-02, -1.14593232e-01,\n",
       "        -7.06873854e-02,  1.00131154e-02, -1.79552027e-02,\n",
       "        -4.09038371e-03,  2.84618819e-02,  2.07543735e-02,\n",
       "        -2.77622345e-02,  1.20865323e-04,  4.26329719e-02,\n",
       "        -6.00578807e-03]])"
      ]
     },
     "execution_count": 154,
     "metadata": {},
     "output_type": "execute_result"
    }
   ],
   "source": [
    "# Get the Beta values for all the independent variables.\n",
    "logistic_regression.coef_"
   ]
  },
  {
   "cell_type": "code",
   "execution_count": 155,
   "id": "52c51700-99fd-4bb5-b0ac-d9ac7598154c",
   "metadata": {},
   "outputs": [
    {
     "name": "stdout",
     "output_type": "stream",
     "text": [
      "ACCURACY SCORE: 0.8332333333333334\n"
     ]
    }
   ],
   "source": [
    "# Test the predictions of the model by predicting the values using the data.\n",
    "from sklearn import metrics\n",
    "y_pred = logistic_regression.predict(X_test)\n",
    "print(f'ACCURACY SCORE: {metrics.accuracy_score(y_test, y_pred)}')"
   ]
  },
  {
   "cell_type": "markdown",
   "id": "a324d0a4-24c7-44a6-839a-84fd94672b15",
   "metadata": {},
   "source": [
    "# Model Evaluation\n",
    "Now that the Logistic Regression model is built, and we have checked the accuracy, we can plot the confusion matrix and proceed to evaluate the model. We can also test for the ability of the model to classify by plotting the ROC Curve."
   ]
  },
  {
   "cell_type": "code",
   "execution_count": 156,
   "id": "71d46872-d8ab-452c-80a3-3122042f753b",
   "metadata": {},
   "outputs": [
    {
     "name": "stdout",
     "output_type": "stream",
     "text": [
      "CONFUSION MATRIX: [[24473   407]\n",
      " [ 4596   524]]\n"
     ]
    },
    {
     "name": "stderr",
     "output_type": "stream",
     "text": [
      "/Users/dheeraj/opt/anaconda3/lib/python3.9/site-packages/sklearn/utils/deprecation.py:87: FutureWarning: Function plot_confusion_matrix is deprecated; Function `plot_confusion_matrix` is deprecated in 1.0 and will be removed in 1.2. Use one of the class methods: ConfusionMatrixDisplay.from_predictions or ConfusionMatrixDisplay.from_estimator.\n",
      "  warnings.warn(msg, category=FutureWarning)\n"
     ]
    },
    {
     "data": {
      "text/plain": [
       "<Figure size 648x360 with 0 Axes>"
      ]
     },
     "metadata": {},
     "output_type": "display_data"
    },
    {
     "data": {
      "image/png": "[encoded data removed]",
      "text/plain": [
       "<Figure size 432x288 with 2 Axes>"
      ]
     },
     "metadata": {
      "needs_background": "light"
     },
     "output_type": "display_data"
    }
   ],
   "source": [
    "# Plot and print the confusion matrix.\n",
    "cnf_matrix = metrics.confusion_matrix(y_test, y_pred)\n",
    "print(f'CONFUSION MATRIX: {cnf_matrix}')\n",
    "plt.figure(figsize = (9,5))\n",
    "metrics.plot_confusion_matrix(logistic_regression, X_test, y_test)\n",
    "plt.show()"
   ]
  },
  {
   "cell_type": "code",
   "execution_count": 157,
   "id": "1229d6c4-8f9d-4c14-98d4-3516e8628845",
   "metadata": {},
   "outputs": [
    {
     "data": {
      "text/plain": [
       "0.7487505338122991"
      ]
     },
     "execution_count": 157,
     "metadata": {},
     "output_type": "execute_result"
    }
   ],
   "source": [
    "# Calculate the Area under the ROC Curve.\n",
    "from sklearn.metrics import roc_auc_score\n",
    "roc_auc_score(y_test, logistic_regression.predict_proba(X_test)[:, 1])"
   ]
  },
  {
   "cell_type": "markdown",
   "id": "5c64b3e8-ce51-4fc7-acab-cc55aad06d29",
   "metadata": {},
   "source": [
    "## Decision Trees"
   ]
  },
  {
   "cell_type": "code",
   "execution_count": 158,
   "id": "a7cdba31-fb04-4910-a3e7-f75baa7a2e77",
   "metadata": {},
   "outputs": [],
   "source": [
    "from sklearn.model_selection import train_test_split\n",
    "from sklearn.tree import DecisionTreeClassifier\n",
    "from sklearn.metrics import classification_report, confusion_matrix\n",
    "from sklearn import metrics"
   ]
  },
  {
   "cell_type": "code",
   "execution_count": 159,
   "id": "d23a1a6a-3916-445f-811b-c8269e851e7f",
   "metadata": {},
   "outputs": [],
   "source": [
    "# Create a Decision Tree\n",
    "model_dt = DecisionTreeClassifier()"
   ]
  },
  {
   "cell_type": "code",
   "execution_count": 160,
   "id": "e75b7e01-8e48-48bf-983e-2c1393ffed16",
   "metadata": {},
   "outputs": [
    {
     "data": {
      "text/plain": [
       "DecisionTreeClassifier()"
      ]
     },
     "execution_count": 160,
     "metadata": {},
     "output_type": "execute_result"
    }
   ],
   "source": [
    "# View the attributes of tree created\n",
    "model_dt"
   ]
  },
  {
   "cell_type": "code",
   "execution_count": 161,
   "id": "0fce1011-04e8-473c-9cf6-602a672e623b",
   "metadata": {},
   "outputs": [
    {
     "data": {
      "text/plain": [
       "DecisionTreeClassifier()"
      ]
     },
     "execution_count": 161,
     "metadata": {},
     "output_type": "execute_result"
    }
   ],
   "source": [
    "# Fit the training data\n",
    "model_dt.fit(X_train,y_train)"
   ]
  },
  {
   "cell_type": "code",
   "execution_count": 162,
   "id": "c7b7ff25-dad6-4370-8d8e-ad23a98fb917",
   "metadata": {},
   "outputs": [],
   "source": [
    "# Predict based on test data\n",
    "y_preds_DT = model_dt.predict(X_test)"
   ]
  },
  {
   "cell_type": "code",
   "execution_count": 163,
   "id": "f8be73ef-0063-4054-aeb9-bf4fba76e051",
   "metadata": {},
   "outputs": [
    {
     "data": {
      "text/plain": [
       "array([0, 1, 0, ..., 1, 0, 0])"
      ]
     },
     "execution_count": 163,
     "metadata": {},
     "output_type": "execute_result"
    }
   ],
   "source": [
    "# View the predictions\n",
    "y_preds_DT"
   ]
  },
  {
   "cell_type": "code",
   "execution_count": 164,
   "id": "6e3af372-7c11-4425-893b-9e27a1a63577",
   "metadata": {},
   "outputs": [],
   "source": [
    "# Calculate Accuracy\n",
    "accuracy_value_DT = metrics.accuracy_score(y_test,y_preds_DT)"
   ]
  },
  {
   "cell_type": "code",
   "execution_count": 165,
   "id": "d734f084-8c4a-4f14-bf5a-3b24a0dac1d8",
   "metadata": {},
   "outputs": [
    {
     "data": {
      "text/plain": [
       "0.7636"
      ]
     },
     "execution_count": 165,
     "metadata": {},
     "output_type": "execute_result"
    }
   ],
   "source": [
    "# View the accuracy\n",
    "accuracy_value_DT"
   ]
  },
  {
   "cell_type": "code",
   "execution_count": 166,
   "id": "6b4c3bc1-9a3e-4c13-b20e-1846a9cbee3b",
   "metadata": {},
   "outputs": [
    {
     "data": {
      "text/plain": [
       "array([[21415,  3465],\n",
       "       [ 3627,  1493]])"
      ]
     },
     "execution_count": 166,
     "metadata": {},
     "output_type": "execute_result"
    }
   ],
   "source": [
    "# Create and print confusion matrix\n",
    "confusion_matrix(y_test,y_preds_DT)"
   ]
  },
  {
   "cell_type": "code",
   "execution_count": 167,
   "id": "5b4c8e98-2818-4da9-a4ed-581736e81d8d",
   "metadata": {},
   "outputs": [
    {
     "name": "stderr",
     "output_type": "stream",
     "text": [
      "/Users/dheeraj/opt/anaconda3/lib/python3.9/site-packages/sklearn/utils/deprecation.py:87: FutureWarning: Function plot_confusion_matrix is deprecated; Function `plot_confusion_matrix` is deprecated in 1.0 and will be removed in 1.2. Use one of the class methods: ConfusionMatrixDisplay.from_predictions or ConfusionMatrixDisplay.from_estimator.\n",
      "  warnings.warn(msg, category=FutureWarning)\n"
     ]
    },
    {
     "data": {
      "text/plain": [
       "<sklearn.metrics._plot.confusion_matrix.ConfusionMatrixDisplay at 0x7fa33bfeedc0>"
      ]
     },
     "execution_count": 167,
     "metadata": {},
     "output_type": "execute_result"
    },
    {
     "data": {
      "image/png": "[encoded data removed]",
      "text/plain": [
       "<Figure size 432x288 with 2 Axes>"
      ]
     },
     "metadata": {
      "needs_background": "light"
     },
     "output_type": "display_data"
    }
   ],
   "source": [
    "metrics.plot_confusion_matrix(model_dt, X_test, y_test)"
   ]
  },
  {
   "cell_type": "code",
   "execution_count": 168,
   "id": "e07c7ac7-0fd2-40ae-a0c3-acbc8f90cf2b",
   "metadata": {},
   "outputs": [
    {
     "name": "stderr",
     "output_type": "stream",
     "text": [
      "/Users/dheeraj/opt/anaconda3/lib/python3.9/site-packages/sklearn/utils/deprecation.py:87: FutureWarning: Function plot_roc_curve is deprecated; Function :func:`plot_roc_curve` is deprecated in 1.0 and will be removed in 1.2. Use one of the class methods: :meth:`sklearn.metric.RocCurveDisplay.from_predictions` or :meth:`sklearn.metric.RocCurveDisplay.from_estimator`.\n",
      "  warnings.warn(msg, category=FutureWarning)\n"
     ]
    },
    {
     "data": {
      "image/png": "[encoded data removed]",
      "text/plain": [
       "<Figure size 432x288 with 1 Axes>"
      ]
     },
     "metadata": {
      "needs_background": "light"
     },
     "output_type": "display_data"
    }
   ],
   "source": [
    "metrics.plot_roc_curve(model_dt, X_test, y_test) \n",
    "plt.show()"
   ]
  },
  {
   "cell_type": "code",
   "execution_count": 169,
   "id": "151877c8-c795-47a3-954a-0f6baf9d51e8",
   "metadata": {},
   "outputs": [
    {
     "data": {
      "text/plain": [
       "31507"
      ]
     },
     "execution_count": 169,
     "metadata": {},
     "output_type": "execute_result"
    }
   ],
   "source": [
    "# Calculate the number of nodes in the tree\n",
    "model_dt.tree_.node_count"
   ]
  },
  {
   "cell_type": "markdown",
   "id": "4e2ae5fc-1e99-42c9-984c-91568ec6bcd2",
   "metadata": {},
   "source": [
    "## Grid Search - Tree Optimisation."
   ]
  },
  {
   "cell_type": "code",
   "execution_count": 170,
   "id": "f0243db1-ba7e-4789-8abb-d5e43fc4bc6c",
   "metadata": {},
   "outputs": [],
   "source": [
    "from sklearn.model_selection import GridSearchCV"
   ]
  },
  {
   "cell_type": "code",
   "execution_count": 171,
   "id": "5a72655b-b178-4735-977d-6958009ceb39",
   "metadata": {},
   "outputs": [],
   "source": [
    "# parameters to build the model on\n",
    "param_grid = {\n",
    "    'max_depth': range(5, 20, 5),\n",
    "    'min_samples_leaf': range(50, 200, 50),\n",
    "    'min_samples_split': range(50, 200, 50),\n",
    "    'criterion': [\"entropy\", \"gini\"],\n",
    "    'splitter' : [\"best\", \"random\"]\n",
    "}"
   ]
  },
  {
   "cell_type": "code",
   "execution_count": 172,
   "id": "76495e35-b2a8-4ed3-8af1-59d10e0f6e48",
   "metadata": {},
   "outputs": [],
   "source": [
    "# instantiate the model\n",
    "dt_grid = DecisionTreeClassifier(random_state = 42)\n",
    "\n",
    "# fit tree on training data\n",
    "gridsearch_DT = GridSearchCV(estimator = dt_grid, param_grid = param_grid, cv = 5, n_jobs=-1, verbose=True)"
   ]
  },
  {
   "cell_type": "code",
   "execution_count": 173,
   "id": "3b1ae57e-8fcb-4f4e-aa6b-23ddf62fc009",
   "metadata": {},
   "outputs": [
    {
     "name": "stdout",
     "output_type": "stream",
     "text": [
      "Fitting 5 folds for each of 108 candidates, totalling 540 fits\n"
     ]
    },
    {
     "data": {
      "text/plain": [
       "GridSearchCV(cv=5, estimator=DecisionTreeClassifier(random_state=42), n_jobs=-1,\n",
       "             param_grid={'criterion': ['entropy', 'gini'],\n",
       "                         'max_depth': range(5, 20, 5),\n",
       "                         'min_samples_leaf': range(50, 200, 50),\n",
       "                         'min_samples_split': range(50, 200, 50),\n",
       "                         'splitter': ['best', 'random']},\n",
       "             verbose=True)"
      ]
     },
     "execution_count": 173,
     "metadata": {},
     "output_type": "execute_result"
    }
   ],
   "source": [
    "# fit tree on training data\n",
    "gridsearch_DT.fit(X_train, y_train)"
   ]
  },
  {
   "cell_type": "code",
   "execution_count": 174,
   "id": "d2522570-365a-4c70-b142-ebe9ca9d87af",
   "metadata": {},
   "outputs": [
    {
     "data": {
      "text/plain": [
       "{'criterion': 'entropy',\n",
       " 'max_depth': 15,\n",
       " 'min_samples_leaf': 150,\n",
       " 'min_samples_split': 50,\n",
       " 'splitter': 'best'}"
      ]
     },
     "execution_count": 174,
     "metadata": {},
     "output_type": "execute_result"
    }
   ],
   "source": [
    "gridsearch_DT.best_params_"
   ]
  },
  {
   "cell_type": "code",
   "execution_count": 175,
   "id": "904e47c3-0e43-4709-bba4-2dabe44e6d56",
   "metadata": {},
   "outputs": [
    {
     "data": {
      "text/plain": [
       "0.835797651873093"
      ]
     },
     "execution_count": 175,
     "metadata": {},
     "output_type": "execute_result"
    }
   ],
   "source": [
    "gridsearch_DT.best_score_"
   ]
  },
  {
   "cell_type": "code",
   "execution_count": 176,
   "id": "248fbc51-890e-4293-8fb6-35d6490cae79",
   "metadata": {},
   "outputs": [],
   "source": [
    "# Visualise the tree\n",
    "best_grid = gridsearch_DT.best_estimator_"
   ]
  },
  {
   "cell_type": "code",
   "execution_count": 177,
   "id": "4f3bed11-5023-41ed-b3e3-a13632b5b11d",
   "metadata": {},
   "outputs": [
    {
     "data": {
      "text/plain": [
       "DecisionTreeClassifier(criterion='entropy', max_depth=15, min_samples_leaf=150,\n",
       "                       min_samples_split=50, random_state=42)"
      ]
     },
     "execution_count": 177,
     "metadata": {},
     "output_type": "execute_result"
    }
   ],
   "source": [
    "best_grid"
   ]
  },
  {
   "cell_type": "code",
   "execution_count": 178,
   "id": "5d339def-d8a2-4c8e-a0da-6f6ab96dd138",
   "metadata": {},
   "outputs": [
    {
     "data": {
      "text/plain": [
       "DecisionTreeClassifier(criterion='entropy', max_depth=15, min_samples_leaf=150,\n",
       "                       min_samples_split=50, random_state=42)"
      ]
     },
     "execution_count": 178,
     "metadata": {},
     "output_type": "execute_result"
    }
   ],
   "source": [
    "best_grid.fit(X_train,y_train)"
   ]
  },
  {
   "cell_type": "code",
   "execution_count": 179,
   "id": "d7e24a60-6037-44f0-95be-d3aa944b798c",
   "metadata": {},
   "outputs": [
    {
     "data": {
      "text/plain": [
       "0.8348666666666666"
      ]
     },
     "execution_count": 179,
     "metadata": {},
     "output_type": "execute_result"
    }
   ],
   "source": [
    "best_grid.score(X_test,y_test )"
   ]
  },
  {
   "cell_type": "code",
   "execution_count": 180,
   "id": "26944c75-904d-4e49-bf97-b20c7cebb1b5",
   "metadata": {},
   "outputs": [
    {
     "name": "stdout",
     "output_type": "stream",
     "text": [
      "Requirement already satisfied: pydotplus in /Users/dheeraj/opt/anaconda3/lib/python3.9/site-packages (2.0.2)\n",
      "Requirement already satisfied: pyparsing>=2.0.1 in /Users/dheeraj/opt/anaconda3/lib/python3.9/site-packages (from pydotplus) (3.0.4)\n",
      "Requirement already satisfied: graphviz in /Users/dheeraj/opt/anaconda3/lib/python3.9/site-packages (0.20.1)\n"
     ]
    }
   ],
   "source": [
    "!pip install pydotplus\n",
    "!pip install graphviz"
   ]
  },
  {
   "cell_type": "code",
   "execution_count": 181,
   "id": "483d7cc9-494e-47f7-9e38-c7cadae27c9b",
   "metadata": {},
   "outputs": [
    {
     "data": {
      "text/plain": [
       "[Text(0.6424062126745682, 0.96875, 'X[0] <= 0.062\\nentropy = 0.656\\nsamples = 69999\\nvalue = [58139, 11860]'),\n",
       " Text(0.40684936029952223, 0.90625, 'X[3] <= 0.402\\nentropy = 0.481\\nsamples = 43368\\nvalue = [38860, 4508]'),\n",
       " Text(0.2456171329474458, 0.84375, 'X[6] <= 0.129\\nentropy = 0.392\\nsamples = 38036\\nvalue = [35103, 2933]'),\n",
       " Text(0.10040828280044102, 0.78125, 'X[3] <= -1.747\\nentropy = 0.304\\nsamples = 24748\\nvalue = [23404, 1344]'),\n",
       " Text(0.041345093715545754, 0.71875, 'X[3] <= -2.114\\nentropy = 0.184\\nsamples = 7231\\nvalue = [7029, 202]'),\n",
       " Text(0.01800808526277104, 0.65625, 'X[12] <= -0.807\\nentropy = 0.14\\nsamples = 4040\\nvalue = [3960, 80]'),\n",
       " Text(0.012127894156560088, 0.59375, 'X[6] <= -1.808\\nentropy = 0.026\\nsamples = 394\\nvalue = [393, 1]'),\n",
       " Text(0.009187798603454611, 0.53125, 'entropy = 0.058\\nsamples = 150\\nvalue = [149, 1]'),\n",
       " Text(0.015067989709665565, 0.53125, 'entropy = 0.0\\nsamples = 244\\nvalue = [244, 0]'),\n",
       " Text(0.02388827636898199, 0.59375, 'X[3] <= -2.45\\nentropy = 0.151\\nsamples = 3646\\nvalue = [3567, 79]'),\n",
       " Text(0.020948180815876516, 0.53125, 'entropy = 0.0\\nsamples = 177\\nvalue = [177, 0]'),\n",
       " Text(0.02682837192208747, 0.53125, 'X[6] <= -2.273\\nentropy = 0.157\\nsamples = 3469\\nvalue = [3390, 79]'),\n",
       " Text(0.01800808526277104, 0.46875, 'X[12] <= 0.203\\nentropy = 0.1\\nsamples = 766\\nvalue = [756, 10]'),\n",
       " Text(0.015067989709665565, 0.40625, 'entropy = 0.06\\nsamples = 286\\nvalue = [284, 2]'),\n",
       " Text(0.020948180815876516, 0.40625, 'X[11] <= 0.006\\nentropy = 0.122\\nsamples = 480\\nvalue = [472, 8]'),\n",
       " Text(0.01800808526277104, 0.34375, 'entropy = 0.176\\nsamples = 189\\nvalue = [184, 5]'),\n",
       " Text(0.02388827636898199, 0.34375, 'entropy = 0.083\\nsamples = 291\\nvalue = [288, 3]'),\n",
       " Text(0.0356486585814039, 0.46875, 'X[6] <= -0.139\\nentropy = 0.171\\nsamples = 2703\\nvalue = [2634, 69]'),\n",
       " Text(0.03270856302829842, 0.40625, 'X[6] <= -0.635\\nentropy = 0.163\\nsamples = 2511\\nvalue = [2451, 60]'),\n",
       " Text(0.029768467475192944, 0.34375, 'X[10] <= 1.108\\nentropy = 0.173\\nsamples = 2324\\nvalue = [2264, 60]'),\n",
       " Text(0.0213156927600147, 0.28125, 'X[9] <= -0.162\\nentropy = 0.19\\nsamples = 1686\\nvalue = [1637, 49]'),\n",
       " Text(0.013230429988974642, 0.21875, 'X[12] <= 0.203\\nentropy = 0.202\\nsamples = 1334\\nvalue = [1292, 42]'),\n",
       " Text(0.005880191106210952, 0.15625, 'X[6] <= -2.157\\nentropy = 0.17\\nsamples = 553\\nvalue = [539, 14]'),\n",
       " Text(0.002940095553105476, 0.09375, 'entropy = 0.114\\nsamples = 263\\nvalue = [259, 4]'),\n",
       " Text(0.008820286659316428, 0.09375, 'entropy = 0.216\\nsamples = 290\\nvalue = [280, 10]'),\n",
       " Text(0.02058066887173833, 0.15625, 'X[10] <= -0.633\\nentropy = 0.223\\nsamples = 781\\nvalue = [753, 28]'),\n",
       " Text(0.01470047776552738, 0.09375, 'X[12] <= 1.212\\nentropy = 0.188\\nsamples = 452\\nvalue = [439, 13]'),\n",
       " Text(0.011760382212421904, 0.03125, 'entropy = 0.209\\nsamples = 273\\nvalue = [264, 9]'),\n",
       " Text(0.017640573318632856, 0.03125, 'entropy = 0.154\\nsamples = 179\\nvalue = [175, 4]'),\n",
       " Text(0.026460859977949284, 0.09375, 'X[6] <= -2.157\\nentropy = 0.267\\nsamples = 329\\nvalue = [314, 15]'),\n",
       " Text(0.02352076442484381, 0.03125, 'entropy = 0.293\\nsamples = 155\\nvalue = [147, 8]'),\n",
       " Text(0.02940095553105476, 0.03125, 'entropy = 0.243\\nsamples = 174\\nvalue = [167, 7]'),\n",
       " Text(0.02940095553105476, 0.21875, 'X[26] <= 1.963\\nentropy = 0.141\\nsamples = 352\\nvalue = [345, 7]'),\n",
       " Text(0.026460859977949284, 0.15625, 'entropy = 0.092\\nsamples = 170\\nvalue = [168, 2]'),\n",
       " Text(0.03234105108416024, 0.15625, 'entropy = 0.182\\nsamples = 182\\nvalue = [177, 5]'),\n",
       " Text(0.03822124219037119, 0.28125, 'X[12] <= 0.034\\nentropy = 0.126\\nsamples = 638\\nvalue = [627, 11]'),\n",
       " Text(0.03528114663726571, 0.21875, 'entropy = 0.048\\nsamples = 189\\nvalue = [188, 1]'),\n",
       " Text(0.04116133774347666, 0.21875, 'X[12] <= 1.044\\nentropy = 0.154\\nsamples = 449\\nvalue = [439, 10]'),\n",
       " Text(0.03822124219037119, 0.15625, 'entropy = 0.188\\nsamples = 278\\nvalue = [270, 8]'),\n",
       " Text(0.044101433296582136, 0.15625, 'entropy = 0.092\\nsamples = 171\\nvalue = [169, 2]'),\n",
       " Text(0.0356486585814039, 0.34375, 'entropy = 0.0\\nsamples = 187\\nvalue = [187, 0]'),\n",
       " Text(0.03858875413450937, 0.40625, 'entropy = 0.273\\nsamples = 192\\nvalue = [183, 9]'),\n",
       " Text(0.06468210216832047, 0.65625, 'X[6] <= -0.079\\nentropy = 0.234\\nsamples = 3191\\nvalue = [3069, 122]'),\n",
       " Text(0.06174200661521499, 0.59375, 'X[6] <= -0.749\\nentropy = 0.22\\nsamples = 2895\\nvalue = [2793, 102]'),\n",
       " Text(0.05586181550900404, 0.53125, 'X[6] <= -0.757\\nentropy = 0.24\\nsamples = 2183\\nvalue = [2097, 86]'),\n",
       " Text(0.05292171995589857, 0.46875, 'X[12] <= -1.144\\nentropy = 0.22\\nsamples = 1985\\nvalue = [1915, 70]'),\n",
       " Text(0.04704152884968762, 0.40625, 'X[10] <= -0.052\\nentropy = 0.288\\nsamples = 476\\nvalue = [452, 24]'),\n",
       " Text(0.044101433296582136, 0.34375, 'entropy = 0.339\\nsamples = 286\\nvalue = [268, 18]'),\n",
       " Text(0.04998162440279309, 0.34375, 'entropy = 0.202\\nsamples = 190\\nvalue = [184, 6]'),\n",
       " Text(0.05880191106210952, 0.40625, 'X[7] <= 0.9\\nentropy = 0.197\\nsamples = 1509\\nvalue = [1463, 46]'),\n",
       " Text(0.05586181550900404, 0.34375, 'X[7] <= 0.531\\nentropy = 0.177\\nsamples = 1356\\nvalue = [1320, 36]'),\n",
       " Text(0.04998162440279309, 0.28125, 'X[6] <= -1.624\\nentropy = 0.236\\nsamples = 467\\nvalue = [449, 18]'),\n",
       " Text(0.04704152884968762, 0.21875, 'entropy = 0.32\\nsamples = 172\\nvalue = [162, 10]'),\n",
       " Text(0.05292171995589857, 0.21875, 'entropy = 0.18\\nsamples = 295\\nvalue = [287, 8]'),\n",
       " Text(0.06174200661521499, 0.28125, 'X[12] <= 0.034\\nentropy = 0.143\\nsamples = 889\\nvalue = [871, 18]'),\n",
       " Text(0.05880191106210952, 0.21875, 'entropy = 0.061\\nsamples = 280\\nvalue = [278, 2]'),\n",
       " Text(0.06468210216832047, 0.21875, 'X[7] <= 0.642\\nentropy = 0.175\\nsamples = 609\\nvalue = [593, 16]'),\n",
       " Text(0.06174200661521499, 0.15625, 'X[12] <= 1.38\\nentropy = 0.144\\nsamples = 439\\nvalue = [430, 9]'),\n",
       " Text(0.05880191106210952, 0.09375, 'entropy = 0.183\\nsamples = 252\\nvalue = [245, 7]'),\n",
       " Text(0.06468210216832047, 0.09375, 'entropy = 0.085\\nsamples = 187\\nvalue = [185, 2]'),\n",
       " Text(0.06762219772142594, 0.15625, 'entropy = 0.248\\nsamples = 170\\nvalue = [163, 7]'),\n",
       " Text(0.06174200661521499, 0.34375, 'entropy = 0.348\\nsamples = 153\\nvalue = [143, 10]'),\n",
       " Text(0.05880191106210952, 0.46875, 'entropy = 0.405\\nsamples = 198\\nvalue = [182, 16]'),\n",
       " Text(0.06762219772142594, 0.53125, 'X[6] <= -0.404\\nentropy = 0.155\\nsamples = 712\\nvalue = [696, 16]'),\n",
       " Text(0.06468210216832047, 0.46875, 'entropy = 0.033\\nsamples = 294\\nvalue = [293, 1]'),\n",
       " Text(0.07056229327453142, 0.46875, 'X[11] <= -0.668\\nentropy = 0.223\\nsamples = 418\\nvalue = [403, 15]'),\n",
       " Text(0.06762219772142594, 0.40625, 'entropy = 0.337\\nsamples = 192\\nvalue = [180, 12]'),\n",
       " Text(0.07350238882763689, 0.40625, 'entropy = 0.102\\nsamples = 226\\nvalue = [223, 3]'),\n",
       " Text(0.06762219772142594, 0.59375, 'entropy = 0.357\\nsamples = 296\\nvalue = [276, 20]'),\n",
       " Text(0.15947147188533628, 0.71875, 'X[0] <= -1.004\\nentropy = 0.348\\nsamples = 17517\\nvalue = [16375, 1142]'),\n",
       " Text(0.09996324880558619, 0.65625, 'X[0] <= -1.32\\nentropy = 0.174\\nsamples = 3158\\nvalue = [3076, 82]'),\n",
       " Text(0.0852627710400588, 0.59375, 'X[6] <= -0.306\\nentropy = 0.115\\nsamples = 1818\\nvalue = [1790, 28]'),\n",
       " Text(0.07938257993384785, 0.53125, 'X[1] <= -1.477\\nentropy = 0.059\\nsamples = 1177\\nvalue = [1169, 8]'),\n",
       " Text(0.07644248438074237, 0.46875, 'entropy = 0.0\\nsamples = 342\\nvalue = [342, 0]'),\n",
       " Text(0.08232267548695332, 0.46875, 'X[12] <= -0.807\\nentropy = 0.078\\nsamples = 835\\nvalue = [827, 8]'),\n",
       " Text(0.07938257993384785, 0.40625, 'entropy = 0.0\\nsamples = 237\\nvalue = [237, 0]'),\n",
       " Text(0.0852627710400588, 0.40625, 'X[12] <= -0.134\\nentropy = 0.102\\nsamples = 598\\nvalue = [590, 8]'),\n",
       " Text(0.08232267548695332, 0.34375, 'entropy = 0.191\\nsamples = 204\\nvalue = [198, 6]'),\n",
       " Text(0.08820286659316427, 0.34375, 'X[11] <= -0.331\\nentropy = 0.046\\nsamples = 394\\nvalue = [392, 2]'),\n",
       " Text(0.0852627710400588, 0.28125, 'entropy = 0.0\\nsamples = 206\\nvalue = [206, 0]'),\n",
       " Text(0.09114296214626975, 0.28125, 'entropy = 0.085\\nsamples = 188\\nvalue = [186, 2]'),\n",
       " Text(0.09114296214626975, 0.53125, 'X[6] <= -0.186\\nentropy = 0.2\\nsamples = 641\\nvalue = [621, 20]'),\n",
       " Text(0.08820286659316427, 0.46875, 'entropy = 0.318\\nsamples = 156\\nvalue = [147, 9]'),\n",
       " Text(0.09408305769937524, 0.46875, 'X[0] <= -1.487\\nentropy = 0.156\\nsamples = 485\\nvalue = [474, 11]'),\n",
       " Text(0.09114296214626975, 0.40625, 'entropy = 0.051\\nsamples = 174\\nvalue = [173, 1]'),\n",
       " Text(0.0970231532524807, 0.40625, 'X[9] <= -0.176\\nentropy = 0.205\\nsamples = 311\\nvalue = [301, 10]'),\n",
       " Text(0.09408305769937524, 0.34375, 'entropy = 0.134\\nsamples = 160\\nvalue = [157, 3]'),\n",
       " Text(0.09996324880558619, 0.34375, 'entropy = 0.271\\nsamples = 151\\nvalue = [144, 7]'),\n",
       " Text(0.11466372657111357, 0.59375, 'X[6] <= -0.466\\nentropy = 0.244\\nsamples = 1340\\nvalue = [1286, 54]'),\n",
       " Text(0.1087835354649026, 0.53125, 'X[12] <= -0.807\\nentropy = 0.186\\nsamples = 741\\nvalue = [720, 21]'),\n",
       " Text(0.10584343991179714, 0.46875, 'entropy = 0.044\\nsamples = 210\\nvalue = [209, 1]'),\n",
       " Text(0.11172363101800808, 0.46875, 'X[10] <= -0.052\\nentropy = 0.231\\nsamples = 531\\nvalue = [511, 20]'),\n",
       " Text(0.1087835354649026, 0.40625, 'X[6] <= -0.696\\nentropy = 0.273\\nsamples = 341\\nvalue = [325, 16]'),\n",
       " Text(0.10584343991179714, 0.34375, 'entropy = 0.346\\nsamples = 185\\nvalue = [173, 12]'),\n",
       " Text(0.11172363101800808, 0.34375, 'entropy = 0.172\\nsamples = 156\\nvalue = [152, 4]'),\n",
       " Text(0.11466372657111357, 0.40625, 'entropy = 0.147\\nsamples = 190\\nvalue = [186, 4]'),\n",
       " Text(0.12054391767732452, 0.53125, 'X[11] <= -0.668\\nentropy = 0.308\\nsamples = 599\\nvalue = [566, 33]'),\n",
       " Text(0.11760382212421903, 0.46875, 'entropy = 0.398\\nsamples = 241\\nvalue = [222, 19]'),\n",
       " Text(0.12348401323042998, 0.46875, 'X[13] <= -0.484\\nentropy = 0.238\\nsamples = 358\\nvalue = [344, 14]'),\n",
       " Text(0.12054391767732452, 0.40625, 'entropy = 0.279\\nsamples = 207\\nvalue = [197, 10]'),\n",
       " Text(0.12642410878353547, 0.40625, 'entropy = 0.176\\nsamples = 151\\nvalue = [147, 4]'),\n",
       " Text(0.21897969496508637, 0.65625, 'X[3] <= -0.339\\nentropy = 0.38\\nsamples = 14359\\nvalue = [13299, 1060]'),\n",
       " Text(0.17162807791253215, 0.59375, 'X[3] <= -0.368\\nentropy = 0.304\\nsamples = 5894\\nvalue = [5575, 319]'),\n",
       " Text(0.16868798235942667, 0.53125, 'X[6] <= -0.916\\nentropy = 0.314\\nsamples = 5623\\nvalue = [5304, 319]'),\n",
       " Text(0.13524439544285188, 0.46875, 'X[6] <= -1.877\\nentropy = 0.229\\nsamples = 1780\\nvalue = [1714, 66]'),\n",
       " Text(0.13230429988974643, 0.40625, 'entropy = 0.072\\nsamples = 229\\nvalue = [227, 2]'),\n",
       " Text(0.13818449099595737, 0.40625, 'X[9] <= 1.292\\nentropy = 0.248\\nsamples = 1551\\nvalue = [1487, 64]'),\n",
       " Text(0.13524439544285188, 0.34375, 'X[9] <= -0.515\\nentropy = 0.274\\nsamples = 1253\\nvalue = [1194, 59]'),\n",
       " Text(0.12495406100698273, 0.28125, 'X[12] <= -0.471\\nentropy = 0.169\\nsamples = 479\\nvalue = [467, 12]'),\n",
       " Text(0.12201396545387726, 0.21875, 'entropy = 0.095\\nsamples = 164\\nvalue = [162, 2]'),\n",
       " Text(0.1278941565600882, 0.21875, 'X[6] <= -1.268\\nentropy = 0.203\\nsamples = 315\\nvalue = [305, 10]'),\n",
       " Text(0.12495406100698273, 0.15625, 'entropy = 0.134\\nsamples = 161\\nvalue = [158, 3]'),\n",
       " Text(0.1308342521131937, 0.15625, 'entropy = 0.267\\nsamples = 154\\nvalue = [147, 7]'),\n",
       " Text(0.14553472987872107, 0.28125, 'X[7] <= 0.441\\nentropy = 0.33\\nsamples = 774\\nvalue = [727, 47]'),\n",
       " Text(0.1396545387725101, 0.21875, 'X[10] <= -0.052\\nentropy = 0.416\\nsamples = 333\\nvalue = [305, 28]'),\n",
       " Text(0.13671444321940462, 0.15625, 'entropy = 0.347\\nsamples = 169\\nvalue = [158, 11]'),\n",
       " Text(0.1425946343256156, 0.15625, 'entropy = 0.48\\nsamples = 164\\nvalue = [147, 17]'),\n",
       " Text(0.151414920984932, 0.21875, 'X[11] <= 0.006\\nentropy = 0.256\\nsamples = 441\\nvalue = [422, 19]'),\n",
       " Text(0.14847482543182652, 0.15625, 'entropy = 0.178\\nsamples = 224\\nvalue = [218, 6]'),\n",
       " Text(0.1543550165380375, 0.15625, 'entropy = 0.327\\nsamples = 217\\nvalue = [204, 13]'),\n",
       " Text(0.14112458654906285, 0.34375, 'entropy = 0.123\\nsamples = 298\\nvalue = [293, 5]'),\n",
       " Text(0.20213156927600148, 0.46875, 'X[25] <= 1.542\\nentropy = 0.35\\nsamples = 3843\\nvalue = [3590, 253]'),\n",
       " Text(0.1822859242925395, 0.40625, 'X[6] <= -0.719\\nentropy = 0.38\\nsamples = 2782\\nvalue = [2577, 205]'),\n",
       " Text(0.1661153987504594, 0.34375, 'X[3] <= -0.612\\nentropy = 0.465\\nsamples = 760\\nvalue = [685, 75]'),\n",
       " Text(0.16023520764424845, 0.28125, 'X[6] <= -0.784\\nentropy = 0.36\\nsamples = 351\\nvalue = [327, 24]'),\n",
       " Text(0.15729511209114297, 0.21875, 'entropy = 0.457\\nsamples = 156\\nvalue = [141, 15]'),\n",
       " Text(0.1631753031973539, 0.21875, 'entropy = 0.27\\nsamples = 195\\nvalue = [186, 9]'),\n",
       " Text(0.17199558985667035, 0.28125, 'X[3] <= -0.598\\nentropy = 0.543\\nsamples = 409\\nvalue = [358, 51]'),\n",
       " Text(0.16905549430356487, 0.21875, 'entropy = 0.617\\nsamples = 255\\nvalue = [216, 39]'),\n",
       " Text(0.1749356854097758, 0.21875, 'entropy = 0.395\\nsamples = 154\\nvalue = [142, 12]'),\n",
       " Text(0.19845644983461963, 0.34375, 'X[6] <= -0.306\\nentropy = 0.344\\nsamples = 2022\\nvalue = [1892, 130]'),\n",
       " Text(0.18669606762219773, 0.28125, 'X[6] <= -0.457\\nentropy = 0.202\\nsamples = 826\\nvalue = [800, 26]'),\n",
       " Text(0.18081587651598677, 0.21875, 'X[3] <= -1.246\\nentropy = 0.264\\nsamples = 512\\nvalue = [489, 23]'),\n",
       " Text(0.17787578096288129, 0.15625, 'entropy = 0.148\\nsamples = 189\\nvalue = [185, 4]'),\n",
       " Text(0.18375597206909225, 0.15625, 'X[8] <= 0.796\\nentropy = 0.323\\nsamples = 323\\nvalue = [304, 19]'),\n",
       " Text(0.18081587651598677, 0.09375, 'entropy = 0.407\\nsamples = 160\\nvalue = [147, 13]'),\n",
       " Text(0.18669606762219773, 0.09375, 'entropy = 0.227\\nsamples = 163\\nvalue = [157, 6]'),\n",
       " Text(0.19257625872840867, 0.21875, 'X[12] <= -0.302\\nentropy = 0.078\\nsamples = 314\\nvalue = [311, 3]'),\n",
       " Text(0.18963616317530319, 0.15625, 'entropy = 0.0\\nsamples = 152\\nvalue = [152, 0]'),\n",
       " Text(0.19551635428151415, 0.15625, 'entropy = 0.133\\nsamples = 162\\nvalue = [159, 3]'),\n",
       " Text(0.21021683204704153, 0.28125, 'X[12] <= 1.044\\nentropy = 0.426\\nsamples = 1196\\nvalue = [1092, 104]'),\n",
       " Text(0.20727673649393605, 0.21875, 'X[7] <= 0.186\\nentropy = 0.401\\nsamples = 1018\\nvalue = [937, 81]'),\n",
       " Text(0.2013965453877251, 0.15625, 'X[6] <= -0.076\\nentropy = 0.48\\nsamples = 406\\nvalue = [364, 42]'),\n",
       " Text(0.19845644983461963, 0.09375, 'entropy = 0.594\\nsamples = 160\\nvalue = [137, 23]'),\n",
       " Text(0.20433664094083057, 0.09375, 'entropy = 0.392\\nsamples = 246\\nvalue = [227, 19]'),\n",
       " Text(0.213156927600147, 0.15625, 'X[7] <= 0.809\\nentropy = 0.342\\nsamples = 612\\nvalue = [573, 39]'),\n",
       " Text(0.21021683204704153, 0.09375, 'entropy = 0.243\\nsamples = 274\\nvalue = [263, 11]'),\n",
       " Text(0.2160970231532525, 0.09375, 'X[3] <= -1.246\\nentropy = 0.412\\nsamples = 338\\nvalue = [310, 28]'),\n",
       " Text(0.213156927600147, 0.03125, 'entropy = 0.327\\nsamples = 184\\nvalue = [173, 11]'),\n",
       " Text(0.21903711870635795, 0.03125, 'entropy = 0.501\\nsamples = 154\\nvalue = [137, 17]'),\n",
       " Text(0.213156927600147, 0.21875, 'entropy = 0.555\\nsamples = 178\\nvalue = [155, 23]'),\n",
       " Text(0.22197721425946343, 0.40625, 'X[3] <= -1.546\\nentropy = 0.266\\nsamples = 1061\\nvalue = [1013, 48]'),\n",
       " Text(0.21903711870635795, 0.34375, 'entropy = 0.353\\nsamples = 301\\nvalue = [281, 20]'),\n",
       " Text(0.2249173098125689, 0.34375, 'X[6] <= -0.143\\nentropy = 0.228\\nsamples = 760\\nvalue = [732, 28]'),\n",
       " Text(0.22197721425946343, 0.28125, 'X[6] <= -0.694\\nentropy = 0.182\\nsamples = 580\\nvalue = [564, 16]'),\n",
       " Text(0.21903711870635795, 0.21875, 'entropy = 0.295\\nsamples = 192\\nvalue = [182, 10]'),\n",
       " Text(0.2249173098125689, 0.21875, 'X[10] <= -0.052\\nentropy = 0.115\\nsamples = 388\\nvalue = [382, 6]'),\n",
       " Text(0.22197721425946343, 0.15625, 'entropy = 0.193\\nsamples = 202\\nvalue = [196, 6]'),\n",
       " Text(0.2278574053656744, 0.15625, 'entropy = 0.0\\nsamples = 186\\nvalue = [186, 0]'),\n",
       " Text(0.2278574053656744, 0.28125, 'entropy = 0.353\\nsamples = 180\\nvalue = [168, 12]'),\n",
       " Text(0.17456817346563763, 0.53125, 'entropy = 0.0\\nsamples = 271\\nvalue = [271, 0]'),\n",
       " Text(0.2663313120176406, 0.59375, 'X[3] <= 0.393\\nentropy = 0.428\\nsamples = 8465\\nvalue = [7724, 741]'),\n",
       " Text(0.24255788313120177, 0.53125, 'X[6] <= -0.196\\nentropy = 0.582\\nsamples = 1572\\nvalue = [1353, 219]'),\n",
       " Text(0.2366776920249908, 0.46875, 'X[6] <= -0.47\\nentropy = 0.536\\nsamples = 1006\\nvalue = [883, 123]'),\n",
       " Text(0.23373759647188533, 0.40625, 'X[3] <= -0.045\\nentropy = 0.601\\nsamples = 710\\nvalue = [606, 104]'),\n",
       " Text(0.23079750091877985, 0.34375, 'entropy = 0.435\\nsamples = 190\\nvalue = [173, 17]'),\n",
       " Text(0.2366776920249908, 0.34375, 'X[7] <= 0.274\\nentropy = 0.652\\nsamples = 520\\nvalue = [433, 87]'),\n",
       " Text(0.23373759647188533, 0.28125, 'entropy = 0.525\\nsamples = 177\\nvalue = [156, 21]'),\n",
       " Text(0.2396177875780963, 0.28125, 'X[12] <= -0.134\\nentropy = 0.707\\nsamples = 343\\nvalue = [277, 66]'),\n",
       " Text(0.2366776920249908, 0.21875, 'entropy = 0.637\\nsamples = 155\\nvalue = [130, 25]'),\n",
       " Text(0.24255788313120177, 0.21875, 'entropy = 0.757\\nsamples = 188\\nvalue = [147, 41]'),\n",
       " Text(0.2396177875780963, 0.40625, 'entropy = 0.344\\nsamples = 296\\nvalue = [277, 19]'),\n",
       " Text(0.2484380742374127, 0.46875, 'X[6] <= -0.03\\nentropy = 0.657\\nsamples = 566\\nvalue = [470, 96]'),\n",
       " Text(0.24549797868430723, 0.40625, 'entropy = 0.746\\nsamples = 231\\nvalue = [182, 49]'),\n",
       " Text(0.2513781697905182, 0.40625, 'X[7] <= 0.186\\nentropy = 0.585\\nsamples = 335\\nvalue = [288, 47]'),\n",
       " Text(0.2484380742374127, 0.34375, 'entropy = 0.536\\nsamples = 180\\nvalue = [158, 22]'),\n",
       " Text(0.2543182653436237, 0.34375, 'entropy = 0.637\\nsamples = 155\\nvalue = [130, 25]'),\n",
       " Text(0.2901047409040794, 0.53125, 'X[2] <= -0.069\\nentropy = 0.387\\nsamples = 6893\\nvalue = [6371, 522]'),\n",
       " Text(0.26607864755604554, 0.46875, 'X[0] <= -0.212\\nentropy = 0.238\\nsamples = 1025\\nvalue = [985, 40]'),\n",
       " Text(0.2631385520029401, 0.40625, 'X[0] <= -0.274\\nentropy = 0.154\\nsamples = 761\\nvalue = [744, 17]'),\n",
       " Text(0.26019845644983464, 0.34375, 'X[11] <= -0.331\\nentropy = 0.204\\nsamples = 531\\nvalue = [514, 17]'),\n",
       " Text(0.25725836089672915, 0.28125, 'entropy = 0.042\\nsamples = 222\\nvalue = [221, 1]'),\n",
       " Text(0.2631385520029401, 0.28125, 'X[0] <= -0.511\\nentropy = 0.294\\nsamples = 309\\nvalue = [293, 16]'),\n",
       " Text(0.26019845644983464, 0.21875, 'entropy = 0.391\\nsamples = 156\\nvalue = [144, 12]'),\n",
       " Text(0.26607864755604554, 0.21875, 'entropy = 0.175\\nsamples = 153\\nvalue = [149, 4]'),\n",
       " Text(0.26607864755604554, 0.34375, 'entropy = 0.0\\nsamples = 230\\nvalue = [230, 0]'),\n",
       " Text(0.269018743109151, 0.40625, 'entropy = 0.427\\nsamples = 264\\nvalue = [241, 23]'),\n",
       " Text(0.3141308342521132, 0.46875, 'X[1] <= -0.103\\nentropy = 0.41\\nsamples = 5868\\nvalue = [5386, 482]'),\n",
       " Text(0.29750091877986035, 0.40625, 'X[7] <= 0.708\\nentropy = 0.382\\nsamples = 4608\\nvalue = [4265, 343]'),\n",
       " Text(0.28702682837192206, 0.34375, 'X[6] <= -0.58\\nentropy = 0.402\\nsamples = 4095\\nvalue = [3768, 327]'),\n",
       " Text(0.274898934215362, 0.28125, 'X[7] <= 0.425\\nentropy = 0.321\\nsamples = 1078\\nvalue = [1015, 63]'),\n",
       " Text(0.2719588386622565, 0.21875, 'X[0] <= -0.719\\nentropy = 0.28\\nsamples = 823\\nvalue = [783, 40]'),\n",
       " Text(0.269018743109151, 0.15625, 'entropy = 0.085\\nsamples = 189\\nvalue = [187, 2]'),\n",
       " Text(0.274898934215362, 0.15625, 'X[10] <= -0.633\\nentropy = 0.327\\nsamples = 634\\nvalue = [596, 38]'),\n",
       " Text(0.2719588386622565, 0.09375, 'entropy = 0.411\\nsamples = 206\\nvalue = [189, 17]'),\n",
       " Text(0.27783902976846747, 0.09375, 'X[11] <= -0.668\\nentropy = 0.282\\nsamples = 428\\nvalue = [407, 21]'),\n",
       " Text(0.274898934215362, 0.03125, 'entropy = 0.166\\nsamples = 163\\nvalue = [159, 4]'),\n",
       " Text(0.28077912532157295, 0.03125, 'entropy = 0.344\\nsamples = 265\\nvalue = [248, 17]'),\n",
       " Text(0.27783902976846747, 0.21875, 'entropy = 0.437\\nsamples = 255\\nvalue = [232, 23]'),\n",
       " Text(0.2991547225284822, 0.28125, 'X[1] <= -0.874\\nentropy = 0.428\\nsamples = 3017\\nvalue = [2753, 264]'),\n",
       " Text(0.2895994119808894, 0.21875, 'X[10] <= -0.052\\nentropy = 0.32\\nsamples = 586\\nvalue = [552, 34]'),\n",
       " Text(0.2866593164277839, 0.15625, 'X[6] <= -0.27\\nentropy = 0.233\\nsamples = 343\\nvalue = [330, 13]'),\n",
       " Text(0.28371922087467843, 0.09375, 'entropy = 0.168\\nsamples = 161\\nvalue = [157, 4]'),\n",
       " Text(0.2895994119808894, 0.09375, 'entropy = 0.284\\nsamples = 182\\nvalue = [173, 9]'),\n",
       " Text(0.2925395075339949, 0.15625, 'entropy = 0.424\\nsamples = 243\\nvalue = [222, 21]'),\n",
       " Text(0.308710033076075, 0.21875, 'X[7] <= -0.511\\nentropy = 0.452\\nsamples = 2431\\nvalue = [2201, 230]'),\n",
       " Text(0.2984196986402058, 0.15625, 'X[14] <= 0.489\\nentropy = 0.533\\nsamples = 619\\nvalue = [544, 75]'),\n",
       " Text(0.2954796030871003, 0.09375, 'entropy = 0.636\\nsamples = 230\\nvalue = [193, 37]'),\n",
       " Text(0.30135979419331127, 0.09375, 'X[6] <= -0.47\\nentropy = 0.462\\nsamples = 389\\nvalue = [351, 38]'),\n",
       " Text(0.2984196986402058, 0.03125, 'entropy = 0.571\\nsamples = 178\\nvalue = [154, 24]'),\n",
       " Text(0.30429988974641675, 0.03125, 'entropy = 0.352\\nsamples = 211\\nvalue = [197, 14]'),\n",
       " Text(0.31900036751194416, 0.15625, 'X[1] <= -0.749\\nentropy = 0.421\\nsamples = 1812\\nvalue = [1657, 155]'),\n",
       " Text(0.3131201764057332, 0.09375, 'X[6] <= -0.328\\nentropy = 0.545\\nsamples = 311\\nvalue = [272, 39]'),\n",
       " Text(0.3101800808526277, 0.03125, 'entropy = 0.485\\nsamples = 152\\nvalue = [136, 16]'),\n",
       " Text(0.3160602719588387, 0.03125, 'entropy = 0.596\\nsamples = 159\\nvalue = [136, 23]'),\n",
       " Text(0.32488055861815507, 0.09375, 'X[13] <= -0.484\\nentropy = 0.393\\nsamples = 1501\\nvalue = [1385, 116]'),\n",
       " Text(0.3219404630650496, 0.03125, 'entropy = 0.434\\nsamples = 1008\\nvalue = [918, 90]'),\n",
       " Text(0.32782065417126055, 0.03125, 'entropy = 0.298\\nsamples = 493\\nvalue = [467, 26]'),\n",
       " Text(0.3079750091877986, 0.34375, 'X[9] <= -0.518\\nentropy = 0.2\\nsamples = 513\\nvalue = [497, 16]'),\n",
       " Text(0.30503491363469315, 0.28125, 'entropy = 0.107\\nsamples = 282\\nvalue = [278, 4]'),\n",
       " Text(0.31091510474090406, 0.28125, 'entropy = 0.295\\nsamples = 231\\nvalue = [219, 12]'),\n",
       " Text(0.33076074972436603, 0.40625, 'X[6] <= -1.043\\nentropy = 0.501\\nsamples = 1260\\nvalue = [1121, 139]'),\n",
       " Text(0.32782065417126055, 0.34375, 'entropy = 0.342\\nsamples = 282\\nvalue = [264, 18]'),\n",
       " Text(0.3337008452774715, 0.34375, 'X[10] <= 0.528\\nentropy = 0.54\\nsamples = 978\\nvalue = [857, 121]'),\n",
       " Text(0.33076074972436603, 0.28125, 'X[9] <= 2.022\\nentropy = 0.479\\nsamples = 689\\nvalue = [618, 71]'),\n",
       " Text(0.32782065417126055, 0.21875, 'X[6] <= -0.705\\nentropy = 0.516\\nsamples = 425\\nvalue = [376, 49]'),\n",
       " Text(0.32488055861815507, 0.15625, 'entropy = 0.553\\nsamples = 265\\nvalue = [231, 34]'),\n",
       " Text(0.33076074972436603, 0.15625, 'entropy = 0.449\\nsamples = 160\\nvalue = [145, 15]'),\n",
       " Text(0.3337008452774715, 0.21875, 'entropy = 0.414\\nsamples = 264\\nvalue = [242, 22]'),\n",
       " Text(0.336640940830577, 0.28125, 'entropy = 0.665\\nsamples = 289\\nvalue = [239, 50]'),\n",
       " Text(0.39082598309445055, 0.78125, 'X[0] <= -1.089\\nentropy = 0.528\\nsamples = 13288\\nvalue = [11699, 1589]'),\n",
       " Text(0.3631018008085263, 0.71875, 'X[9] <= 1.284\\nentropy = 0.251\\nsamples = 1860\\nvalue = [1782, 78]'),\n",
       " Text(0.3601617052554208, 0.65625, 'X[0] <= -1.212\\nentropy = 0.222\\nsamples = 1682\\nvalue = [1622, 60]'),\n",
       " Text(0.35428151414920983, 0.59375, 'X[9] <= -0.167\\nentropy = 0.178\\nsamples = 1309\\nvalue = [1274, 35]'),\n",
       " Text(0.35134141859610435, 0.53125, 'X[12] <= 0.539\\nentropy = 0.202\\nsamples = 1076\\nvalue = [1042, 34]'),\n",
       " Text(0.3484013230429989, 0.46875, 'X[8] <= 0.796\\nentropy = 0.235\\nsamples = 834\\nvalue = [802, 32]'),\n",
       " Text(0.34252113193678796, 0.40625, 'X[7] <= 0.675\\nentropy = 0.175\\nsamples = 495\\nvalue = [482, 13]'),\n",
       " Text(0.3395810363836825, 0.34375, 'entropy = 0.111\\nsamples = 204\\nvalue = [201, 3]'),\n",
       " Text(0.34546122748989344, 0.34375, 'entropy = 0.216\\nsamples = 291\\nvalue = [281, 10]'),\n",
       " Text(0.35428151414920983, 0.40625, 'X[6] <= 0.414\\nentropy = 0.312\\nsamples = 339\\nvalue = [320, 19]'),\n",
       " Text(0.35134141859610435, 0.34375, 'entropy = 0.231\\nsamples = 186\\nvalue = [179, 7]'),\n",
       " Text(0.3572216097023153, 0.34375, 'entropy = 0.397\\nsamples = 153\\nvalue = [141, 12]'),\n",
       " Text(0.35428151414920983, 0.46875, 'entropy = 0.069\\nsamples = 242\\nvalue = [240, 2]'),\n",
       " Text(0.3572216097023153, 0.53125, 'entropy = 0.04\\nsamples = 233\\nvalue = [232, 1]'),\n",
       " Text(0.36604189636163176, 0.59375, 'X[13] <= -0.484\\nentropy = 0.355\\nsamples = 373\\nvalue = [348, 25]'),\n",
       " Text(0.3631018008085263, 0.53125, 'entropy = 0.276\\nsamples = 210\\nvalue = [200, 10]'),\n",
       " Text(0.36898199191473724, 0.53125, 'entropy = 0.443\\nsamples = 163\\nvalue = [148, 15]'),\n",
       " Text(0.36604189636163176, 0.65625, 'entropy = 0.473\\nsamples = 178\\nvalue = [160, 18]'),\n",
       " Text(0.4185501653803749, 0.71875, 'X[3] <= -0.688\\nentropy = 0.563\\nsamples = 11428\\nvalue = [9917, 1511]'),\n",
       " Text(0.3807423741271591, 0.65625, 'X[6] <= 1.49\\nentropy = 0.387\\nsamples = 2165\\nvalue = [2001, 164]'),\n",
       " Text(0.37780227857405363, 0.59375, 'X[3] <= -2.185\\nentropy = 0.352\\nsamples = 2007\\nvalue = [1874, 133]'),\n",
       " Text(0.3748621830209482, 0.53125, 'entropy = 0.111\\nsamples = 204\\nvalue = [201, 3]'),\n",
       " Text(0.3807423741271591, 0.53125, 'X[11] <= -0.668\\nentropy = 0.374\\nsamples = 1803\\nvalue = [1673, 130]'),\n",
       " Text(0.37339213524439546, 0.46875, 'X[9] <= -0.541\\nentropy = 0.259\\nsamples = 572\\nvalue = [547, 25]'),\n",
       " Text(0.37045203969129, 0.40625, 'X[6] <= 0.625\\nentropy = 0.179\\nsamples = 372\\nvalue = [362, 10]'),\n",
       " Text(0.3675119441381845, 0.34375, 'entropy = 0.094\\nsamples = 167\\nvalue = [165, 2]'),\n",
       " Text(0.37339213524439546, 0.34375, 'entropy = 0.238\\nsamples = 205\\nvalue = [197, 8]'),\n",
       " Text(0.37633223079750094, 0.40625, 'entropy = 0.384\\nsamples = 200\\nvalue = [185, 15]'),\n",
       " Text(0.3880926130099228, 0.46875, 'X[7] <= 0.928\\nentropy = 0.421\\nsamples = 1231\\nvalue = [1126, 105]'),\n",
       " Text(0.38221242190371185, 0.40625, 'X[6] <= 0.857\\nentropy = 0.46\\nsamples = 886\\nvalue = [800, 86]'),\n",
       " Text(0.37927232635060637, 0.34375, 'X[6] <= 0.485\\nentropy = 0.491\\nsamples = 709\\nvalue = [633, 76]'),\n",
       " Text(0.37339213524439546, 0.28125, 'X[6] <= 0.23\\nentropy = 0.539\\nsamples = 357\\nvalue = [313, 44]'),\n",
       " Text(0.37045203969129, 0.21875, 'entropy = 0.447\\nsamples = 193\\nvalue = [175, 18]'),\n",
       " Text(0.37633223079750094, 0.21875, 'entropy = 0.631\\nsamples = 164\\nvalue = [138, 26]'),\n",
       " Text(0.38515251745681733, 0.28125, 'X[7] <= 0.762\\nentropy = 0.439\\nsamples = 352\\nvalue = [320, 32]'),\n",
       " Text(0.38221242190371185, 0.21875, 'entropy = 0.318\\nsamples = 156\\nvalue = [147, 9]'),\n",
       " Text(0.3880926130099228, 0.21875, 'entropy = 0.522\\nsamples = 196\\nvalue = [173, 23]'),\n",
       " Text(0.38515251745681733, 0.34375, 'entropy = 0.313\\nsamples = 177\\nvalue = [167, 10]'),\n",
       " Text(0.3939728041161338, 0.40625, 'X[3] <= -1.713\\nentropy = 0.308\\nsamples = 345\\nvalue = [326, 19]'),\n",
       " Text(0.3910327085630283, 0.34375, 'entropy = 0.384\\nsamples = 160\\nvalue = [148, 12]'),\n",
       " Text(0.39691289966923926, 0.34375, 'entropy = 0.232\\nsamples = 185\\nvalue = [178, 7]'),\n",
       " Text(0.3836824696802646, 0.59375, 'entropy = 0.714\\nsamples = 158\\nvalue = [127, 31]'),\n",
       " Text(0.4563579566335906, 0.65625, 'X[4] <= 0.462\\nentropy = 0.598\\nsamples = 9263\\nvalue = [7916, 1347]'),\n",
       " Text(0.4149209849320103, 0.59375, 'X[3] <= -0.21\\nentropy = 0.709\\nsamples = 2978\\nvalue = [2401, 577]'),\n",
       " Text(0.40573318632855565, 0.53125, 'X[9] <= -0.532\\nentropy = 0.622\\nsamples = 1122\\nvalue = [948, 174]'),\n",
       " Text(0.4027930907754502, 0.46875, 'X[6] <= 0.382\\nentropy = 0.662\\nsamples = 897\\nvalue = [743, 154]'),\n",
       " Text(0.39985299522234474, 0.40625, 'entropy = 0.5\\nsamples = 218\\nvalue = [194, 24]'),\n",
       " Text(0.40573318632855565, 0.40625, 'X[12] <= 0.707\\nentropy = 0.705\\nsamples = 679\\nvalue = [549, 130]'),\n",
       " Text(0.4027930907754502, 0.34375, 'X[12] <= -0.302\\nentropy = 0.741\\nsamples = 501\\nvalue = [396, 105]'),\n",
       " Text(0.39985299522234474, 0.28125, 'entropy = 0.687\\nsamples = 289\\nvalue = [236, 53]'),\n",
       " Text(0.40573318632855565, 0.28125, 'entropy = 0.804\\nsamples = 212\\nvalue = [160, 52]'),\n",
       " Text(0.40867328188166113, 0.34375, 'entropy = 0.585\\nsamples = 178\\nvalue = [153, 25]'),\n",
       " Text(0.40867328188166113, 0.46875, 'entropy = 0.433\\nsamples = 225\\nvalue = [205, 20]'),\n",
       " Text(0.4241087835354649, 0.53125, 'X[9] <= -0.536\\nentropy = 0.755\\nsamples = 1856\\nvalue = [1453, 403]'),\n",
       " Text(0.4145534729878721, 0.46875, 'X[11] <= 0.679\\nentropy = 0.638\\nsamples = 316\\nvalue = [265, 51]'),\n",
       " Text(0.4116133774347666, 0.40625, 'entropy = 0.596\\nsamples = 166\\nvalue = [142, 24]'),\n",
       " Text(0.4174935685409776, 0.40625, 'entropy = 0.68\\nsamples = 150\\nvalue = [123, 27]'),\n",
       " Text(0.43366409408305767, 0.46875, 'X[7] <= 0.186\\nentropy = 0.776\\nsamples = 1540\\nvalue = [1188, 352]'),\n",
       " Text(0.42337375964718854, 0.40625, 'X[6] <= 0.485\\nentropy = 0.728\\nsamples = 843\\nvalue = [672, 171]'),\n",
       " Text(0.4174935685409776, 0.34375, 'X[10] <= -0.052\\nentropy = 0.787\\nsamples = 374\\nvalue = [286, 88]'),\n",
       " Text(0.4145534729878721, 0.28125, 'entropy = 0.855\\nsamples = 179\\nvalue = [129, 50]'),\n",
       " Text(0.42043366409408306, 0.28125, 'entropy = 0.712\\nsamples = 195\\nvalue = [157, 38]'),\n",
       " Text(0.4292539507533995, 0.34375, 'X[11] <= 0.006\\nentropy = 0.673\\nsamples = 469\\nvalue = [386, 83]'),\n",
       " Text(0.426313855200294, 0.28125, 'entropy = 0.72\\nsamples = 221\\nvalue = [177, 44]'),\n",
       " Text(0.432194046306505, 0.28125, 'entropy = 0.628\\nsamples = 248\\nvalue = [209, 39]'),\n",
       " Text(0.44395442851892686, 0.40625, 'X[7] <= 0.599\\nentropy = 0.826\\nsamples = 697\\nvalue = [516, 181]'),\n",
       " Text(0.4410143329658214, 0.34375, 'X[12] <= 0.707\\nentropy = 0.87\\nsamples = 498\\nvalue = [353, 145]'),\n",
       " Text(0.4380742374127159, 0.28125, 'X[12] <= -0.302\\nentropy = 0.809\\nsamples = 314\\nvalue = [236, 78]'),\n",
       " Text(0.4351341418596104, 0.21875, 'entropy = 0.848\\nsamples = 153\\nvalue = [111, 42]'),\n",
       " Text(0.4410143329658214, 0.21875, 'entropy = 0.767\\nsamples = 161\\nvalue = [125, 36]'),\n",
       " Text(0.44395442851892686, 0.28125, 'entropy = 0.946\\nsamples = 184\\nvalue = [117, 67]'),\n",
       " Text(0.44689452407203234, 0.34375, 'entropy = 0.682\\nsamples = 199\\nvalue = [163, 36]'),\n",
       " Text(0.4977949283351709, 0.59375, 'X[0] <= -0.187\\nentropy = 0.537\\nsamples = 6285\\nvalue = [5515, 770]'),\n",
       " Text(0.4796030871003308, 0.53125, 'X[14] <= 0.489\\nentropy = 0.497\\nsamples = 5369\\nvalue = [4784, 585]'),\n",
       " Text(0.4615950018375597, 0.46875, 'X[1] <= -0.315\\nentropy = 0.415\\nsamples = 3020\\nvalue = [2767, 253]'),\n",
       " Text(0.4557148107313488, 0.40625, 'X[9] <= 1.486\\nentropy = 0.446\\nsamples = 2422\\nvalue = [2197, 225]'),\n",
       " Text(0.4527747151782433, 0.34375, 'X[10] <= -1.213\\nentropy = 0.429\\nsamples = 2224\\nvalue = [2029, 195]'),\n",
       " Text(0.4498346196251378, 0.28125, 'entropy = 0.264\\nsamples = 201\\nvalue = [192, 9]'),\n",
       " Text(0.4557148107313488, 0.28125, 'X[2] <= -0.234\\nentropy = 0.443\\nsamples = 2023\\nvalue = [1837, 186]'),\n",
       " Text(0.4483645718485851, 0.21875, 'X[6] <= 1.003\\nentropy = 0.359\\nsamples = 514\\nvalue = [479, 35]'),\n",
       " Text(0.4454244762954796, 0.15625, 'X[8] <= 0.796\\nentropy = 0.274\\nsamples = 361\\nvalue = [344, 17]'),\n",
       " Text(0.4424843807423741, 0.09375, 'entropy = 0.356\\nsamples = 208\\nvalue = [194, 14]'),\n",
       " Text(0.4483645718485851, 0.09375, 'entropy = 0.139\\nsamples = 153\\nvalue = [150, 3]'),\n",
       " Text(0.45130466740169056, 0.15625, 'entropy = 0.523\\nsamples = 153\\nvalue = [135, 18]'),\n",
       " Text(0.46306504961411243, 0.21875, 'X[6] <= 0.494\\nentropy = 0.469\\nsamples = 1509\\nvalue = [1358, 151]'),\n",
       " Text(0.4571848585079015, 0.15625, 'X[11] <= -1.004\\nentropy = 0.514\\nsamples = 733\\nvalue = [649, 84]'),\n",
       " Text(0.45424476295479604, 0.09375, 'entropy = 0.631\\nsamples = 227\\nvalue = [191, 36]'),\n",
       " Text(0.460124954061007, 0.09375, 'X[0] <= -0.712\\nentropy = 0.452\\nsamples = 506\\nvalue = [458, 48]'),\n",
       " Text(0.4571848585079015, 0.03125, 'entropy = 0.349\\nsamples = 244\\nvalue = [228, 16]'),\n",
       " Text(0.46306504961411243, 0.03125, 'entropy = 0.535\\nsamples = 262\\nvalue = [230, 32]'),\n",
       " Text(0.4689452407203234, 0.15625, 'X[1] <= -0.996\\nentropy = 0.424\\nsamples = 776\\nvalue = [709, 67]'),\n",
       " Text(0.4660051451672179, 0.09375, 'entropy = 0.303\\nsamples = 185\\nvalue = [175, 10]'),\n",
       " Text(0.4718853362734289, 0.09375, 'X[0] <= -0.692\\nentropy = 0.458\\nsamples = 591\\nvalue = [534, 57]'),\n",
       " Text(0.4689452407203234, 0.03125, 'entropy = 0.537\\nsamples = 302\\nvalue = [265, 37]'),\n",
       " Text(0.47482543182653436, 0.03125, 'entropy = 0.363\\nsamples = 289\\nvalue = [269, 20]'),\n",
       " Text(0.45865490628445427, 0.34375, 'entropy = 0.614\\nsamples = 198\\nvalue = [168, 30]'),\n",
       " Text(0.46747519294377066, 0.40625, 'X[2] <= -0.341\\nentropy = 0.273\\nsamples = 598\\nvalue = [570, 28]'),\n",
       " Text(0.4645350973906652, 0.34375, 'X[11] <= 0.342\\nentropy = 0.167\\nsamples = 325\\nvalue = [317, 8]'),\n",
       " Text(0.4615950018375597, 0.28125, 'entropy = 0.215\\nsamples = 175\\nvalue = [169, 6]'),\n",
       " Text(0.46747519294377066, 0.28125, 'entropy = 0.102\\nsamples = 150\\nvalue = [148, 2]'),\n",
       " Text(0.47041528849687614, 0.34375, 'entropy = 0.378\\nsamples = 273\\nvalue = [253, 20]'),\n",
       " Text(0.4976111723631018, 0.46875, 'X[6] <= 0.794\\nentropy = 0.588\\nsamples = 2349\\nvalue = [2017, 332]'),\n",
       " Text(0.48511576626240355, 0.40625, 'X[0] <= -0.638\\nentropy = 0.513\\nsamples = 1695\\nvalue = [1501, 194]'),\n",
       " Text(0.47776552737963984, 0.34375, 'X[12] <= -0.134\\nentropy = 0.391\\nsamples = 547\\nvalue = [505, 42]'),\n",
       " Text(0.47482543182653436, 0.28125, 'entropy = 0.453\\nsamples = 274\\nvalue = [248, 26]'),\n",
       " Text(0.4807056229327453, 0.28125, 'entropy = 0.322\\nsamples = 273\\nvalue = [257, 16]'),\n",
       " Text(0.4924660051451672, 0.34375, 'X[9] <= -0.153\\nentropy = 0.564\\nsamples = 1148\\nvalue = [996, 152]'),\n",
       " Text(0.4865858140389563, 0.28125, 'X[10] <= 0.528\\nentropy = 0.496\\nsamples = 819\\nvalue = [730, 89]'),\n",
       " Text(0.4836457184858508, 0.21875, 'X[0] <= -0.476\\nentropy = 0.534\\nsamples = 600\\nvalue = [527, 73]'),\n",
       " Text(0.4807056229327453, 0.15625, 'X[11] <= 0.679\\nentropy = 0.493\\nsamples = 446\\nvalue = [398, 48]'),\n",
       " Text(0.47776552737963984, 0.09375, 'entropy = 0.422\\nsamples = 245\\nvalue = [224, 21]'),\n",
       " Text(0.4836457184858508, 0.09375, 'entropy = 0.569\\nsamples = 201\\nvalue = [174, 27]'),\n",
       " Text(0.4865858140389563, 0.15625, 'entropy = 0.64\\nsamples = 154\\nvalue = [129, 25]'),\n",
       " Text(0.4895259095920617, 0.21875, 'entropy = 0.377\\nsamples = 219\\nvalue = [203, 16]'),\n",
       " Text(0.49834619625137816, 0.28125, 'X[12] <= -0.134\\nentropy = 0.705\\nsamples = 329\\nvalue = [266, 63]'),\n",
       " Text(0.4954061006982727, 0.21875, 'entropy = 0.61\\nsamples = 160\\nvalue = [136, 24]'),\n",
       " Text(0.5012862918044837, 0.21875, 'entropy = 0.779\\nsamples = 169\\nvalue = [130, 39]'),\n",
       " Text(0.5101065784638, 0.40625, 'X[1] <= -0.436\\nentropy = 0.743\\nsamples = 654\\nvalue = [516, 138]'),\n",
       " Text(0.5071664829106945, 0.34375, 'X[11] <= -0.331\\nentropy = 0.645\\nsamples = 474\\nvalue = [396, 78]'),\n",
       " Text(0.5042263873575891, 0.28125, 'entropy = 0.517\\nsamples = 190\\nvalue = [168, 22]'),\n",
       " Text(0.5101065784638, 0.28125, 'entropy = 0.716\\nsamples = 284\\nvalue = [228, 56]'),\n",
       " Text(0.5130466740169055, 0.34375, 'entropy = 0.918\\nsamples = 180\\nvalue = [120, 60]'),\n",
       " Text(0.515986769570011, 0.53125, 'X[1] <= -0.195\\nentropy = 0.726\\nsamples = 916\\nvalue = [731, 185]'),\n",
       " Text(0.5130466740169055, 0.46875, 'entropy = 0.576\\nsamples = 190\\nvalue = [164, 26]'),\n",
       " Text(0.5189268651231165, 0.46875, 'X[6] <= 0.563\\nentropy = 0.758\\nsamples = 726\\nvalue = [567, 159]'),\n",
       " Text(0.515986769570011, 0.40625, 'entropy = 0.657\\nsamples = 277\\nvalue = [230, 47]'),\n",
       " Text(0.521866960676222, 0.40625, 'X[1] <= -0.085\\nentropy = 0.81\\nsamples = 449\\nvalue = [337, 112]'),\n",
       " Text(0.5189268651231165, 0.34375, 'entropy = 0.758\\nsamples = 265\\nvalue = [207, 58]'),\n",
       " Text(0.5248070562293274, 0.34375, 'entropy = 0.873\\nsamples = 184\\nvalue = [130, 54]'),\n",
       " Text(0.5680815876515987, 0.84375, 'X[3] <= 1.149\\nentropy = 0.876\\nsamples = 5332\\nvalue = [3757, 1575]'),\n",
       " Text(0.5452039691289967, 0.78125, 'X[6] <= -0.32\\nentropy = 0.784\\nsamples = 3116\\nvalue = [2389, 727]'),\n",
       " Text(0.5306872473355384, 0.71875, 'X[6] <= -0.574\\nentropy = 0.641\\nsamples = 1013\\nvalue = [848, 165]'),\n",
       " Text(0.5277471517824329, 0.65625, 'X[11] <= 0.006\\nentropy = 0.699\\nsamples = 783\\nvalue = [635, 148]'),\n",
       " Text(0.5248070562293274, 0.59375, 'X[6] <= -1.043\\nentropy = 0.745\\nsamples = 496\\nvalue = [391, 105]'),\n",
       " Text(0.521866960676222, 0.53125, 'entropy = 0.629\\nsamples = 152\\nvalue = [128, 24]'),\n",
       " Text(0.5277471517824329, 0.53125, 'X[12] <= -0.134\\nentropy = 0.787\\nsamples = 344\\nvalue = [263, 81]'),\n",
       " Text(0.5248070562293274, 0.46875, 'entropy = 0.838\\nsamples = 168\\nvalue = [123, 45]'),\n",
       " Text(0.5306872473355384, 0.46875, 'entropy = 0.731\\nsamples = 176\\nvalue = [140, 36]'),\n",
       " Text(0.5306872473355384, 0.59375, 'entropy = 0.609\\nsamples = 287\\nvalue = [244, 43]'),\n",
       " Text(0.5336273428886439, 0.65625, 'entropy = 0.38\\nsamples = 230\\nvalue = [213, 17]'),\n",
       " Text(0.559720690922455, 0.71875, 'X[9] <= -0.162\\nentropy = 0.837\\nsamples = 2103\\nvalue = [1541, 562]'),\n",
       " Text(0.5446527012127894, 0.65625, 'X[3] <= 0.426\\nentropy = 0.797\\nsamples = 1468\\nvalue = [1114, 354]'),\n",
       " Text(0.5365674384417494, 0.59375, 'X[7] <= -0.22\\nentropy = 0.603\\nsamples = 455\\nvalue = [388, 67]'),\n",
       " Text(0.5336273428886439, 0.53125, 'entropy = 0.727\\nsamples = 153\\nvalue = [122, 31]'),\n",
       " Text(0.5395075339948548, 0.53125, 'entropy = 0.527\\nsamples = 302\\nvalue = [266, 36]'),\n",
       " Text(0.5527379639838295, 0.59375, 'X[6] <= 0.619\\nentropy = 0.86\\nsamples = 1013\\nvalue = [726, 287]'),\n",
       " Text(0.5453877251010658, 0.53125, 'X[12] <= -0.302\\nentropy = 0.823\\nsamples = 653\\nvalue = [485, 168]'),\n",
       " Text(0.5395075339948548, 0.46875, 'X[12] <= -0.975\\nentropy = 0.906\\nsamples = 327\\nvalue = [222, 105]'),\n",
       " Text(0.5365674384417494, 0.40625, 'entropy = 0.849\\nsamples = 156\\nvalue = [113, 43]'),\n",
       " Text(0.5424476295479603, 0.40625, 'entropy = 0.945\\nsamples = 171\\nvalue = [109, 62]'),\n",
       " Text(0.5512679162072768, 0.46875, 'X[11] <= 0.006\\nentropy = 0.708\\nsamples = 326\\nvalue = [263, 63]'),\n",
       " Text(0.5483278206541713, 0.40625, 'entropy = 0.603\\nsamples = 156\\nvalue = [133, 23]'),\n",
       " Text(0.5542080117603823, 0.40625, 'entropy = 0.787\\nsamples = 170\\nvalue = [130, 40]'),\n",
       " Text(0.5600882028665931, 0.53125, 'X[12] <= -0.302\\nentropy = 0.915\\nsamples = 360\\nvalue = [241, 119]'),\n",
       " Text(0.5571481073134877, 0.46875, 'entropy = 0.882\\nsamples = 183\\nvalue = [128, 55]'),\n",
       " Text(0.5630282984196986, 0.46875, 'entropy = 0.944\\nsamples = 177\\nvalue = [113, 64]'),\n",
       " Text(0.5747886806321205, 0.65625, 'X[12] <= 0.371\\nentropy = 0.912\\nsamples = 635\\nvalue = [427, 208]'),\n",
       " Text(0.5689084895259096, 0.59375, 'X[9] <= 3.125\\nentropy = 0.951\\nsamples = 321\\nvalue = [202, 119]'),\n",
       " Text(0.5659683939728041, 0.53125, 'entropy = 0.974\\nsamples = 160\\nvalue = [95, 65]'),\n",
       " Text(0.571848585079015, 0.53125, 'entropy = 0.92\\nsamples = 161\\nvalue = [107, 54]'),\n",
       " Text(0.5806688717383315, 0.59375, 'X[12] <= 1.044\\nentropy = 0.86\\nsamples = 314\\nvalue = [225, 89]'),\n",
       " Text(0.577728776185226, 0.53125, 'entropy = 0.833\\nsamples = 159\\nvalue = [117, 42]'),\n",
       " Text(0.583608967291437, 0.53125, 'entropy = 0.885\\nsamples = 155\\nvalue = [108, 47]'),\n",
       " Text(0.5909592061742006, 0.78125, 'X[5] <= -1.068\\nentropy = 0.96\\nsamples = 2216\\nvalue = [1368, 848]'),\n",
       " Text(0.583608967291437, 0.71875, 'X[7] <= 0.424\\nentropy = 0.97\\nsamples = 379\\nvalue = [151, 228]'),\n",
       " Text(0.5806688717383315, 0.65625, 'entropy = 0.89\\nsamples = 195\\nvalue = [60, 135]'),\n",
       " Text(0.5865490628445424, 0.65625, 'entropy = 1.0\\nsamples = 184\\nvalue = [91, 93]'),\n",
       " Text(0.5983094450569644, 0.71875, 'X[6] <= -0.179\\nentropy = 0.922\\nsamples = 1837\\nvalue = [1217, 620]'),\n",
       " Text(0.5924292539507534, 0.65625, 'X[6] <= -0.462\\nentropy = 0.591\\nsamples = 393\\nvalue = [337, 56]'),\n",
       " Text(0.5894891583976479, 0.59375, 'entropy = 0.706\\nsamples = 224\\nvalue = [181, 43]'),\n",
       " Text(0.5953693495038589, 0.59375, 'entropy = 0.391\\nsamples = 169\\nvalue = [156, 13]'),\n",
       " Text(0.6041896361631753, 0.65625, 'X[6] <= 1.384\\nentropy = 0.965\\nsamples = 1444\\nvalue = [880, 564]'),\n",
       " Text(0.6012495406100699, 0.59375, 'X[7] <= 0.984\\nentropy = 0.933\\nsamples = 1197\\nvalue = [780, 417]'),\n",
       " Text(0.5983094450569644, 0.53125, 'X[7] <= 0.023\\nentropy = 0.917\\nsamples = 1042\\nvalue = [696, 346]'),\n",
       " Text(0.5953693495038589, 0.46875, 'entropy = 0.973\\nsamples = 225\\nvalue = [134, 91]'),\n",
       " Text(0.6012495406100699, 0.46875, 'X[6] <= 0.124\\nentropy = 0.896\\nsamples = 817\\nvalue = [562, 255]'),\n",
       " Text(0.5983094450569644, 0.40625, 'entropy = 0.811\\nsamples = 160\\nvalue = [120, 40]'),\n",
       " Text(0.6041896361631753, 0.40625, 'X[12] <= -0.639\\nentropy = 0.912\\nsamples = 657\\nvalue = [442, 215]'),\n",
       " Text(0.6012495406100699, 0.34375, 'entropy = 0.952\\nsamples = 188\\nvalue = [118, 70]'),\n",
       " Text(0.6071297317162808, 0.34375, 'X[6] <= 0.778\\nentropy = 0.892\\nsamples = 469\\nvalue = [324, 145]'),\n",
       " Text(0.6041896361631753, 0.28125, 'X[12] <= 0.539\\nentropy = 0.875\\nsamples = 312\\nvalue = [220, 92]'),\n",
       " Text(0.6012495406100699, 0.21875, 'entropy = 0.92\\nsamples = 155\\nvalue = [103, 52]'),\n",
       " Text(0.6071297317162808, 0.21875, 'entropy = 0.819\\nsamples = 157\\nvalue = [117, 40]'),\n",
       " Text(0.6100698272693863, 0.28125, 'entropy = 0.922\\nsamples = 157\\nvalue = [104, 53]'),\n",
       " Text(0.6041896361631753, 0.53125, 'entropy = 0.995\\nsamples = 155\\nvalue = [84, 71]'),\n",
       " Text(0.6071297317162808, 0.59375, 'entropy = 0.974\\nsamples = 247\\nvalue = [100, 147]'),\n",
       " Text(0.8779630650496141, 0.90625, 'X[0] <= 1.832\\nentropy = 0.85\\nsamples = 26631\\nvalue = [19279, 7352]'),\n",
       " Text(0.775404263138552, 0.84375, 'X[6] <= 0.064\\nentropy = 0.809\\nsamples = 23483\\nvalue = [17653, 5830]'),\n",
       " Text(0.6776920249908122, 0.78125, 'X[1] <= 0.496\\nentropy = 0.686\\nsamples = 8717\\nvalue = [7125, 1592]'),\n",
       " Text(0.6545387725101066, 0.71875, 'X[12] <= 0.707\\nentropy = 0.614\\nsamples = 4823\\nvalue = [4092, 731]'),\n",
       " Text(0.6402058066887174, 0.65625, 'X[6] <= -0.154\\nentropy = 0.659\\nsamples = 3381\\nvalue = [2804, 577]'),\n",
       " Text(0.6291804483645719, 0.59375, 'X[11] <= 1.016\\nentropy = 0.606\\nsamples = 2436\\nvalue = [2074, 362]'),\n",
       " Text(0.6218302094818081, 0.53125, 'X[6] <= -0.65\\nentropy = 0.65\\nsamples = 1924\\nvalue = [1603, 321]'),\n",
       " Text(0.6159500183755972, 0.46875, 'X[6] <= -0.76\\nentropy = 0.748\\nsamples = 408\\nvalue = [321, 87]'),\n",
       " Text(0.6130099228224918, 0.40625, 'entropy = 0.667\\nsamples = 218\\nvalue = [180, 38]'),\n",
       " Text(0.6188901139287026, 0.40625, 'entropy = 0.824\\nsamples = 190\\nvalue = [141, 49]'),\n",
       " Text(0.6277104005880191, 0.46875, 'X[8] <= 0.042\\nentropy = 0.621\\nsamples = 1516\\nvalue = [1282, 234]'),\n",
       " Text(0.6247703050349136, 0.40625, 'X[11] <= -0.668\\nentropy = 0.64\\nsamples = 1325\\nvalue = [1110, 215]'),\n",
       " Text(0.6188901139287026, 0.34375, 'X[12] <= 0.034\\nentropy = 0.673\\nsamples = 571\\nvalue = [470, 101]'),\n",
       " Text(0.6159500183755972, 0.28125, 'X[12] <= -0.975\\nentropy = 0.625\\nsamples = 397\\nvalue = [335, 62]'),\n",
       " Text(0.6130099228224918, 0.21875, 'entropy = 0.59\\nsamples = 176\\nvalue = [151, 25]'),\n",
       " Text(0.6188901139287026, 0.21875, 'entropy = 0.652\\nsamples = 221\\nvalue = [184, 37]'),\n",
       " Text(0.6218302094818081, 0.28125, 'entropy = 0.768\\nsamples = 174\\nvalue = [135, 39]'),\n",
       " Text(0.6306504961411246, 0.34375, 'X[6] <= -0.335\\nentropy = 0.613\\nsamples = 754\\nvalue = [640, 114]'),\n",
       " Text(0.6277104005880191, 0.28125, 'X[11] <= 0.342\\nentropy = 0.596\\nsamples = 574\\nvalue = [491, 83]'),\n",
       " Text(0.6247703050349136, 0.21875, 'X[12] <= -0.134\\nentropy = 0.567\\nsamples = 404\\nvalue = [350, 54]'),\n",
       " Text(0.6218302094818081, 0.15625, 'entropy = 0.619\\nsamples = 241\\nvalue = [204, 37]'),\n",
       " Text(0.6277104005880191, 0.15625, 'entropy = 0.482\\nsamples = 163\\nvalue = [146, 17]'),\n",
       " Text(0.6306504961411246, 0.21875, 'entropy = 0.659\\nsamples = 170\\nvalue = [141, 29]'),\n",
       " Text(0.63359059169423, 0.28125, 'entropy = 0.663\\nsamples = 180\\nvalue = [149, 31]'),\n",
       " Text(0.6306504961411246, 0.40625, 'entropy = 0.467\\nsamples = 191\\nvalue = [172, 19]'),\n",
       " Text(0.6365306872473355, 0.53125, 'X[7] <= 0.231\\nentropy = 0.402\\nsamples = 512\\nvalue = [471, 41]'),\n",
       " Text(0.63359059169423, 0.46875, 'entropy = 0.483\\nsamples = 249\\nvalue = [223, 26]'),\n",
       " Text(0.639470782800441, 0.46875, 'entropy = 0.316\\nsamples = 263\\nvalue = [248, 15]'),\n",
       " Text(0.6512311650128629, 0.59375, 'X[11] <= 0.679\\nentropy = 0.774\\nsamples = 945\\nvalue = [730, 215]'),\n",
       " Text(0.6482910694597575, 0.53125, 'X[11] <= -0.331\\nentropy = 0.802\\nsamples = 667\\nvalue = [504, 163]'),\n",
       " Text(0.645350973906652, 0.46875, 'X[7] <= 0.363\\nentropy = 0.762\\nsamples = 416\\nvalue = [324, 92]'),\n",
       " Text(0.6424108783535465, 0.40625, 'entropy = 0.814\\nsamples = 266\\nvalue = [199, 67]'),\n",
       " Text(0.6482910694597575, 0.40625, 'entropy = 0.65\\nsamples = 150\\nvalue = [125, 25]'),\n",
       " Text(0.6512311650128629, 0.46875, 'entropy = 0.859\\nsamples = 251\\nvalue = [180, 71]'),\n",
       " Text(0.6541712605659684, 0.53125, 'entropy = 0.695\\nsamples = 278\\nvalue = [226, 52]'),\n",
       " Text(0.6688717383314958, 0.65625, 'X[11] <= 0.679\\nentropy = 0.49\\nsamples = 1442\\nvalue = [1288, 154]'),\n",
       " Text(0.6629915472252849, 0.59375, 'X[6] <= -0.162\\nentropy = 0.446\\nsamples = 1023\\nvalue = [928, 95]'),\n",
       " Text(0.6600514516721794, 0.53125, 'X[12] <= 1.212\\nentropy = 0.405\\nsamples = 754\\nvalue = [693, 61]'),\n",
       " Text(0.6571113561190739, 0.46875, 'X[11] <= -0.331\\nentropy = 0.469\\nsamples = 470\\nvalue = [423, 47]'),\n",
       " Text(0.6541712605659684, 0.40625, 'entropy = 0.409\\nsamples = 268\\nvalue = [246, 22]'),\n",
       " Text(0.6600514516721794, 0.40625, 'entropy = 0.54\\nsamples = 202\\nvalue = [177, 25]'),\n",
       " Text(0.6629915472252849, 0.46875, 'entropy = 0.283\\nsamples = 284\\nvalue = [270, 14]'),\n",
       " Text(0.6659316427783903, 0.53125, 'entropy = 0.547\\nsamples = 269\\nvalue = [235, 34]'),\n",
       " Text(0.6747519294377067, 0.59375, 'X[12] <= 1.38\\nentropy = 0.586\\nsamples = 419\\nvalue = [360, 59]'),\n",
       " Text(0.6718118338846012, 0.53125, 'entropy = 0.637\\nsamples = 267\\nvalue = [224, 43]'),\n",
       " Text(0.6776920249908122, 0.53125, 'entropy = 0.485\\nsamples = 152\\nvalue = [136, 16]'),\n",
       " Text(0.7008452774715178, 0.71875, 'X[6] <= -1.23\\nentropy = 0.762\\nsamples = 3894\\nvalue = [3033, 861]'),\n",
       " Text(0.6979051819184123, 0.65625, 'entropy = 0.481\\nsamples = 154\\nvalue = [138, 16]'),\n",
       " Text(0.7037853730246233, 0.65625, 'X[7] <= 0.877\\nentropy = 0.771\\nsamples = 3740\\nvalue = [2895, 845]'),\n",
       " Text(0.7008452774715178, 0.59375, 'X[0] <= 0.805\\nentropy = 0.781\\nsamples = 3516\\nvalue = [2701, 815]'),\n",
       " Text(0.6835722160970231, 0.53125, 'X[12] <= -0.807\\nentropy = 0.719\\nsamples = 968\\nvalue = [776, 192]'),\n",
       " Text(0.6806321205439176, 0.46875, 'entropy = 0.814\\nsamples = 294\\nvalue = [220, 74]'),\n",
       " Text(0.6865123116501286, 0.46875, 'X[6] <= -0.199\\nentropy = 0.669\\nsamples = 674\\nvalue = [556, 118]'),\n",
       " Text(0.6835722160970231, 0.40625, 'X[6] <= -0.47\\nentropy = 0.624\\nsamples = 514\\nvalue = [434, 80]'),\n",
       " Text(0.6806321205439176, 0.34375, 'X[8] <= -0.335\\nentropy = 0.69\\nsamples = 352\\nvalue = [287, 65]'),\n",
       " Text(0.6776920249908122, 0.28125, 'entropy = 0.626\\nsamples = 166\\nvalue = [140, 26]'),\n",
       " Text(0.6835722160970231, 0.28125, 'entropy = 0.741\\nsamples = 186\\nvalue = [147, 39]'),\n",
       " Text(0.6865123116501286, 0.34375, 'entropy = 0.445\\nsamples = 162\\nvalue = [147, 15]'),\n",
       " Text(0.6894524072032341, 0.40625, 'entropy = 0.791\\nsamples = 160\\nvalue = [122, 38]'),\n",
       " Text(0.7181183388460125, 0.53125, 'X[9] <= -0.176\\nentropy = 0.802\\nsamples = 2548\\nvalue = [1925, 623]'),\n",
       " Text(0.7056229327453142, 0.46875, 'X[9] <= -0.532\\nentropy = 0.758\\nsamples = 1598\\nvalue = [1248, 350]'),\n",
       " Text(0.7026828371922087, 0.40625, 'X[11] <= 0.342\\nentropy = 0.778\\nsamples = 1422\\nvalue = [1095, 327]'),\n",
       " Text(0.695332598309445, 0.34375, 'X[12] <= 0.034\\nentropy = 0.739\\nsamples = 857\\nvalue = [678, 179]'),\n",
       " Text(0.6894524072032341, 0.28125, 'X[12] <= -0.975\\nentropy = 0.791\\nsamples = 404\\nvalue = [308, 96]'),\n",
       " Text(0.6865123116501286, 0.21875, 'entropy = 0.693\\nsamples = 188\\nvalue = [153, 35]'),\n",
       " Text(0.6923925027563396, 0.21875, 'entropy = 0.859\\nsamples = 216\\nvalue = [155, 61]'),\n",
       " Text(0.701212789415656, 0.28125, 'X[10] <= -0.052\\nentropy = 0.687\\nsamples = 453\\nvalue = [370, 83]'),\n",
       " Text(0.6982726938625505, 0.21875, 'entropy = 0.625\\nsamples = 173\\nvalue = [146, 27]'),\n",
       " Text(0.7041528849687615, 0.21875, 'entropy = 0.722\\nsamples = 280\\nvalue = [224, 56]'),\n",
       " Text(0.7100330760749725, 0.34375, 'X[6] <= -0.32\\nentropy = 0.83\\nsamples = 565\\nvalue = [417, 148]'),\n",
       " Text(0.707092980521867, 0.28125, 'entropy = 0.75\\nsamples = 294\\nvalue = [231, 63]'),\n",
       " Text(0.7129731716280779, 0.28125, 'entropy = 0.897\\nsamples = 271\\nvalue = [186, 85]'),\n",
       " Text(0.7085630282984197, 0.40625, 'entropy = 0.559\\nsamples = 176\\nvalue = [153, 23]'),\n",
       " Text(0.7306137449467107, 0.46875, 'X[10] <= 0.528\\nentropy = 0.865\\nsamples = 950\\nvalue = [677, 273]'),\n",
       " Text(0.7247335538404999, 0.40625, 'X[9] <= 1.284\\nentropy = 0.897\\nsamples = 609\\nvalue = [418, 191]'),\n",
       " Text(0.7217934582873944, 0.34375, 'X[12] <= -0.302\\nentropy = 0.858\\nsamples = 390\\nvalue = [280, 110]'),\n",
       " Text(0.7188533627342889, 0.28125, 'entropy = 0.787\\nsamples = 170\\nvalue = [130, 40]'),\n",
       " Text(0.7247335538404999, 0.28125, 'entropy = 0.902\\nsamples = 220\\nvalue = [150, 70]'),\n",
       " Text(0.7276736493936052, 0.34375, 'entropy = 0.951\\nsamples = 219\\nvalue = [138, 81]'),\n",
       " Text(0.7364939360529217, 0.40625, 'X[7] <= -0.01\\nentropy = 0.796\\nsamples = 341\\nvalue = [259, 82]'),\n",
       " Text(0.7335538404998162, 0.34375, 'entropy = 0.828\\nsamples = 161\\nvalue = [119, 42]'),\n",
       " Text(0.7394340316060272, 0.34375, 'entropy = 0.764\\nsamples = 180\\nvalue = [140, 40]'),\n",
       " Text(0.7067254685777288, 0.59375, 'entropy = 0.568\\nsamples = 224\\nvalue = [194, 30]'),\n",
       " Text(0.8731165012862918, 0.78125, 'X[0] <= 0.324\\nentropy = 0.865\\nsamples = 14766\\nvalue = [10528, 4238]'),\n",
       " Text(0.8232267548695332, 0.71875, 'X[12] <= 0.876\\nentropy = 0.784\\nsamples = 7314\\nvalue = [5606, 1708]'),\n",
       " Text(0.7997059904446895, 0.65625, 'X[7] <= 0.819\\nentropy = 0.819\\nsamples = 5604\\nvalue = [4175, 1429]'),\n",
       " Text(0.7835354649026093, 0.59375, 'X[6] <= 1.146\\nentropy = 0.832\\nsamples = 4818\\nvalue = [3547, 1271]'),\n",
       " Text(0.762954796030871, 0.53125, 'X[12] <= -1.48\\nentropy = 0.817\\nsamples = 3757\\nvalue = [2804, 953]'),\n",
       " Text(0.7511944138184491, 0.46875, 'X[10] <= 0.528\\nentropy = 0.737\\nsamples = 477\\nvalue = [378, 99]'),\n",
       " Text(0.7482543182653436, 0.40625, 'X[6] <= 0.587\\nentropy = 0.76\\nsamples = 318\\nvalue = [248, 70]'),\n",
       " Text(0.7453142227122381, 0.34375, 'entropy = 0.734\\nsamples = 160\\nvalue = [127, 33]'),\n",
       " Text(0.7511944138184491, 0.34375, 'entropy = 0.785\\nsamples = 158\\nvalue = [121, 37]'),\n",
       " Text(0.7541345093715546, 0.40625, 'entropy = 0.685\\nsamples = 159\\nvalue = [130, 29]'),\n",
       " Text(0.774715178243293, 0.46875, 'X[11] <= -0.668\\nentropy = 0.827\\nsamples = 3280\\nvalue = [2426, 854]'),\n",
       " Text(0.762954796030871, 0.40625, 'X[12] <= 0.203\\nentropy = 0.795\\nsamples = 1226\\nvalue = [932, 294]'),\n",
       " Text(0.75707460492466, 0.34375, 'X[6] <= 0.788\\nentropy = 0.819\\nsamples = 864\\nvalue = [644, 220]'),\n",
       " Text(0.7541345093715546, 0.28125, 'X[6] <= 0.392\\nentropy = 0.798\\nsamples = 617\\nvalue = [468, 149]'),\n",
       " Text(0.7511944138184491, 0.21875, 'entropy = 0.826\\nsamples = 239\\nvalue = [177, 62]'),\n",
       " Text(0.75707460492466, 0.21875, 'X[12] <= -0.807\\nentropy = 0.778\\nsamples = 378\\nvalue = [291, 87]'),\n",
       " Text(0.7541345093715546, 0.15625, 'entropy = 0.732\\nsamples = 151\\nvalue = [120, 31]'),\n",
       " Text(0.7600147004777655, 0.15625, 'entropy = 0.806\\nsamples = 227\\nvalue = [171, 56]'),\n",
       " Text(0.7600147004777655, 0.28125, 'entropy = 0.865\\nsamples = 247\\nvalue = [176, 71]'),\n",
       " Text(0.768834987137082, 0.34375, 'X[6] <= 0.58\\nentropy = 0.731\\nsamples = 362\\nvalue = [288, 74]'),\n",
       " Text(0.7658948915839765, 0.28125, 'entropy = 0.663\\nsamples = 180\\nvalue = [149, 31]'),\n",
       " Text(0.7717750826901875, 0.28125, 'entropy = 0.789\\nsamples = 182\\nvalue = [139, 43]'),\n",
       " Text(0.7864755604557148, 0.40625, 'X[6] <= 0.727\\nentropy = 0.845\\nsamples = 2054\\nvalue = [1494, 560]'),\n",
       " Text(0.7805953693495039, 0.34375, 'X[6] <= 0.633\\nentropy = 0.858\\nsamples = 1410\\nvalue = [1013, 397]'),\n",
       " Text(0.7776552737963984, 0.28125, 'X[10] <= -0.633\\nentropy = 0.844\\nsamples = 1171\\nvalue = [853, 318]'),\n",
       " Text(0.774715178243293, 0.21875, 'entropy = 0.786\\nsamples = 247\\nvalue = [189, 58]'),\n",
       " Text(0.7805953693495039, 0.21875, 'X[9] <= -0.532\\nentropy = 0.857\\nsamples = 924\\nvalue = [664, 260]'),\n",
       " Text(0.7776552737963984, 0.15625, 'X[12] <= -0.302\\nentropy = 0.87\\nsamples = 698\\nvalue = [495, 203]'),\n",
       " Text(0.7717750826901875, 0.09375, 'X[6] <= 0.44\\nentropy = 0.832\\nsamples = 338\\nvalue = [249, 89]'),\n",
       " Text(0.768834987137082, 0.03125, 'entropy = 0.862\\nsamples = 158\\nvalue = [113, 45]'),\n",
       " Text(0.774715178243293, 0.03125, 'entropy = 0.802\\nsamples = 180\\nvalue = [136, 44]'),\n",
       " Text(0.7835354649026093, 0.09375, 'X[6] <= 0.399\\nentropy = 0.901\\nsamples = 360\\nvalue = [246, 114]'),\n",
       " Text(0.7805953693495039, 0.03125, 'entropy = 0.922\\nsamples = 199\\nvalue = [132, 67]'),\n",
       " Text(0.7864755604557148, 0.03125, 'entropy = 0.871\\nsamples = 161\\nvalue = [114, 47]'),\n",
       " Text(0.7835354649026093, 0.15625, 'entropy = 0.815\\nsamples = 226\\nvalue = [169, 57]'),\n",
       " Text(0.7835354649026093, 0.28125, 'entropy = 0.915\\nsamples = 239\\nvalue = [160, 79]'),\n",
       " Text(0.7923557515619257, 0.34375, 'X[6] <= 0.859\\nentropy = 0.816\\nsamples = 644\\nvalue = [481, 163]'),\n",
       " Text(0.7894156560088202, 0.28125, 'entropy = 0.768\\nsamples = 299\\nvalue = [232, 67]'),\n",
       " Text(0.7952958471150312, 0.28125, 'X[9] <= 3.125\\nentropy = 0.853\\nsamples = 345\\nvalue = [249, 96]'),\n",
       " Text(0.7923557515619257, 0.21875, 'entropy = 0.824\\nsamples = 186\\nvalue = [138, 48]'),\n",
       " Text(0.7982359426681367, 0.21875, 'entropy = 0.884\\nsamples = 159\\nvalue = [111, 48]'),\n",
       " Text(0.8041161337743477, 0.53125, 'X[12] <= -1.312\\nentropy = 0.881\\nsamples = 1061\\nvalue = [743, 318]'),\n",
       " Text(0.8011760382212422, 0.46875, 'entropy = 0.945\\nsamples = 182\\nvalue = [116, 66]'),\n",
       " Text(0.8070562293274531, 0.46875, 'X[10] <= 0.528\\nentropy = 0.864\\nsamples = 879\\nvalue = [627, 252]'),\n",
       " Text(0.8011760382212422, 0.40625, 'X[12] <= -0.134\\nentropy = 0.894\\nsamples = 538\\nvalue = [371, 167]'),\n",
       " Text(0.7982359426681367, 0.34375, 'entropy = 0.85\\nsamples = 275\\nvalue = [199, 76]'),\n",
       " Text(0.8041161337743477, 0.34375, 'entropy = 0.93\\nsamples = 263\\nvalue = [172, 91]'),\n",
       " Text(0.8129364204336641, 0.40625, 'X[9] <= -0.541\\nentropy = 0.81\\nsamples = 341\\nvalue = [256, 85]'),\n",
       " Text(0.8099963248805586, 0.34375, 'entropy = 0.834\\nsamples = 189\\nvalue = [139, 50]'),\n",
       " Text(0.8158765159867696, 0.34375, 'entropy = 0.778\\nsamples = 152\\nvalue = [117, 35]'),\n",
       " Text(0.8158765159867696, 0.59375, 'X[6] <= 0.367\\nentropy = 0.724\\nsamples = 786\\nvalue = [628, 158]'),\n",
       " Text(0.8129364204336641, 0.53125, 'entropy = 0.529\\nsamples = 150\\nvalue = [132, 18]'),\n",
       " Text(0.8188166115398751, 0.53125, 'X[6] <= 0.595\\nentropy = 0.76\\nsamples = 636\\nvalue = [496, 140]'),\n",
       " Text(0.8158765159867696, 0.46875, 'entropy = 0.684\\nsamples = 176\\nvalue = [144, 32]'),\n",
       " Text(0.8217567070929805, 0.46875, 'X[10] <= -0.052\\nentropy = 0.786\\nsamples = 460\\nvalue = [352, 108]'),\n",
       " Text(0.8188166115398751, 0.40625, 'entropy = 0.739\\nsamples = 302\\nvalue = [239, 63]'),\n",
       " Text(0.824696802646086, 0.40625, 'entropy = 0.862\\nsamples = 158\\nvalue = [113, 45]'),\n",
       " Text(0.8467475192943771, 0.65625, 'X[6] <= 0.713\\nentropy = 0.642\\nsamples = 1710\\nvalue = [1431, 279]'),\n",
       " Text(0.836457184858508, 0.59375, 'X[6] <= 0.514\\nentropy = 0.479\\nsamples = 922\\nvalue = [827, 95]'),\n",
       " Text(0.830576993752297, 0.53125, 'X[6] <= 0.222\\nentropy = 0.401\\nsamples = 515\\nvalue = [474, 41]'),\n",
       " Text(0.8276368981991915, 0.46875, 'entropy = 0.535\\nsamples = 164\\nvalue = [144, 20]'),\n",
       " Text(0.8335170893054025, 0.46875, 'X[6] <= 0.404\\nentropy = 0.327\\nsamples = 351\\nvalue = [330, 21]'),\n",
       " Text(0.830576993752297, 0.40625, 'entropy = 0.226\\nsamples = 192\\nvalue = [185, 7]'),\n",
       " Text(0.836457184858508, 0.40625, 'entropy = 0.43\\nsamples = 159\\nvalue = [145, 14]'),\n",
       " Text(0.8423373759647188, 0.53125, 'X[12] <= 1.212\\nentropy = 0.565\\nsamples = 407\\nvalue = [353, 54]'),\n",
       " Text(0.8393972804116133, 0.46875, 'entropy = 0.667\\nsamples = 184\\nvalue = [152, 32]'),\n",
       " Text(0.8452774715178243, 0.46875, 'entropy = 0.465\\nsamples = 223\\nvalue = [201, 22]'),\n",
       " Text(0.8570378537302462, 0.59375, 'X[12] <= 1.717\\nentropy = 0.784\\nsamples = 788\\nvalue = [604, 184]'),\n",
       " Text(0.8540977581771407, 0.53125, 'X[12] <= 1.044\\nentropy = 0.765\\nsamples = 634\\nvalue = [493, 141]'),\n",
       " Text(0.8511576626240352, 0.46875, 'entropy = 0.815\\nsamples = 218\\nvalue = [163, 55]'),\n",
       " Text(0.8570378537302462, 0.46875, 'X[6] <= 1.211\\nentropy = 0.735\\nsamples = 416\\nvalue = [330, 86]'),\n",
       " Text(0.8540977581771407, 0.40625, 'entropy = 0.709\\nsamples = 222\\nvalue = [179, 43]'),\n",
       " Text(0.8599779492833517, 0.40625, 'entropy = 0.763\\nsamples = 194\\nvalue = [151, 43]'),\n",
       " Text(0.8599779492833517, 0.53125, 'entropy = 0.854\\nsamples = 154\\nvalue = [111, 43]'),\n",
       " Text(0.9230062477030504, 0.71875, 'X[6] <= 0.706\\nentropy = 0.924\\nsamples = 7452\\nvalue = [4922, 2530]'),\n",
       " Text(0.8959941198088938, 0.65625, 'X[2] <= 0.46\\nentropy = 0.887\\nsamples = 3984\\nvalue = [2769, 1215]'),\n",
       " Text(0.8849687614847482, 0.59375, 'X[0] <= 0.92\\nentropy = 0.877\\nsamples = 3600\\nvalue = [2533, 1067]'),\n",
       " Text(0.8717383314957736, 0.53125, 'X[6] <= 0.492\\nentropy = 0.813\\nsamples = 821\\nvalue = [615, 206]'),\n",
       " Text(0.8687982359426681, 0.46875, 'X[12] <= -0.302\\nentropy = 0.859\\nsamples = 581\\nvalue = [417, 164]'),\n",
       " Text(0.8658581403895627, 0.40625, 'entropy = 0.763\\nsamples = 257\\nvalue = [200, 57]'),\n",
       " Text(0.8717383314957736, 0.40625, 'X[1] <= 0.714\\nentropy = 0.915\\nsamples = 324\\nvalue = [217, 107]'),\n",
       " Text(0.8687982359426681, 0.34375, 'entropy = 0.878\\nsamples = 168\\nvalue = [118, 50]'),\n",
       " Text(0.8746784270488791, 0.34375, 'entropy = 0.947\\nsamples = 156\\nvalue = [99, 57]'),\n",
       " Text(0.8746784270488791, 0.46875, 'entropy = 0.669\\nsamples = 240\\nvalue = [198, 42]'),\n",
       " Text(0.8981991914737228, 0.53125, 'X[11] <= 1.016\\nentropy = 0.893\\nsamples = 2779\\nvalue = [1918, 861]'),\n",
       " Text(0.886438809261301, 0.46875, 'X[7] <= -2.584\\nentropy = 0.878\\nsamples = 2220\\nvalue = [1560, 660]'),\n",
       " Text(0.8834987137081955, 0.40625, 'entropy = 0.946\\nsamples = 313\\nvalue = [199, 114]'),\n",
       " Text(0.8893789048144065, 0.40625, 'X[9] <= -0.176\\nentropy = 0.864\\nsamples = 1907\\nvalue = [1361, 546]'),\n",
       " Text(0.8805586181550901, 0.34375, 'X[0] <= 1.127\\nentropy = 0.834\\nsamples = 1182\\nvalue = [869, 313]'),\n",
       " Text(0.8776185226019846, 0.28125, 'entropy = 0.73\\nsamples = 294\\nvalue = [234, 60]'),\n",
       " Text(0.8834987137081955, 0.28125, 'X[11] <= 0.679\\nentropy = 0.862\\nsamples = 888\\nvalue = [635, 253]'),\n",
       " Text(0.8805586181550901, 0.21875, 'X[10] <= -0.052\\nentropy = 0.841\\nsamples = 689\\nvalue = [503, 186]'),\n",
       " Text(0.8776185226019846, 0.15625, 'entropy = 0.778\\nsamples = 261\\nvalue = [201, 60]'),\n",
       " Text(0.8834987137081955, 0.15625, 'X[12] <= -0.302\\nentropy = 0.874\\nsamples = 428\\nvalue = [302, 126]'),\n",
       " Text(0.8805586181550901, 0.09375, 'entropy = 0.809\\nsamples = 165\\nvalue = [124, 41]'),\n",
       " Text(0.886438809261301, 0.09375, 'entropy = 0.908\\nsamples = 263\\nvalue = [178, 85]'),\n",
       " Text(0.886438809261301, 0.21875, 'entropy = 0.922\\nsamples = 199\\nvalue = [132, 67]'),\n",
       " Text(0.8981991914737228, 0.34375, 'X[12] <= 0.707\\nentropy = 0.906\\nsamples = 725\\nvalue = [492, 233]'),\n",
       " Text(0.8952590959206174, 0.28125, 'X[6] <= 0.404\\nentropy = 0.934\\nsamples = 509\\nvalue = [331, 178]'),\n",
       " Text(0.892319000367512, 0.21875, 'entropy = 0.96\\nsamples = 287\\nvalue = [177, 110]'),\n",
       " Text(0.8981991914737228, 0.21875, 'entropy = 0.889\\nsamples = 222\\nvalue = [154, 68]'),\n",
       " Text(0.9011392870268283, 0.28125, 'entropy = 0.819\\nsamples = 216\\nvalue = [161, 55]'),\n",
       " Text(0.9099595736861448, 0.46875, 'X[9] <= -0.176\\nentropy = 0.942\\nsamples = 559\\nvalue = [358, 201]'),\n",
       " Text(0.9070194781330393, 0.40625, 'X[6] <= 0.303\\nentropy = 0.909\\nsamples = 379\\nvalue = [256, 123]'),\n",
       " Text(0.9040793825799338, 0.34375, 'entropy = 0.945\\nsamples = 207\\nvalue = [132, 75]'),\n",
       " Text(0.9099595736861448, 0.34375, 'entropy = 0.854\\nsamples = 172\\nvalue = [124, 48]'),\n",
       " Text(0.9128996692392503, 0.40625, 'entropy = 0.987\\nsamples = 180\\nvalue = [102, 78]'),\n",
       " Text(0.9070194781330393, 0.59375, 'X[0] <= 0.662\\nentropy = 0.962\\nsamples = 384\\nvalue = [236, 148]'),\n",
       " Text(0.9040793825799338, 0.53125, 'entropy = 0.862\\nsamples = 151\\nvalue = [108, 43]'),\n",
       " Text(0.9099595736861448, 0.53125, 'entropy = 0.993\\nsamples = 233\\nvalue = [128, 105]'),\n",
       " Text(0.9500183755972069, 0.65625, 'X[20] <= 1.967\\nentropy = 0.957\\nsamples = 3468\\nvalue = [2153, 1315]'),\n",
       " Text(0.944138184490996, 0.59375, 'X[2] <= 0.46\\nentropy = 0.95\\nsamples = 3032\\nvalue = [1911, 1121]'),\n",
       " Text(0.9411980889378905, 0.53125, 'X[9] <= 0.192\\nentropy = 0.946\\nsamples = 2837\\nvalue = [1805, 1032]'),\n",
       " Text(0.9283351708930541, 0.46875, 'X[0] <= 1.153\\nentropy = 0.935\\nsamples = 2216\\nvalue = [1437, 779]'),\n",
       " Text(0.9187798603454612, 0.40625, 'X[0] <= 1.094\\nentropy = 0.891\\nsamples = 655\\nvalue = [453, 202]'),\n",
       " Text(0.9158397647923557, 0.34375, 'X[11] <= 0.679\\nentropy = 0.928\\nsamples = 469\\nvalue = [308, 161]'),\n",
       " Text(0.9128996692392503, 0.28125, 'X[1] <= 0.803\\nentropy = 0.959\\nsamples = 301\\nvalue = [186, 115]'),\n",
       " Text(0.9099595736861448, 0.21875, 'entropy = 0.916\\nsamples = 151\\nvalue = [101, 50]'),\n",
       " Text(0.9158397647923557, 0.21875, 'entropy = 0.987\\nsamples = 150\\nvalue = [85, 65]'),\n",
       " Text(0.9187798603454612, 0.28125, 'entropy = 0.847\\nsamples = 168\\nvalue = [122, 46]'),\n",
       " Text(0.9217199558985667, 0.34375, 'entropy = 0.761\\nsamples = 186\\nvalue = [145, 41]'),\n",
       " Text(0.9378904814406468, 0.40625, 'X[12] <= 0.707\\nentropy = 0.95\\nsamples = 1561\\nvalue = [984, 577]'),\n",
       " Text(0.9276001470047777, 0.34375, 'X[12] <= -1.312\\nentropy = 0.925\\nsamples = 935\\nvalue = [617, 318]'),\n",
       " Text(0.9246600514516722, 0.28125, 'entropy = 0.873\\nsamples = 157\\nvalue = [111, 46]'),\n",
       " Text(0.9305402425578831, 0.28125, 'X[10] <= -0.052\\nentropy = 0.934\\nsamples = 778\\nvalue = [506, 272]'),\n",
       " Text(0.9246600514516722, 0.21875, 'X[11] <= 0.679\\nentropy = 0.955\\nsamples = 413\\nvalue = [258, 155]'),\n",
       " Text(0.9217199558985667, 0.15625, 'entropy = 0.915\\nsamples = 227\\nvalue = [152, 75]'),\n",
       " Text(0.9276001470047777, 0.15625, 'entropy = 0.986\\nsamples = 186\\nvalue = [106, 80]'),\n",
       " Text(0.9364204336640941, 0.21875, 'X[6] <= 1.284\\nentropy = 0.905\\nsamples = 365\\nvalue = [248, 117]'),\n",
       " Text(0.9334803381109886, 0.15625, 'entropy = 0.846\\nsamples = 150\\nvalue = [109, 41]'),\n",
       " Text(0.9393605292171996, 0.15625, 'entropy = 0.937\\nsamples = 215\\nvalue = [139, 76]'),\n",
       " Text(0.948180815876516, 0.34375, 'X[12] <= 1.549\\nentropy = 0.978\\nsamples = 626\\nvalue = [367, 259]'),\n",
       " Text(0.9452407203234106, 0.28125, 'X[6] <= 1.412\\nentropy = 0.991\\nsamples = 443\\nvalue = [246, 197]'),\n",
       " Text(0.9423006247703051, 0.21875, 'entropy = 0.966\\nsamples = 214\\nvalue = [130, 84]'),\n",
       " Text(0.948180815876516, 0.21875, 'entropy = 1.0\\nsamples = 229\\nvalue = [116, 113]'),\n",
       " Text(0.9511209114296214, 0.28125, 'entropy = 0.924\\nsamples = 183\\nvalue = [121, 62]'),\n",
       " Text(0.9540610069827269, 0.46875, 'X[6] <= 0.876\\nentropy = 0.975\\nsamples = 621\\nvalue = [368, 253]'),\n",
       " Text(0.9511209114296214, 0.40625, 'entropy = 0.92\\nsamples = 167\\nvalue = [111, 56]'),\n",
       " Text(0.9570011025358324, 0.40625, 'X[6] <= 1.687\\nentropy = 0.987\\nsamples = 454\\nvalue = [257, 197]'),\n",
       " Text(0.9540610069827269, 0.34375, 'entropy = 1.0\\nsamples = 282\\nvalue = [144, 138]'),\n",
       " Text(0.9599411980889379, 0.34375, 'entropy = 0.928\\nsamples = 172\\nvalue = [113, 59]'),\n",
       " Text(0.9470782800441014, 0.53125, 'entropy = 0.995\\nsamples = 195\\nvalue = [106, 89]'),\n",
       " Text(0.9558985667034179, 0.59375, 'X[1] <= 0.487\\nentropy = 0.991\\nsamples = 436\\nvalue = [242, 194]'),\n",
       " Text(0.9529584711503124, 0.53125, 'entropy = 0.939\\nsamples = 264\\nvalue = [170, 94]'),\n",
       " Text(0.9588386622565234, 0.53125, 'entropy = 0.981\\nsamples = 172\\nvalue = [72, 100]'),\n",
       " Text(0.9805218669606762, 0.84375, 'X[0] <= 3.624\\nentropy = 0.999\\nsamples = 3148\\nvalue = [1626, 1522]'),\n",
       " Text(0.9698640205806689, 0.78125, 'X[6] <= -0.216\\nentropy = 0.993\\nsamples = 2560\\nvalue = [1409, 1151]'),\n",
       " Text(0.9617787578096288, 0.71875, 'X[6] <= -0.474\\nentropy = 0.899\\nsamples = 441\\nvalue = [302, 139]'),\n",
       " Text(0.9588386622565234, 0.65625, 'entropy = 0.852\\nsamples = 238\\nvalue = [172, 66]'),\n",
       " Text(0.9647188533627343, 0.65625, 'entropy = 0.942\\nsamples = 203\\nvalue = [130, 73]'),\n",
       " Text(0.9779492833517089, 0.71875, 'X[7] <= 0.03\\nentropy = 0.999\\nsamples = 2119\\nvalue = [1107, 1012]'),\n",
       " Text(0.9705990444689453, 0.65625, 'X[12] <= 1.044\\nentropy = 0.966\\nsamples = 1068\\nvalue = [649, 419]'),\n",
       " Text(0.9676589489158398, 0.59375, 'X[11] <= 1.016\\nentropy = 0.98\\nsamples = 901\\nvalue = [526, 375]'),\n",
       " Text(0.9647188533627343, 0.53125, 'X[12] <= -0.807\\nentropy = 0.99\\nsamples = 738\\nvalue = [412, 326]'),\n",
       " Text(0.9617787578096288, 0.46875, 'entropy = 0.973\\nsamples = 250\\nvalue = [149, 101]'),\n",
       " Text(0.9676589489158398, 0.46875, 'X[6] <= 0.556\\nentropy = 0.996\\nsamples = 488\\nvalue = [263, 225]'),\n",
       " Text(0.9647188533627343, 0.40625, 'entropy = 1.0\\nsamples = 168\\nvalue = [83, 85]'),\n",
       " Text(0.9705990444689453, 0.40625, 'X[10] <= 0.528\\nentropy = 0.989\\nsamples = 320\\nvalue = [180, 140]'),\n",
       " Text(0.9676589489158398, 0.34375, 'entropy = 0.97\\nsamples = 166\\nvalue = [100, 66]'),\n",
       " Text(0.9735391400220507, 0.34375, 'entropy = 0.999\\nsamples = 154\\nvalue = [80, 74]'),\n",
       " Text(0.9705990444689453, 0.53125, 'entropy = 0.882\\nsamples = 163\\nvalue = [114, 49]'),\n",
       " Text(0.9735391400220507, 0.59375, 'entropy = 0.832\\nsamples = 167\\nvalue = [123, 44]'),\n",
       " Text(0.9852995222344726, 0.65625, 'X[7] <= 0.303\\nentropy = 0.988\\nsamples = 1051\\nvalue = [458, 593]'),\n",
       " Text(0.9794193311282616, 0.59375, 'X[6] <= 0.633\\nentropy = 0.968\\nsamples = 679\\nvalue = [268, 411]'),\n",
       " Text(0.9764792355751561, 0.53125, 'X[11] <= -0.668\\nentropy = 0.989\\nsamples = 402\\nvalue = [176, 226]'),\n",
       " Text(0.9735391400220507, 0.46875, 'entropy = 0.943\\nsamples = 150\\nvalue = [54, 96]'),\n",
       " Text(0.9794193311282616, 0.46875, 'entropy = 0.999\\nsamples = 252\\nvalue = [122, 130]'),\n",
       " Text(0.9823594266813671, 0.53125, 'entropy = 0.917\\nsamples = 277\\nvalue = [92, 185]'),\n",
       " Text(0.9911797133406836, 0.59375, 'X[7] <= 0.391\\nentropy = 1.0\\nsamples = 372\\nvalue = [190, 182]'),\n",
       " Text(0.9882396177875781, 0.53125, 'entropy = 0.99\\nsamples = 168\\nvalue = [94, 74]'),\n",
       " Text(0.994119808893789, 0.53125, 'entropy = 0.998\\nsamples = 204\\nvalue = [96, 108]'),\n",
       " Text(0.9911797133406836, 0.78125, 'X[6] <= 0.14\\nentropy = 0.95\\nsamples = 588\\nvalue = [217, 371]'),\n",
       " Text(0.9882396177875781, 0.71875, 'entropy = 0.997\\nsamples = 183\\nvalue = [86, 97]'),\n",
       " Text(0.994119808893789, 0.71875, 'X[11] <= -0.331\\nentropy = 0.908\\nsamples = 405\\nvalue = [131, 274]'),\n",
       " Text(0.9911797133406836, 0.65625, 'entropy = 0.979\\nsamples = 169\\nvalue = [70, 99]'),\n",
       " Text(0.9970599044468945, 0.65625, 'entropy = 0.824\\nsamples = 236\\nvalue = [61, 175]')]"
      ]
     },
     "execution_count": 181,
     "metadata": {},
     "output_type": "execute_result"
    },
    {
     "data": {
      "image/png": "[encoded data removed]",
      "text/plain": [
       "<Figure size 720x720 with 1 Axes>"
      ]
     },
     "metadata": {
      "needs_background": "light"
     },
     "output_type": "display_data"
    }
   ],
   "source": [
    "# Plot the tree.\n",
    "from sklearn.tree import plot_tree\n",
    "plt.figure(figsize=(10,10))\n",
    "plot_tree(best_grid, filled=True)"
   ]
  },
  {
   "cell_type": "markdown",
   "id": "5da24025-2123-4738-b0bd-d598a325126a",
   "metadata": {},
   "source": [
    "## Random Forests\n",
    "\n",
    "Now we are going to try and see the RF Model and see that the accuracy improves."
   ]
  },
  {
   "cell_type": "code",
   "execution_count": 182,
   "id": "97647735-c587-43dc-92fa-b2f761e9cb85",
   "metadata": {},
   "outputs": [],
   "source": [
    "from sklearn.ensemble import RandomForestClassifier\n",
    "from sklearn.metrics import (\n",
    "    classification_report,\n",
    "    recall_score,\n",
    "    precision_score,\n",
    "    accuracy_score\n",
    ")\n",
    "\n",
    "model_rf = RandomForestClassifier(n_estimators=10, max_features=7, random_state=42)\n",
    "model_rf.fit(X_train, y_train)\n",
    "predict_rf = model_rf.predict(X_test)\n",
    "recall_rf = recall_score(y_test, predict_rf)\n",
    "precision_rf = precision_score(y_test, predict_rf)"
   ]
  },
  {
   "cell_type": "code",
   "execution_count": 183,
   "id": "dbc5b19e-74fb-4b42-9cf4-d7e4de5828f7",
   "metadata": {},
   "outputs": [
    {
     "name": "stdout",
     "output_type": "stream",
     "text": [
      "Classification Report:\n",
      "\n",
      "              precision    recall  f1-score   support\n",
      "\n",
      "           0       0.85      0.93      0.89     24880\n",
      "           1       0.38      0.20      0.26      5120\n",
      "\n",
      "    accuracy                           0.81     30000\n",
      "   macro avg       0.61      0.57      0.58     30000\n",
      "weighted avg       0.77      0.81      0.78     30000\n",
      "\n"
     ]
    }
   ],
   "source": [
    "print('Classification Report:\\n')\n",
    "print(classification_report(y_test, predict_rf))"
   ]
  },
  {
   "cell_type": "code",
   "execution_count": 184,
   "id": "975af05a-7796-4377-8819-55cfef2b3344",
   "metadata": {},
   "outputs": [
    {
     "name": "stderr",
     "output_type": "stream",
     "text": [
      "/Users/dheeraj/opt/anaconda3/lib/python3.9/site-packages/sklearn/utils/deprecation.py:87: FutureWarning: Function plot_roc_curve is deprecated; Function :func:`plot_roc_curve` is deprecated in 1.0 and will be removed in 1.2. Use one of the class methods: :meth:`sklearn.metric.RocCurveDisplay.from_predictions` or :meth:`sklearn.metric.RocCurveDisplay.from_estimator`.\n",
      "  warnings.warn(msg, category=FutureWarning)\n"
     ]
    },
    {
     "data": {
      "image/png": "[encoded data removed]",
      "text/plain": [
       "<Figure size 432x288 with 1 Axes>"
      ]
     },
     "metadata": {
      "needs_background": "light"
     },
     "output_type": "display_data"
    }
   ],
   "source": [
    "metrics.plot_roc_curve(model_rf, X_test, y_test) \n",
    "plt.show()"
   ]
  },
  {
   "cell_type": "code",
   "execution_count": 185,
   "id": "736cf83a-5a54-456b-8576-2c7ff9da821e",
   "metadata": {},
   "outputs": [
    {
     "name": "stdout",
     "output_type": "stream",
     "text": [
      "OOB Score:\t\t\t 0.8062\n",
      "Testing Accuracy:\t\t 0.8094\n",
      "Acc. Difference:\t\t 0.0032\n"
     ]
    }
   ],
   "source": [
    "from sklearn.ensemble import RandomForestClassifier\n",
    "\n",
    "model_rf_oob = RandomForestClassifier(n_estimators=100, max_features=7, oob_score=True, random_state=42).fit(X_train, y_train)\n",
    "oob_score = round(model_rf_oob.oob_score_,4)\n",
    "acc_oob = round(accuracy_score(y_test, model_rf_oob.predict(X_test)),4)\n",
    "diff_oob = round(abs(oob_score - acc_oob),4)\n",
    "\n",
    "print('OOB Score:\\t\\t\\t', oob_score)\n",
    "print('Testing Accuracy:\\t\\t', acc_oob)\n",
    "print('Acc. Difference:\\t\\t', diff_oob)"
   ]
  }
 ],
 "metadata": {
  "kernelspec": {
   "display_name": "Python 3 (ipykernel)",
   "language": "python",
   "name": "python3"
  },
  "language_info": {
   "codemirror_mode": {
    "name": "ipython",
    "version": 3
   },
   "file_extension": ".py",
   "mimetype": "text/x-python",
   "name": "python",
   "nbconvert_exporter": "python",
   "pygments_lexer": "ipython3",
   "version": "3.9.12"
  }
 },
 "nbformat": 4,
 "nbformat_minor": 5
}
