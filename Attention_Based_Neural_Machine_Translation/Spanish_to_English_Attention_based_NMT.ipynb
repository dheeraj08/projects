{
  "cells": [
    {
      "cell_type": "markdown",
      "id": "sSyIIvg6nqkF",
      "metadata": {
        "id": "sSyIIvg6nqkF"
      },
      "source": [
        "**Background:**\n",
        "Due to language barriers, a US-based life insurance company is facing a challenge in communicating with the Spanish-speaking community in Mexico. The locals there need help in understanding English, and the company cannot provide translators for all of them. To overcome this challenge and provide coverage to the locals, the company needs a machine translation model that can accurately translate the application request letter from Spanish to English.\n",
        "\n",
        "**Problem Statement:** Your task is to build an **attention-based sequence-to-sequence model** that can effectively understand the context of Spanish sentences and translate them into clear and coherent English sentences. The company aims to use this model to ensure seamless communication and provide coverage to the Spanish-speaking community in Mexico.\n",
        "\n",
        "\n",
        "**Objectives:**\n",
        "To explore the challenges of working with low-resource languages.\n",
        "Implement an encoder-decoder NMT model with attention.\n",
        "\n",
        "**Terminal Objective:**\n",
        "To build and train an NMT model that can accurately translate Spanish sentences to English and vice versa.\n"
      ]
    },
    {
      "cell_type": "markdown",
      "id": "KVHQz0V1gCYw",
      "metadata": {
        "id": "KVHQz0V1gCYw"
      },
      "source": [
        "### **Overall objectives:**\n",
        "The objective of this assignment is to build a Sequence to Sequence model for Spanish to English translation.\n",
        "\n",
        "The code is broken down into several pipelines:\n",
        "* Task 1: Load the data\n",
        "* Task 2: Process the data\n",
        "* Task 3: Build the NMT model\n",
        "* Task 4: Train the NMT model\n",
        "* Task 5: Evaluate the NMT model\n",
        "\n",
        "*Note: the details of each of the above task are elaborated in various parts of this stub code.\n",
        "\n"
      ]
    },
    {
      "cell_type": "markdown",
      "id": "EfqShvnGbQ3G",
      "metadata": {
        "id": "EfqShvnGbQ3G"
      },
      "source": [
        "### **Task 1. Load the data**"
      ]
    },
    {
      "cell_type": "markdown",
      "id": "0rmVOQFibqyc",
      "metadata": {
        "id": "0rmVOQFibqyc"
      },
      "source": [
        "#### 1.0 Importing Libraries"
      ]
    },
    {
      "cell_type": "code",
      "execution_count": 1,
      "id": "cf86bc76",
      "metadata": {
        "execution": {
          "iopub.execute_input": "2023-04-12T09:10:52.924555Z",
          "iopub.status.busy": "2023-04-12T09:10:52.923902Z",
          "iopub.status.idle": "2023-04-12T09:11:00.380261Z",
          "shell.execute_reply": "2023-04-12T09:11:00.378926Z"
        },
        "id": "cf86bc76",
        "papermill": {
          "duration": 7.477464,
          "end_time": "2023-04-12T09:11:00.383075",
          "exception": false,
          "start_time": "2023-04-12T09:10:52.905611",
          "status": "completed"
        },
        "tags": []
      },
      "outputs": [],
      "source": [
        "import os,io\n",
        "import re\n",
        "import numpy as np\n",
        "import pandas as pd\n",
        "import matplotlib.pyplot as plt\n",
        "import matplotlib.ticker as ticker\n",
        "import tensorflow as tf\n",
        "import warnings\n",
        "warnings.filterwarnings('ignore')"
      ]
    },
    {
      "cell_type": "markdown",
      "id": "d2904e53",
      "metadata": {
        "id": "d2904e53",
        "papermill": {
          "duration": 0.011168,
          "end_time": "2023-04-12T09:11:00.405876",
          "exception": false,
          "start_time": "2023-04-12T09:11:00.394708",
          "status": "completed"
        },
        "tags": []
      },
      "source": [
        "# Downloading the dataset\n",
        "\n",
        "The dataset used is a paired corpus of **English-Spanish**, provided by [Anki](https://www.manythings.org/anki/).\n",
        "\n",
        "The code starts by downloading a zip file containing the dataset for English to Spanish translation. The dataset is stored in the `spa-eng` folder and can be found in the file named `spa.txt`.\n",
        "\n",
        "Let's take a look at how the data looks like\n",
        "\n",
        "![Spa-Eng Data Set.png](data:image/png;base64,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)"
      ]
    },
    {
      "cell_type": "markdown",
      "id": "cc505f3e",
      "metadata": {
        "id": "cc505f3e",
        "papermill": {
          "duration": 0.01099,
          "end_time": "2023-04-12T09:11:00.429046",
          "exception": false,
          "start_time": "2023-04-12T09:11:00.418056",
          "status": "completed"
        },
        "tags": []
      },
      "source": [
        "- Each line in the `spa.txt` file contains an English word/sentence and their corresponding Spanish translation.\n",
        "\n",
        "- Some words might have multiple translation because of context.\n",
        "\n",
        "- Our first objective is to extract each line, and then separate the  English and Spanish words/sentences into two separate arrays. These will act as our input and target sentences for training the model"
      ]
    },
    {
      "cell_type": "code",
      "execution_count": 2,
      "id": "0e4378bb",
      "metadata": {
        "colab": {
          "base_uri": "https://localhost:8080/"
        },
        "execution": {
          "iopub.execute_input": "2023-04-12T09:11:00.453080Z",
          "iopub.status.busy": "2023-04-12T09:11:00.452422Z",
          "iopub.status.idle": "2023-04-12T09:11:00.642612Z",
          "shell.execute_reply": "2023-04-12T09:11:00.641627Z"
        },
        "id": "0e4378bb",
        "outputId": "2f001b9a-8240-4ab2-9ef8-27aed66854e2",
        "papermill": {
          "duration": 0.204912,
          "end_time": "2023-04-12T09:11:00.645136",
          "exception": false,
          "start_time": "2023-04-12T09:11:00.440224",
          "status": "completed"
        },
        "tags": []
      },
      "outputs": [
        {
          "name": "stdout",
          "output_type": "stream",
          "text": [
            "Downloading data from http://storage.googleapis.com/download.tensorflow.org/data/spa-eng.zip\n",
            "2638744/2638744 [==============================] - 1s 0us/step\n"
          ]
        }
      ],
      "source": [
        "# Downloading the file\n",
        "zip_file = tf.keras.utils.get_file(\n",
        "    'spa-eng.zip', origin='http://storage.googleapis.com/download.tensorflow.org/data/spa-eng.zip',\n",
        "    extract=True)\n",
        "\n",
        "file_path = os.path.dirname(zip_file)+\"/spa-eng/spa.txt\""
      ]
    },
    {
      "cell_type": "code",
      "execution_count": 3,
      "id": "8e10ea38",
      "metadata": {
        "colab": {
          "base_uri": "https://localhost:8080/"
        },
        "execution": {
          "iopub.execute_input": "2023-04-12T09:11:00.670431Z",
          "iopub.status.busy": "2023-04-12T09:11:00.669830Z",
          "iopub.status.idle": "2023-04-12T09:11:01.641896Z",
          "shell.execute_reply": "2023-04-12T09:11:01.640700Z"
        },
        "id": "8e10ea38",
        "outputId": "30b2c9ca-b8de-458c-dee4-6fc67f94398f",
        "papermill": {
          "duration": 0.98754,
          "end_time": "2023-04-12T09:11:01.644409",
          "exception": false,
          "start_time": "2023-04-12T09:11:00.656869",
          "status": "completed"
        },
        "tags": []
      },
      "outputs": [
        {
          "name": "stdout",
          "output_type": "stream",
          "text": [
            "Go.\tVe.\n",
            "Go.\tVete.\n",
            "Go.\tVaya.\n",
            "Go.\tVáyase.\n",
            "Hi.\tHola.\n",
            "Run!\t¡Corre!\n",
            "Run.\tCorred.\n",
            "Who?\t¿Quién?\n",
            "Fire!\t¡Fuego!\n",
            "Fire!\t¡Incendio!\n"
          ]
        }
      ],
      "source": [
        "! head -10 /root/.keras/datasets/spa-eng/spa.txt"
      ]
    },
    {
      "cell_type": "markdown",
      "id": "10cd5a8f",
      "metadata": {
        "id": "10cd5a8f",
        "papermill": {
          "duration": 0.011277,
          "end_time": "2023-04-12T09:11:01.667439",
          "exception": false,
          "start_time": "2023-04-12T09:11:01.656162",
          "status": "completed"
        },
        "tags": []
      },
      "source": [
        "# Load the data"
      ]
    },
    {
      "cell_type": "markdown",
      "id": "s66rBOGHcXmp",
      "metadata": {
        "id": "s66rBOGHcXmp"
      },
      "source": [
        "#### 1.2. Load the data\n",
        "\n",
        "Next step is to load the data and split it into two arrays `src_sentences` and `tgt_sentences`. For performing this task, we create a function `load_data`\n",
        "\n",
        "The function **load_data()** should read a file located at `file_path` and returns the text content split into source and target arrays.\n",
        "\n"
      ]
    },
    {
      "cell_type": "code",
      "execution_count": 5,
      "id": "173d5033",
      "metadata": {
        "execution": {
          "iopub.execute_input": "2023-04-12T09:11:01.692097Z",
          "iopub.status.busy": "2023-04-12T09:11:01.691519Z",
          "iopub.status.idle": "2023-04-12T09:11:01.698279Z",
          "shell.execute_reply": "2023-04-12T09:11:01.697211Z"
        },
        "id": "173d5033",
        "papermill": {
          "duration": 0.021888,
          "end_time": "2023-04-12T09:11:01.700595",
          "exception": false,
          "start_time": "2023-04-12T09:11:01.678707",
          "status": "completed"
        },
        "tags": []
      },
      "outputs": [],
      "source": [
        "def load_data(path, size=None):\n",
        "    text = io.open(file_path, encoding='UTF-8').read()\n",
        "\n",
        "    lines =  text.splitlines() # split the text into lines separated by newline # Insert Code Here ----\n",
        "    pairs = [line.split('\\t') for line in lines] # split each line into source and target using tabs # Insert Code Here ----\n",
        "\n",
        "    source = np.array([source for target, source in pairs])  # extract source text into a numpy array\n",
        "    target = np.array([target for target, source in pairs])  # extract target text into a numpy array\n",
        "\n",
        "    return source, target\n"
      ]
    },
    {
      "cell_type": "code",
      "execution_count": 7,
      "id": "5965a276",
      "metadata": {
        "colab": {
          "base_uri": "https://localhost:8080/"
        },
        "execution": {
          "iopub.execute_input": "2023-04-12T09:11:01.725018Z",
          "iopub.status.busy": "2023-04-12T09:11:01.723915Z",
          "iopub.status.idle": "2023-04-12T09:11:02.322361Z",
          "shell.execute_reply": "2023-04-12T09:11:02.320770Z"
        },
        "id": "5965a276",
        "outputId": "10f9500a-16e5-4e20-d11b-5faddfa49b66",
        "papermill": {
          "duration": 0.6131,
          "end_time": "2023-04-12T09:11:02.324845",
          "exception": false,
          "start_time": "2023-04-12T09:11:01.711745",
          "status": "completed"
        },
        "tags": []
      },
      "outputs": [
        {
          "name": "stdout",
          "output_type": "stream",
          "text": [
            "Original Sentence: Yo lo sé.\n",
            "Translated Sentence: I know.\n"
          ]
        }
      ],
      "source": [
        "src_sentences, tgt_sentences = load_data(file_path)\n",
        "print(f\"Original Sentence: {src_sentences[42]}\")\n",
        "print(f\"Translated Sentence: {tgt_sentences[42]}\")"
      ]
    },
    {
      "cell_type": "markdown",
      "id": "bc9acff7",
      "metadata": {
        "id": "bc9acff7",
        "papermill": {
          "duration": 0.011207,
          "end_time": "2023-04-12T09:11:02.347699",
          "exception": false,
          "start_time": "2023-04-12T09:11:02.336492",
          "status": "completed"
        },
        "tags": []
      },
      "source": [
        "#### 1.3 Visualize the data\n",
        "\n",
        "In the next subtask, we'll take a slight detour, and covert the given source and target sentences into a DataFrame and visualize the word/sentence-length distribution. It is important to analyze and visualize the corpus of data so that their sentence length distribution can be understood.\n",
        "\n",
        "Visualizing sentence length distribution helps in understanding data, making decisions about preprocessing, determining appropriate padding/truncation, and batch size for NMT model training."
      ]
    },
    {
      "cell_type": "code",
      "execution_count": 8,
      "id": "6cb9d251",
      "metadata": {
        "colab": {
          "base_uri": "https://localhost:8080/",
          "height": 424
        },
        "execution": {
          "iopub.execute_input": "2023-04-12T09:11:02.372479Z",
          "iopub.status.busy": "2023-04-12T09:11:02.371621Z",
          "iopub.status.idle": "2023-04-12T09:11:02.644450Z",
          "shell.execute_reply": "2023-04-12T09:11:02.643448Z"
        },
        "id": "6cb9d251",
        "outputId": "3cc55ada-2092-4b57-c4b9-2cef47b4184c",
        "papermill": {
          "duration": 0.287851,
          "end_time": "2023-04-12T09:11:02.646853",
          "exception": false,
          "start_time": "2023-04-12T09:11:02.359002",
          "status": "completed"
        },
        "tags": []
      },
      "outputs": [
        {
          "data": {
            "application/vnd.google.colaboratory.intrinsic+json": {
              "type": "dataframe",
              "variable_name": "df"
            },
            "text/html": [
              "\n",
              "  <div id=\"df-da4b3188-45ce-4488-8b50-b87852742994\" class=\"colab-df-container\">\n",
              "    <div>\n",
              "<style scoped>\n",
              "    .dataframe tbody tr th:only-of-type {\n",
              "        vertical-align: middle;\n",
              "    }\n",
              "\n",
              "    .dataframe tbody tr th {\n",
              "        vertical-align: top;\n",
              "    }\n",
              "\n",
              "    .dataframe thead th {\n",
              "        text-align: right;\n",
              "    }\n",
              "</style>\n",
              "<table border=\"1\" class=\"dataframe\">\n",
              "  <thead>\n",
              "    <tr style=\"text-align: right;\">\n",
              "      <th></th>\n",
              "      <th>source_sentence</th>\n",
              "      <th>target_sentence</th>\n",
              "    </tr>\n",
              "  </thead>\n",
              "  <tbody>\n",
              "    <tr>\n",
              "      <th>0</th>\n",
              "      <td>Ve.</td>\n",
              "      <td>Go.</td>\n",
              "    </tr>\n",
              "    <tr>\n",
              "      <th>1</th>\n",
              "      <td>Vete.</td>\n",
              "      <td>Go.</td>\n",
              "    </tr>\n",
              "    <tr>\n",
              "      <th>2</th>\n",
              "      <td>Vaya.</td>\n",
              "      <td>Go.</td>\n",
              "    </tr>\n",
              "    <tr>\n",
              "      <th>3</th>\n",
              "      <td>Váyase.</td>\n",
              "      <td>Go.</td>\n",
              "    </tr>\n",
              "    <tr>\n",
              "      <th>4</th>\n",
              "      <td>Hola.</td>\n",
              "      <td>Hi.</td>\n",
              "    </tr>\n",
              "    <tr>\n",
              "      <th>...</th>\n",
              "      <td>...</td>\n",
              "      <td>...</td>\n",
              "    </tr>\n",
              "    <tr>\n",
              "      <th>118959</th>\n",
              "      <td>Hay cuatro causas principales de muertes relac...</td>\n",
              "      <td>There are four main causes of alcohol-related ...</td>\n",
              "    </tr>\n",
              "    <tr>\n",
              "      <th>118960</th>\n",
              "      <td>Hay madres y padres que se quedan despiertos d...</td>\n",
              "      <td>There are mothers and fathers who will lie awa...</td>\n",
              "    </tr>\n",
              "    <tr>\n",
              "      <th>118961</th>\n",
              "      <td>Una huella de carbono es la cantidad de contam...</td>\n",
              "      <td>A carbon footprint is the amount of carbon dio...</td>\n",
              "    </tr>\n",
              "    <tr>\n",
              "      <th>118962</th>\n",
              "      <td>Como suele haber varias páginas web sobre cual...</td>\n",
              "      <td>Since there are usually multiple websites on a...</td>\n",
              "    </tr>\n",
              "    <tr>\n",
              "      <th>118963</th>\n",
              "      <td>Si quieres sonar como un hablante nativo, debe...</td>\n",
              "      <td>If you want to sound like a native speaker, yo...</td>\n",
              "    </tr>\n",
              "  </tbody>\n",
              "</table>\n",
              "<p>118964 rows × 2 columns</p>\n",
              "</div>\n",
              "    <div class=\"colab-df-buttons\">\n",
              "\n",
              "  <div class=\"colab-df-container\">\n",
              "    <button class=\"colab-df-convert\" onclick=\"convertToInteractive('df-da4b3188-45ce-4488-8b50-b87852742994')\"\n",
              "            title=\"Convert this dataframe to an interactive table.\"\n",
              "            style=\"display:none;\">\n",
              "\n",
              "  <svg xmlns=\"http://www.w3.org/2000/svg\" height=\"24px\" viewBox=\"0 -960 960 960\">\n",
              "    <path d=\"M120-120v-720h720v720H120Zm60-500h600v-160H180v160Zm220 220h160v-160H400v160Zm0 220h160v-160H400v160ZM180-400h160v-160H180v160Zm440 0h160v-160H620v160ZM180-180h160v-160H180v160Zm440 0h160v-160H620v160Z\"/>\n",
              "  </svg>\n",
              "    </button>\n",
              "\n",
              "  <style>\n",
              "    .colab-df-container {\n",
              "      display:flex;\n",
              "      gap: 12px;\n",
              "    }\n",
              "\n",
              "    .colab-df-convert {\n",
              "      background-color: #E8F0FE;\n",
              "      border: none;\n",
              "      border-radius: 50%;\n",
              "      cursor: pointer;\n",
              "      display: none;\n",
              "      fill: #1967D2;\n",
              "      height: 32px;\n",
              "      padding: 0 0 0 0;\n",
              "      width: 32px;\n",
              "    }\n",
              "\n",
              "    .colab-df-convert:hover {\n",
              "      background-color: #E2EBFA;\n",
              "      box-shadow: 0px 1px 2px rgba(60, 64, 67, 0.3), 0px 1px 3px 1px rgba(60, 64, 67, 0.15);\n",
              "      fill: #174EA6;\n",
              "    }\n",
              "\n",
              "    .colab-df-buttons div {\n",
              "      margin-bottom: 4px;\n",
              "    }\n",
              "\n",
              "    [theme=dark] .colab-df-convert {\n",
              "      background-color: #3B4455;\n",
              "      fill: #D2E3FC;\n",
              "    }\n",
              "\n",
              "    [theme=dark] .colab-df-convert:hover {\n",
              "      background-color: #434B5C;\n",
              "      box-shadow: 0px 1px 3px 1px rgba(0, 0, 0, 0.15);\n",
              "      filter: drop-shadow(0px 1px 2px rgba(0, 0, 0, 0.3));\n",
              "      fill: #FFFFFF;\n",
              "    }\n",
              "  </style>\n",
              "\n",
              "    <script>\n",
              "      const buttonEl =\n",
              "        document.querySelector('#df-da4b3188-45ce-4488-8b50-b87852742994 button.colab-df-convert');\n",
              "      buttonEl.style.display =\n",
              "        google.colab.kernel.accessAllowed ? 'block' : 'none';\n",
              "\n",
              "      async function convertToInteractive(key) {\n",
              "        const element = document.querySelector('#df-da4b3188-45ce-4488-8b50-b87852742994');\n",
              "        const dataTable =\n",
              "          await google.colab.kernel.invokeFunction('convertToInteractive',\n",
              "                                                    [key], {});\n",
              "        if (!dataTable) return;\n",
              "\n",
              "        const docLinkHtml = 'Like what you see? Visit the ' +\n",
              "          '<a target=\"_blank\" href=https://colab.research.google.com/notebooks/data_table.ipynb>data table notebook</a>'\n",
              "          + ' to learn more about interactive tables.';\n",
              "        element.innerHTML = '';\n",
              "        dataTable['output_type'] = 'display_data';\n",
              "        await google.colab.output.renderOutput(dataTable, element);\n",
              "        const docLink = document.createElement('div');\n",
              "        docLink.innerHTML = docLinkHtml;\n",
              "        element.appendChild(docLink);\n",
              "      }\n",
              "    </script>\n",
              "  </div>\n",
              "\n",
              "\n",
              "<div id=\"df-e92f7384-c16e-43d8-82fb-3ba04fcca5dc\">\n",
              "  <button class=\"colab-df-quickchart\" onclick=\"quickchart('df-e92f7384-c16e-43d8-82fb-3ba04fcca5dc')\"\n",
              "            title=\"Suggest charts\"\n",
              "            style=\"display:none;\">\n",
              "\n",
              "<svg xmlns=\"http://www.w3.org/2000/svg\" height=\"24px\"viewBox=\"0 0 24 24\"\n",
              "     width=\"24px\">\n",
              "    <g>\n",
              "        <path d=\"M19 3H5c-1.1 0-2 .9-2 2v14c0 1.1.9 2 2 2h14c1.1 0 2-.9 2-2V5c0-1.1-.9-2-2-2zM9 17H7v-7h2v7zm4 0h-2V7h2v10zm4 0h-2v-4h2v4z\"/>\n",
              "    </g>\n",
              "</svg>\n",
              "  </button>\n",
              "\n",
              "<style>\n",
              "  .colab-df-quickchart {\n",
              "      --bg-color: #E8F0FE;\n",
              "      --fill-color: #1967D2;\n",
              "      --hover-bg-color: #E2EBFA;\n",
              "      --hover-fill-color: #174EA6;\n",
              "      --disabled-fill-color: #AAA;\n",
              "      --disabled-bg-color: #DDD;\n",
              "  }\n",
              "\n",
              "  [theme=dark] .colab-df-quickchart {\n",
              "      --bg-color: #3B4455;\n",
              "      --fill-color: #D2E3FC;\n",
              "      --hover-bg-color: #434B5C;\n",
              "      --hover-fill-color: #FFFFFF;\n",
              "      --disabled-bg-color: #3B4455;\n",
              "      --disabled-fill-color: #666;\n",
              "  }\n",
              "\n",
              "  .colab-df-quickchart {\n",
              "    background-color: var(--bg-color);\n",
              "    border: none;\n",
              "    border-radius: 50%;\n",
              "    cursor: pointer;\n",
              "    display: none;\n",
              "    fill: var(--fill-color);\n",
              "    height: 32px;\n",
              "    padding: 0;\n",
              "    width: 32px;\n",
              "  }\n",
              "\n",
              "  .colab-df-quickchart:hover {\n",
              "    background-color: var(--hover-bg-color);\n",
              "    box-shadow: 0 1px 2px rgba(60, 64, 67, 0.3), 0 1px 3px 1px rgba(60, 64, 67, 0.15);\n",
              "    fill: var(--button-hover-fill-color);\n",
              "  }\n",
              "\n",
              "  .colab-df-quickchart-complete:disabled,\n",
              "  .colab-df-quickchart-complete:disabled:hover {\n",
              "    background-color: var(--disabled-bg-color);\n",
              "    fill: var(--disabled-fill-color);\n",
              "    box-shadow: none;\n",
              "  }\n",
              "\n",
              "  .colab-df-spinner {\n",
              "    border: 2px solid var(--fill-color);\n",
              "    border-color: transparent;\n",
              "    border-bottom-color: var(--fill-color);\n",
              "    animation:\n",
              "      spin 1s steps(1) infinite;\n",
              "  }\n",
              "\n",
              "  @keyframes spin {\n",
              "    0% {\n",
              "      border-color: transparent;\n",
              "      border-bottom-color: var(--fill-color);\n",
              "      border-left-color: var(--fill-color);\n",
              "    }\n",
              "    20% {\n",
              "      border-color: transparent;\n",
              "      border-left-color: var(--fill-color);\n",
              "      border-top-color: var(--fill-color);\n",
              "    }\n",
              "    30% {\n",
              "      border-color: transparent;\n",
              "      border-left-color: var(--fill-color);\n",
              "      border-top-color: var(--fill-color);\n",
              "      border-right-color: var(--fill-color);\n",
              "    }\n",
              "    40% {\n",
              "      border-color: transparent;\n",
              "      border-right-color: var(--fill-color);\n",
              "      border-top-color: var(--fill-color);\n",
              "    }\n",
              "    60% {\n",
              "      border-color: transparent;\n",
              "      border-right-color: var(--fill-color);\n",
              "    }\n",
              "    80% {\n",
              "      border-color: transparent;\n",
              "      border-right-color: var(--fill-color);\n",
              "      border-bottom-color: var(--fill-color);\n",
              "    }\n",
              "    90% {\n",
              "      border-color: transparent;\n",
              "      border-bottom-color: var(--fill-color);\n",
              "    }\n",
              "  }\n",
              "</style>\n",
              "\n",
              "  <script>\n",
              "    async function quickchart(key) {\n",
              "      const quickchartButtonEl =\n",
              "        document.querySelector('#' + key + ' button');\n",
              "      quickchartButtonEl.disabled = true;  // To prevent multiple clicks.\n",
              "      quickchartButtonEl.classList.add('colab-df-spinner');\n",
              "      try {\n",
              "        const charts = await google.colab.kernel.invokeFunction(\n",
              "            'suggestCharts', [key], {});\n",
              "      } catch (error) {\n",
              "        console.error('Error during call to suggestCharts:', error);\n",
              "      }\n",
              "      quickchartButtonEl.classList.remove('colab-df-spinner');\n",
              "      quickchartButtonEl.classList.add('colab-df-quickchart-complete');\n",
              "    }\n",
              "    (() => {\n",
              "      let quickchartButtonEl =\n",
              "        document.querySelector('#df-e92f7384-c16e-43d8-82fb-3ba04fcca5dc button');\n",
              "      quickchartButtonEl.style.display =\n",
              "        google.colab.kernel.accessAllowed ? 'block' : 'none';\n",
              "    })();\n",
              "  </script>\n",
              "</div>\n",
              "\n",
              "  <div id=\"id_389dc296-b099-4542-8458-6f9b89eaffe1\">\n",
              "    <style>\n",
              "      .colab-df-generate {\n",
              "        background-color: #E8F0FE;\n",
              "        border: none;\n",
              "        border-radius: 50%;\n",
              "        cursor: pointer;\n",
              "        display: none;\n",
              "        fill: #1967D2;\n",
              "        height: 32px;\n",
              "        padding: 0 0 0 0;\n",
              "        width: 32px;\n",
              "      }\n",
              "\n",
              "      .colab-df-generate:hover {\n",
              "        background-color: #E2EBFA;\n",
              "        box-shadow: 0px 1px 2px rgba(60, 64, 67, 0.3), 0px 1px 3px 1px rgba(60, 64, 67, 0.15);\n",
              "        fill: #174EA6;\n",
              "      }\n",
              "\n",
              "      [theme=dark] .colab-df-generate {\n",
              "        background-color: #3B4455;\n",
              "        fill: #D2E3FC;\n",
              "      }\n",
              "\n",
              "      [theme=dark] .colab-df-generate:hover {\n",
              "        background-color: #434B5C;\n",
              "        box-shadow: 0px 1px 3px 1px rgba(0, 0, 0, 0.15);\n",
              "        filter: drop-shadow(0px 1px 2px rgba(0, 0, 0, 0.3));\n",
              "        fill: #FFFFFF;\n",
              "      }\n",
              "    </style>\n",
              "    <button class=\"colab-df-generate\" onclick=\"generateWithVariable('df')\"\n",
              "            title=\"Generate code using this dataframe.\"\n",
              "            style=\"display:none;\">\n",
              "\n",
              "  <svg xmlns=\"http://www.w3.org/2000/svg\" height=\"24px\"viewBox=\"0 0 24 24\"\n",
              "       width=\"24px\">\n",
              "    <path d=\"M7,19H8.4L18.45,9,17,7.55,7,17.6ZM5,21V16.75L18.45,3.32a2,2,0,0,1,2.83,0l1.4,1.43a1.91,1.91,0,0,1,.58,1.4,1.91,1.91,0,0,1-.58,1.4L9.25,21ZM18.45,9,17,7.55Zm-12,3A5.31,5.31,0,0,0,4.9,8.1,5.31,5.31,0,0,0,1,6.5,5.31,5.31,0,0,0,4.9,4.9,5.31,5.31,0,0,0,6.5,1,5.31,5.31,0,0,0,8.1,4.9,5.31,5.31,0,0,0,12,6.5,5.46,5.46,0,0,0,6.5,12Z\"/>\n",
              "  </svg>\n",
              "    </button>\n",
              "    <script>\n",
              "      (() => {\n",
              "      const buttonEl =\n",
              "        document.querySelector('#id_389dc296-b099-4542-8458-6f9b89eaffe1 button.colab-df-generate');\n",
              "      buttonEl.style.display =\n",
              "        google.colab.kernel.accessAllowed ? 'block' : 'none';\n",
              "\n",
              "      buttonEl.onclick = () => {\n",
              "        google.colab.notebook.generateWithVariable('df');\n",
              "      }\n",
              "      })();\n",
              "    </script>\n",
              "  </div>\n",
              "\n",
              "    </div>\n",
              "  </div>\n"
            ],
            "text/plain": [
              "                                          source_sentence  \\\n",
              "0                                                     Ve.   \n",
              "1                                                   Vete.   \n",
              "2                                                   Vaya.   \n",
              "3                                                 Váyase.   \n",
              "4                                                   Hola.   \n",
              "...                                                   ...   \n",
              "118959  Hay cuatro causas principales de muertes relac...   \n",
              "118960  Hay madres y padres que se quedan despiertos d...   \n",
              "118961  Una huella de carbono es la cantidad de contam...   \n",
              "118962  Como suele haber varias páginas web sobre cual...   \n",
              "118963  Si quieres sonar como un hablante nativo, debe...   \n",
              "\n",
              "                                          target_sentence  \n",
              "0                                                     Go.  \n",
              "1                                                     Go.  \n",
              "2                                                     Go.  \n",
              "3                                                     Go.  \n",
              "4                                                     Hi.  \n",
              "...                                                   ...  \n",
              "118959  There are four main causes of alcohol-related ...  \n",
              "118960  There are mothers and fathers who will lie awa...  \n",
              "118961  A carbon footprint is the amount of carbon dio...  \n",
              "118962  Since there are usually multiple websites on a...  \n",
              "118963  If you want to sound like a native speaker, yo...  \n",
              "\n",
              "[118964 rows x 2 columns]"
            ]
          },
          "execution_count": 8,
          "metadata": {},
          "output_type": "execute_result"
        }
      ],
      "source": [
        "#Create a dataframe\n",
        "df = pd.DataFrame(zip(src_sentences, tgt_sentences), columns=['source_sentence', 'target_sentence'])\n",
        "df"
      ]
    },
    {
      "cell_type": "code",
      "execution_count": 9,
      "id": "6a8ebe8a",
      "metadata": {
        "colab": {
          "base_uri": "https://localhost:8080/",
          "height": 452
        },
        "execution": {
          "iopub.execute_input": "2023-04-12T09:11:02.672352Z",
          "iopub.status.busy": "2023-04-12T09:11:02.672046Z",
          "iopub.status.idle": "2023-04-12T09:11:03.438426Z",
          "shell.execute_reply": "2023-04-12T09:11:03.437403Z"
        },
        "id": "6a8ebe8a",
        "outputId": "b7bc71b3-73ee-4525-db48-1a2435b24fb7",
        "papermill": {
          "duration": 0.781602,
          "end_time": "2023-04-12T09:11:03.440796",
          "exception": false,
          "start_time": "2023-04-12T09:11:02.659194",
          "status": "completed"
        },
        "tags": []
      },
      "outputs": [
        {
          "data": {
            "image/png": "[encoded data removed]",
            "text/plain": [
              "<Figure size 640x480 with 2 Axes>"
            ]
          },
          "metadata": {},
          "output_type": "display_data"
        }
      ],
      "source": [
        "eng_len = []\n",
        "span_len = []\n",
        "\n",
        "# populate the lists with sentence lengths\n",
        "for i in src_sentences:\n",
        "      eng_len.append(len(i.split()))\n",
        "\n",
        "for i in tgt_sentences:\n",
        "      span_len.append(len(i.split()))\n",
        "\n",
        "length_df = pd.DataFrame({'english':eng_len, 'spanish':span_len})\n",
        "\n",
        "length_df.hist(bins = 20)\n",
        "plt.show()"
      ]
    },
    {
      "cell_type": "markdown",
      "id": "b7d106f2",
      "metadata": {
        "id": "b7d106f2",
        "papermill": {
          "duration": 0.012084,
          "end_time": "2023-04-12T09:11:03.465228",
          "exception": false,
          "start_time": "2023-04-12T09:11:03.453144",
          "status": "completed"
        },
        "tags": []
      },
      "source": [
        "### **Task 2: Process the data**\n",
        "\n",
        "Once we have loaded the dataset, and obtained the source and target sentences, we process the data with the following steps:\n",
        "\n",
        "* Apply basic text preprocessing techniques to clean the data.\n",
        "* Tokenize each sentence to their vector representation, add <*start*> & <*end*> tokens & *pad* each sentence to a maximum length.\n",
        "* Split the source & target sentences to train & validation data\n",
        "* Create a `tf.dataset` from the `tf.data` [API](https://www.tensorflow.org/guide/data). This API helps you build & work with complex input pipelines which allows you to handle large amounts of data and perform complex transformations on them."
      ]
    },
    {
      "cell_type": "markdown",
      "id": "MB-l_jjyKzxi",
      "metadata": {
        "id": "MB-l_jjyKzxi"
      },
      "source": [
        "##### 2.1 Clean the data\n"
      ]
    },
    {
      "cell_type": "code",
      "execution_count": 10,
      "id": "96bca5b4",
      "metadata": {
        "execution": {
          "iopub.execute_input": "2023-04-12T09:11:03.490673Z",
          "iopub.status.busy": "2023-04-12T09:11:03.490351Z",
          "iopub.status.idle": "2023-04-12T09:11:04.107054Z",
          "shell.execute_reply": "2023-04-12T09:11:04.106030Z"
        },
        "id": "96bca5b4",
        "papermill": {
          "duration": 0.632403,
          "end_time": "2023-04-12T09:11:04.109699",
          "exception": false,
          "start_time": "2023-04-12T09:11:03.477296",
          "status": "completed"
        },
        "tags": []
      },
      "outputs": [],
      "source": [
        "import re, itertools\n",
        "from collections import Counter\n",
        "import tensorflow as tf\n",
        "from tensorflow.keras.preprocessing.text import Tokenizer\n",
        "from tensorflow.keras.preprocessing.sequence import pad_sequences\n",
        "from sklearn.model_selection import train_test_split"
      ]
    },
    {
      "cell_type": "markdown",
      "id": "58cea107",
      "metadata": {
        "id": "58cea107",
        "papermill": {
          "duration": 0.011934,
          "end_time": "2023-04-12T09:11:04.134031",
          "exception": false,
          "start_time": "2023-04-12T09:11:04.122097",
          "status": "completed"
        },
        "tags": []
      },
      "source": [
        "###### 2.1.1 Text Standardization\n",
        "\n",
        "The model is dealing with multilingual text with a limited vocabulary. So it will be important to standardize the input text. The first step is Unicode normalization to split accented characters and replace compatibility characters with their ASCII equivalents.\n",
        "\n",
        "For example\n",
        "\n",
        "- Input: Yo lo sé.\n",
        "- Output: <*sos*> yo lo se . <*eos*>"
      ]
    },
    {
      "cell_type": "code",
      "execution_count": 11,
      "id": "aeec23ba",
      "metadata": {
        "execution": {
          "iopub.execute_input": "2023-04-12T09:11:04.161003Z",
          "iopub.status.busy": "2023-04-12T09:11:04.159267Z",
          "iopub.status.idle": "2023-04-12T09:11:04.166740Z",
          "shell.execute_reply": "2023-04-12T09:11:04.165803Z"
        },
        "id": "aeec23ba",
        "papermill": {
          "duration": 0.022335,
          "end_time": "2023-04-12T09:11:04.168779",
          "exception": false,
          "start_time": "2023-04-12T09:11:04.146444",
          "status": "completed"
        },
        "tags": []
      },
      "outputs": [],
      "source": [
        "import unicodedata\n",
        "\n",
        "def unicode_to_ascii(s):\n",
        "    # Normalize the input string `s` to its decomposed form\n",
        "    normalized = unicodedata.normalize('NFD', s)\n",
        "    # Return a new string that only contains ASCII characters\n",
        "    # Exclude characters with the category \"Mark, Nonspacing\"\n",
        "    return ''.join(c for c in normalized if unicodedata.category(c) != 'Mn')\n",
        "\n",
        "def preprocess_text(text):\n",
        "  \"\"\"\n",
        "  Preprocess the input text data by removing special characters, lowercasing it and adding start and end tokens\n",
        "\n",
        "  Arguments:\n",
        "    text (str): Input text string\n",
        "\n",
        "  Returns:\n",
        "    preprocessed_text (str): Preprocessed text string with added start and end tokens\n",
        "  \"\"\"\n",
        "  # Lowercase all the text using unicode to ascii conversion. You can call the unicode_to_ascii function defined earlier\n",
        "  text = unicode_to_ascii(text.lower().strip())\n",
        "\n",
        "  # Replacing special characters with space except (a-z, A-Z, \".\", \"?\", \"!\", \",\")\n",
        "  text = re.sub(r\"[^a-zA-Z.?!,:]+\", \" \", text)\n",
        "\n",
        "  # Search for (?, ., !, ,, or ¿)and insert a space before and after each match.\n",
        "  text = re.sub(r\"([.?!,:¿])\", r\" \\1 \", text)\n",
        "\n",
        "  # Search for one or more consecutive spaces and replace them with a single space.\n",
        "  text = re.sub(r'[\" \"]+', \" \", text)\n",
        "\n",
        "  # Strip whitespace.\n",
        "  text = text.rstrip().strip()\n",
        "\n",
        "  # Add the <start> & <end> tokens\n",
        "  text = '<sos> ' + text + ' <eos>'\n",
        "\n",
        "  return text\n"
      ]
    },
    {
      "cell_type": "code",
      "execution_count": 12,
      "id": "97bdbb0a",
      "metadata": {
        "colab": {
          "base_uri": "https://localhost:8080/"
        },
        "execution": {
          "iopub.execute_input": "2023-04-12T09:11:04.195206Z",
          "iopub.status.busy": "2023-04-12T09:11:04.193613Z",
          "iopub.status.idle": "2023-04-12T09:11:09.162455Z",
          "shell.execute_reply": "2023-04-12T09:11:09.160769Z"
        },
        "id": "97bdbb0a",
        "outputId": "55bbeb73-927e-4399-b61c-26f88e2ca5cb",
        "papermill": {
          "duration": 4.98388,
          "end_time": "2023-04-12T09:11:09.164810",
          "exception": false,
          "start_time": "2023-04-12T09:11:04.180930",
          "status": "completed"
        },
        "tags": []
      },
      "outputs": [
        {
          "name": "stdout",
          "output_type": "stream",
          "text": [
            "Original sentence: Yo lo sé.\n",
            "Preprocessed sentence: <sos> yo lo se . <eos>\n"
          ]
        }
      ],
      "source": [
        "print(f'Original sentence: {src_sentences[42]}')\n",
        "prc_src_sentences = [preprocess_text(w) for w in src_sentences]\n",
        "prc_tgt_sentences = [preprocess_text(w) for w in tgt_sentences]\n",
        "print(f'Preprocessed sentence: {prc_src_sentences[42]}')"
      ]
    },
    {
      "cell_type": "markdown",
      "id": "022ac2c5",
      "metadata": {
        "id": "022ac2c5",
        "papermill": {
          "duration": 0.011958,
          "end_time": "2023-04-12T09:11:09.189303",
          "exception": false,
          "start_time": "2023-04-12T09:11:09.177345",
          "status": "completed"
        },
        "tags": []
      },
      "source": [
        "#### 2.2 Tokenize the data\n",
        "\n",
        "Once, the sentences are splitted and special tokens are added, the process of tokenization is carried out using the **Tokenizer** class from the **tensorflow.keras.preprocessing.text** module.\n",
        "\n",
        "Steps:\n",
        "\n",
        "* The Tokenizer object is initialized and fit to the text data.\n",
        "* The texts are then tokenized, meaning that each word is assigned a unique number.\n",
        "* The resulting sequences are then padded and truncated to make all of them of equal length.\n",
        "\n",
        "We'll create a function named `tokenize` to perform all the above steps together. Here's an example of how the function will transform an input sentence:\n",
        "\n",
        "- Input: <*sos*> yo lo se . <*eos*>\n",
        "- Output:  [ 1 26 18 17  3  2  0  0  0  0  0  0  0  0  0  0]"
      ]
    },
    {
      "cell_type": "code",
      "execution_count": 13,
      "id": "f90cffa0",
      "metadata": {
        "execution": {
          "iopub.execute_input": "2023-04-12T09:11:09.215267Z",
          "iopub.status.busy": "2023-04-12T09:11:09.214338Z",
          "iopub.status.idle": "2023-04-12T09:11:09.220393Z",
          "shell.execute_reply": "2023-04-12T09:11:09.219614Z"
        },
        "id": "f90cffa0",
        "papermill": {
          "duration": 0.02092,
          "end_time": "2023-04-12T09:11:09.222342",
          "exception": false,
          "start_time": "2023-04-12T09:11:09.201422",
          "status": "completed"
        },
        "tags": []
      },
      "outputs": [],
      "source": [
        "def tokenize(sentences):\n",
        "    \"\"\"\n",
        "    Tokenizes the input sentences and returns the tokenized sequences, tokenizer object, and the max length of the sequences.\n",
        "\n",
        "    Parameters:\n",
        "    sentences (list): A list of sentences to be tokenized.\n",
        "\n",
        "    Returns:\n",
        "    sequences (numpy array): The tokenized sequences.\n",
        "    lang_tokenizer (Tokenizer object): Tokenizer object fit on the input sentences.\n",
        "    max_length (int): Maximum length of the sequences.\n",
        "\n",
        "    \"\"\"\n",
        "    # Initialize the tokenizer object\n",
        "    lang_tokenizer = Tokenizer( filters='')\n",
        "    # Fit the tokenizer on the input sentences\n",
        "    lang_tokenizer.fit_on_texts(sentences)\n",
        "    # Tokenize the sentences\n",
        "    sequences = lang_tokenizer.texts_to_sequences(sentences)\n",
        "    # Find the max length of the sequences\n",
        "    max_length = max(len(s) for s in sequences)\n",
        "    # Pad and truncate the sequences\n",
        "    sequences = pad_sequences(sequences, maxlen=max_length, padding='post', truncating='post')\n",
        "\n",
        "    return sequences, lang_tokenizer, max_length\n"
      ]
    },
    {
      "cell_type": "markdown",
      "id": "4d4cd8d9",
      "metadata": {
        "id": "4d4cd8d9",
        "papermill": {
          "duration": 0.011861,
          "end_time": "2023-04-12T09:11:09.246125",
          "exception": false,
          "start_time": "2023-04-12T09:11:09.234264",
          "status": "completed"
        },
        "tags": []
      },
      "source": [
        "###### 2.2.1 Create source and target sequences using tokenize()\n",
        "\n",
        "Before we apply the **tokenize()** function, we need to make an important consideration. We won't be able to apply the processing and tokenization function to the entire dataset as it will exhaust all the available RAM. Hence, it is recommended to limit the data. Training on the complete dataset of >100,000 sentences will take a long time.\n",
        "\n",
        "To train faster, we can limit the size of the dataset to `40,000` sentences\n",
        "\n",
        "(***Note***: *Translation quality degrades with less data, however for demonstration purposes, we have gone for a faster training process*).\n",
        "\n",
        "To filter the data, process & tokenize them, we can build a function `load_sequences` that perform all the three tasks inside it. This function will return the source, target sequences,  their maximum length & the tokenisers used for them."
      ]
    },
    {
      "cell_type": "code",
      "execution_count": 14,
      "id": "a93dc044",
      "metadata": {
        "execution": {
          "iopub.execute_input": "2023-04-12T09:11:09.271334Z",
          "iopub.status.busy": "2023-04-12T09:11:09.271054Z",
          "iopub.status.idle": "2023-04-12T09:11:09.277023Z",
          "shell.execute_reply": "2023-04-12T09:11:09.275927Z"
        },
        "id": "a93dc044",
        "papermill": {
          "duration": 0.021111,
          "end_time": "2023-04-12T09:11:09.279122",
          "exception": false,
          "start_time": "2023-04-12T09:11:09.258011",
          "status": "completed"
        },
        "tags": []
      },
      "outputs": [],
      "source": [
        "def load_sequences(path, size=None):\n",
        "    \"\"\"\n",
        "    Loads and preprocesses the dataset.\n",
        "\n",
        "    Parameters:\n",
        "    - path (str): The path to the dataset file.\n",
        "    - size (int, optional): The number of data points to load. Default is None which loads all the data.\n",
        "\n",
        "    Returns:\n",
        "    - src_sequences (np.array): Array of preprocessed and tokenized source sentences.\n",
        "    - tgt_sequences (np.array): Array of preprocessed and tokenized target sentences.\n",
        "    - src_lang_tokenizer (Tokenizer): Tokenizer object fit on source sentences.\n",
        "    - tgt_lang_tokenizer (Tokenizer): Tokenizer object fit on target sentences.\n",
        "    - max_length_src (int): Maximum length of source sequences.\n",
        "    - max_length_trg (int): Maximum length of target sequences.\n",
        "    \"\"\"\n",
        "    # Load the data again using the load_data function with the size argument\n",
        "    src_sentences, tgt_sentences = load_data(path, size=size)\n",
        "\n",
        "    # Preprocess the source and target sentences\n",
        "    src_sentences = [preprocess_text(w) for w in src_sentences]\n",
        "    tgt_sentences = [preprocess_text(w) for w in tgt_sentences]\n",
        "\n",
        "    src_sequences,src_lang_tokenizer,max_length_src = tokenize(src_sentences)\n",
        "    tgt_sequences,tgt_lang_tokenizer,max_length_trg = tokenize(tgt_sentences)\n",
        "\n",
        "    return src_sequences, tgt_sequences, src_lang_tokenizer, tgt_lang_tokenizer, max_length_src, max_length_trg\n"
      ]
    },
    {
      "cell_type": "code",
      "execution_count": 15,
      "id": "fa29ef81",
      "metadata": {
        "colab": {
          "base_uri": "https://localhost:8080/"
        },
        "execution": {
          "iopub.execute_input": "2023-04-12T09:11:09.304310Z",
          "iopub.status.busy": "2023-04-12T09:11:09.304037Z",
          "iopub.status.idle": "2023-04-12T09:11:19.740035Z",
          "shell.execute_reply": "2023-04-12T09:11:19.737448Z"
        },
        "id": "fa29ef81",
        "outputId": "fa7d8d7a-d57b-433d-a4e1-854547bbd20d",
        "papermill": {
          "duration": 10.451657,
          "end_time": "2023-04-12T09:11:19.742912",
          "exception": false,
          "start_time": "2023-04-12T09:11:09.291255",
          "status": "completed"
        },
        "tags": []
      },
      "outputs": [
        {
          "name": "stdout",
          "output_type": "stream",
          "text": [
            "Source Sequences: (118964, 53)\n",
            "Target Sequences: (118964, 51)\n",
            "Source Max Length: 53\n",
            "Target Max Length: 51\n"
          ]
        }
      ],
      "source": [
        "#Write a code below to print the src sequences and tgt sequences shape\n",
        "src_sequences, tgt_sequences, src_lang_tokenizer, tgt_lang_tokenizer, max_length_src, max_length_trg = load_sequences(file_path)\n",
        "print(f\"Source Sequences: {src_sequences.shape}\")\n",
        "print(f\"Target Sequences: {tgt_sequences.shape}\")\n",
        "print(f\"Source Max Length: {max_length_src}\")\n",
        "print(f\"Target Max Length: {max_length_trg}\")"
      ]
    },
    {
      "cell_type": "code",
      "execution_count": 16,
      "id": "fe2398a8",
      "metadata": {
        "colab": {
          "base_uri": "https://localhost:8080/"
        },
        "execution": {
          "iopub.execute_input": "2023-04-12T09:11:19.773322Z",
          "iopub.status.busy": "2023-04-12T09:11:19.772799Z",
          "iopub.status.idle": "2023-04-12T09:11:19.781317Z",
          "shell.execute_reply": "2023-04-12T09:11:19.780014Z"
        },
        "id": "fe2398a8",
        "outputId": "e94a18bc-25e4-4b8c-fdce-6308c800efda",
        "papermill": {
          "duration": 0.027715,
          "end_time": "2023-04-12T09:11:19.783499",
          "exception": false,
          "start_time": "2023-04-12T09:11:19.755784",
          "status": "completed"
        },
        "tags": []
      },
      "outputs": [
        {
          "name": "stdout",
          "output_type": "stream",
          "text": [
            "Original sentence: Yo lo sé.\n",
            "Text after preprocessing: <sos> yo lo se . <eos>\n",
            "Text after tokenization: [ 1 37 20 15  3  2  0  0  0  0  0  0  0  0  0  0  0  0  0  0  0  0  0  0\n",
            "  0  0  0  0  0  0  0  0  0  0  0  0  0  0  0  0  0  0  0  0  0  0  0  0\n",
            "  0  0  0  0  0]\n"
          ]
        }
      ],
      "source": [
        "print(f\"Original sentence: {src_sentences[42]}\")\n",
        "print(f\"Text after preprocessing: {preprocess_text(src_sentences[42])}\")\n",
        "print(f\"Text after tokenization: {src_sequences[42]}\")"
      ]
    },
    {
      "cell_type": "code",
      "execution_count": 17,
      "id": "ee776e34",
      "metadata": {
        "colab": {
          "base_uri": "https://localhost:8080/"
        },
        "execution": {
          "iopub.execute_input": "2023-04-12T09:11:19.809666Z",
          "iopub.status.busy": "2023-04-12T09:11:19.808890Z",
          "iopub.status.idle": "2023-04-12T09:11:19.815558Z",
          "shell.execute_reply": "2023-04-12T09:11:19.814167Z"
        },
        "id": "ee776e34",
        "outputId": "0319497b-5e7c-4e54-92e2-acbf83c81a3f",
        "papermill": {
          "duration": 0.022076,
          "end_time": "2023-04-12T09:11:19.817791",
          "exception": false,
          "start_time": "2023-04-12T09:11:19.795715",
          "status": "completed"
        },
        "tags": []
      },
      "outputs": [
        {
          "name": "stdout",
          "output_type": "stream",
          "text": [
            "Original sentence: I know.\n",
            "Text after preprocessing: <sos> i know . <eos>\n",
            "Text after tokenization: [ 1  4 45  3  2  0  0  0  0  0  0  0  0  0  0  0  0  0  0  0  0  0  0  0\n",
            "  0  0  0  0  0  0  0  0  0  0  0  0  0  0  0  0  0  0  0  0  0  0  0  0\n",
            "  0  0  0]\n"
          ]
        }
      ],
      "source": [
        "print(f\"Original sentence: {tgt_sentences[42]}\")\n",
        "print(f\"Text after preprocessing: {preprocess_text(tgt_sentences[42])}\")\n",
        "print(f\"Text after tokenization: {tgt_sequences[42]}\")"
      ]
    },
    {
      "cell_type": "markdown",
      "id": "61373c47",
      "metadata": {
        "id": "61373c47",
        "papermill": {
          "duration": 0.012077,
          "end_time": "2023-04-12T09:11:19.841869",
          "exception": false,
          "start_time": "2023-04-12T09:11:19.829792",
          "status": "completed"
        },
        "tags": []
      },
      "source": [
        "###### 2.2.2 Understanding what's happening inside\n",
        "\n",
        "We're taking another detour here, to understand how the tokenisation layer converts a batch of strings into a batch of token IDs.\n",
        "\n",
        "Using the **.index_word()** method, we can convert the token IDs back to words for understanding the mapping and what's under the hood.\n",
        "\n",
        "**Note**: This is not required for the final model building process, and is only shown for your understanding"
      ]
    },
    {
      "cell_type": "code",
      "execution_count": 18,
      "id": "a76d0b60",
      "metadata": {
        "colab": {
          "base_uri": "https://localhost:8080/"
        },
        "execution": {
          "iopub.execute_input": "2023-04-12T09:11:19.867430Z",
          "iopub.status.busy": "2023-04-12T09:11:19.867165Z",
          "iopub.status.idle": "2023-04-12T09:11:19.873917Z",
          "shell.execute_reply": "2023-04-12T09:11:19.872770Z"
        },
        "id": "a76d0b60",
        "outputId": "bcf15c8e-071f-44fa-d17f-4613c1a1086f",
        "papermill": {
          "duration": 0.024126,
          "end_time": "2023-04-12T09:11:19.878036",
          "exception": false,
          "start_time": "2023-04-12T09:11:19.853910",
          "status": "completed"
        },
        "tags": []
      },
      "outputs": [
        {
          "name": "stdout",
          "output_type": "stream",
          "text": [
            "Input Language; index to word mapping\n",
            "1 ----> <sos>\n",
            "37 ----> yo\n",
            "20 ----> lo\n",
            "15 ----> se\n",
            "3 ----> .\n",
            "2 ----> <eos>\n",
            "\n",
            "Target Language; index to word mapping\n",
            "1 ----> <sos>\n",
            "4 ----> i\n",
            "45 ----> know\n",
            "3 ----> .\n",
            "2 ----> <eos>\n"
          ]
        }
      ],
      "source": [
        "#Testing if the word to index / index to word mappings have been obtained correctly.\n",
        "def convert(lang, tensor):\n",
        "  for t in tensor:\n",
        "    if t!=0:\n",
        "      print (\"%d ----> %s\" % (t, lang.index_word[t]))\n",
        "\n",
        "print (\"Input Language; index to word mapping\")\n",
        "convert(src_lang_tokenizer, src_sequences[42])\n",
        "print ()\n",
        "print (\"Target Language; index to word mapping\")\n",
        "convert(tgt_lang_tokenizer, tgt_sequences[42])"
      ]
    },
    {
      "cell_type": "code",
      "execution_count": 19,
      "id": "966f94c5",
      "metadata": {
        "colab": {
          "base_uri": "https://localhost:8080/"
        },
        "execution": {
          "iopub.execute_input": "2023-04-12T09:11:19.903919Z",
          "iopub.status.busy": "2023-04-12T09:11:19.903663Z",
          "iopub.status.idle": "2023-04-12T09:11:19.909922Z",
          "shell.execute_reply": "2023-04-12T09:11:19.908656Z"
        },
        "id": "966f94c5",
        "outputId": "ce7880a4-40e0-459d-b02f-dcb6b6c2d914",
        "papermill": {
          "duration": 0.022068,
          "end_time": "2023-04-12T09:11:19.912297",
          "exception": false,
          "start_time": "2023-04-12T09:11:19.890229",
          "status": "completed"
        },
        "tags": []
      },
      "outputs": [
        {
          "name": "stdout",
          "output_type": "stream",
          "text": [
            "24794\n",
            "12935\n"
          ]
        }
      ],
      "source": [
        "# getting the size of the input and output vocabularies.\n",
        "\n",
        "src_vocab_size = len(src_lang_tokenizer.word_index)+1\n",
        "tgt_vocab_size = len(tgt_lang_tokenizer.word_index)+1\n",
        "print(src_vocab_size)\n",
        "print(tgt_vocab_size)"
      ]
    },
    {
      "cell_type": "markdown",
      "id": "f705a1b6",
      "metadata": {
        "execution": {
          "iopub.execute_input": "2023-04-12T08:37:46.149129Z",
          "iopub.status.busy": "2023-04-12T08:37:46.148081Z",
          "iopub.status.idle": "2023-04-12T08:37:46.153395Z",
          "shell.execute_reply": "2023-04-12T08:37:46.152412Z",
          "shell.execute_reply.started": "2023-04-12T08:37:46.149085Z"
        },
        "id": "f705a1b6",
        "papermill": {
          "duration": 0.012299,
          "end_time": "2023-04-12T09:11:19.936749",
          "exception": false,
          "start_time": "2023-04-12T09:11:19.924450",
          "status": "completed"
        },
        "tags": []
      },
      "source": [
        "#### 2.4 Train-Test Split\n",
        "Now that we have processed the data, it's time to split it into train and test datasets. This way, we can use the train data to train our model and evaluate the model performance on the test data.\n",
        "\n",
        "The ***train_test_split()*** function from the sklearn library is used to split the data. `src_sequences` and `tgt_sequences` are the input and target sequences respectively. The test_size parameter specifies the proportion of the data that should be used for testing, and random_state is used to set the random seed for reproducibility."
      ]
    },
    {
      "cell_type": "code",
      "execution_count": 20,
      "id": "eb8d3829",
      "metadata": {
        "colab": {
          "base_uri": "https://localhost:8080/"
        },
        "execution": {
          "iopub.execute_input": "2023-04-12T09:11:19.963123Z",
          "iopub.status.busy": "2023-04-12T09:11:19.962346Z",
          "iopub.status.idle": "2023-04-12T09:11:19.990488Z",
          "shell.execute_reply": "2023-04-12T09:11:19.988924Z"
        },
        "id": "eb8d3829",
        "outputId": "c2ebeeb3-19b3-4154-c8c7-6eab7b0992a0",
        "papermill": {
          "duration": 0.043945,
          "end_time": "2023-04-12T09:11:19.992979",
          "exception": false,
          "start_time": "2023-04-12T09:11:19.949034",
          "status": "completed"
        },
        "tags": []
      },
      "outputs": [
        {
          "name": "stdout",
          "output_type": "stream",
          "text": [
            "Training Data:\n",
            "Number of source sentences: 95171\n",
            "Number of target sentences: 95171\n",
            "Average length of source sentences: 53.0\n",
            "Average length of target sentences: 53.0\n",
            "\n",
            "Test Data:\n",
            "Number of source sentences: 23793\n",
            "Number of target sentences: 23793\n",
            "Average length of source sentences: 53.0\n",
            "Average length of target sentences: 51.0\n"
          ]
        }
      ],
      "source": [
        "source_sequences_train,source_sequences_val,tgt_sequences_train,tgt_sequences_val = train_test_split(src_sequences, tgt_sequences, shuffle=False, test_size=0.2)\n",
        "\n",
        "# Print the lengths of source and target sentences for training and test data\n",
        "print(\"Training Data:\")\n",
        "print(f\"Number of source sentences: {len(source_sequences_train)}\")\n",
        "print(f\"Number of target sentences: {len(source_sequences_train)}\")\n",
        "print(f\"Average length of source sentences: {np.mean([len(seq) for seq in source_sequences_train])}\")\n",
        "print(f\"Average length of target sentences: {np.mean([len(seq) for seq in source_sequences_train])}\")\n",
        "\n",
        "print(\"\\nTest Data:\")\n",
        "print(f\"Number of source sentences: {len(source_sequences_val)}\")\n",
        "print(f\"Number of target sentences: {len(tgt_sequences_val)}\")\n",
        "print(f\"Average length of source sentences: {np.mean([len(seq) for seq in source_sequences_val])}\")\n",
        "print(f\"Average length of target sentences: {np.mean([len(seq) for seq in tgt_sequences_val])}\")"
      ]
    },
    {
      "cell_type": "code",
      "execution_count": 21,
      "id": "3d6d9767",
      "metadata": {
        "colab": {
          "base_uri": "https://localhost:8080/"
        },
        "execution": {
          "iopub.execute_input": "2023-04-12T09:11:20.020131Z",
          "iopub.status.busy": "2023-04-12T09:11:20.019244Z",
          "iopub.status.idle": "2023-04-12T09:11:20.026537Z",
          "shell.execute_reply": "2023-04-12T09:11:20.025274Z"
        },
        "id": "3d6d9767",
        "outputId": "283c8731-fdb8-4f0b-cabc-5ceaee6884f5",
        "papermill": {
          "duration": 0.02409,
          "end_time": "2023-04-12T09:11:20.029701",
          "exception": false,
          "start_time": "2023-04-12T09:11:20.005611",
          "status": "completed"
        },
        "tags": []
      },
      "outputs": [
        {
          "name": "stdout",
          "output_type": "stream",
          "text": [
            "[   1 1321    3    2    0    0    0    0    0    0    0    0    0    0\n",
            "    0    0    0    0    0    0    0    0    0    0    0    0    0    0\n",
            "    0    0    0    0    0    0    0    0    0    0    0    0    0    0\n",
            "    0    0    0    0    0    0    0    0    0    0    0]\n",
            "[  1  28  20 314  17  93   8 548 439   3   2   0   0   0   0   0   0   0\n",
            "   0   0   0   0   0   0   0   0   0   0   0   0   0   0   0   0   0   0\n",
            "   0   0   0   0   0   0   0   0   0   0   0   0   0   0   0   0   0]\n",
            "[ 1 49  3  2  0  0  0  0  0  0  0  0  0  0  0  0  0  0  0  0  0  0  0  0\n",
            "  0  0  0  0  0  0  0  0  0  0  0  0  0  0  0  0  0  0  0  0  0  0  0  0\n",
            "  0  0  0]\n",
            "[  1   4 125   7  20  96   7  65  12 311 764   3   2   0   0   0   0   0\n",
            "   0   0   0   0   0   0   0   0   0   0   0   0   0   0   0   0   0   0\n",
            "   0   0   0   0   0   0   0   0   0   0   0   0   0   0   0]\n"
          ]
        }
      ],
      "source": [
        "print(source_sequences_train[1])\n",
        "print(source_sequences_val[1])\n",
        "print(tgt_sequences_train[1])\n",
        "print(tgt_sequences_val[1])"
      ]
    },
    {
      "cell_type": "markdown",
      "id": "rRtqeShj36Ge",
      "metadata": {
        "id": "rRtqeShj36Ge"
      },
      "source": [
        "#### 2.5 Create a ***tf.dataset***\n",
        "\n",
        "The input pipeline starts from importing the data and creating a dataset from the data stored in the memory. For this, you can use `tf.data.Dataset.from_tensor_slices()`, which creates a **tf.data.Dataset** the object whose elements are slices of the passed tensors. Once you have created the object, you can transform it by applying different operations to the dataset object. (for example, Dataset.map() orDataset.batch()).\n",
        "\n",
        "From the arrays of sequences created ater tokenisation, you can create a tf.data.Dataset of strings that shuffles and batches them efficiently"
      ]
    },
    {
      "cell_type": "markdown",
      "id": "5hrKGHrHkOFF",
      "metadata": {
        "id": "5hrKGHrHkOFF"
      },
      "source": [
        "###### 2.5.1 Defining Hyperparameters\n",
        "The following hyperparameters for the creating the **tf.dataset** (and later for model building purposes as well) are specified:\n",
        "- `buffer_size`: This represents the buffer size for the training data. It is calculated by taking the length of the `source_sequences_train` array.\n",
        "- `val_buffer_size`: This represents the buffer size for the validation data. It is calculated by taking the length of the `source_sequences_val` array.\n",
        "- `BATCH_SIZE`: This represents the batch size for the training process. It is set to 64.\n",
        "- `embedding_dim`: This represents the embedding dimension for the input data. It is set to 128.\n",
        "- `units`: This represents the number of units in the recurrent neural network (RNN) used for the model. It is set to 1024.\n",
        "- `steps_per_epoch`: This represents the number of steps to take during each epoch of training. It is calculated as the `buffer_size` divided by the `BATCH_SIZE`.\n",
        "- `val_steps_per_epoch`: This represents the number of validation steps to take during each epoch of training. It is calculated as the `val_buffer_size` divided by the `BATCH_SIZE`.\n",
        "It is important to note that these hyperparameters have been selected based on heuristics and may need to be fine-tuned for different problems or data sets."
      ]
    },
    {
      "cell_type": "code",
      "execution_count": 22,
      "id": "28e62bda",
      "metadata": {
        "execution": {
          "iopub.execute_input": "2023-04-12T09:11:20.106329Z",
          "iopub.status.busy": "2023-04-12T09:11:20.105972Z",
          "iopub.status.idle": "2023-04-12T09:11:20.111482Z",
          "shell.execute_reply": "2023-04-12T09:11:20.110358Z"
        },
        "id": "28e62bda",
        "papermill": {
          "duration": 0.021219,
          "end_time": "2023-04-12T09:11:20.113874",
          "exception": false,
          "start_time": "2023-04-12T09:11:20.092655",
          "status": "completed"
        },
        "tags": []
      },
      "outputs": [],
      "source": [
        "#Defining hyperparameters\n",
        "buffer_size=len(source_sequences_train)\n",
        "val_buffer_size = len(source_sequences_val)\n",
        "BATCH_SIZE = 64\n",
        "embedding_dim = 128\n",
        "units = 1024\n",
        "steps_per_epoch = buffer_size//BATCH_SIZE\n",
        "val_steps_per_epoch = val_buffer_size//BATCH_SIZE"
      ]
    },
    {
      "cell_type": "code",
      "execution_count": 23,
      "id": "129fcddb",
      "metadata": {
        "execution": {
          "iopub.execute_input": "2023-04-12T09:11:20.139923Z",
          "iopub.status.busy": "2023-04-12T09:11:20.139659Z",
          "iopub.status.idle": "2023-04-12T09:11:22.789693Z",
          "shell.execute_reply": "2023-04-12T09:11:22.788663Z"
        },
        "id": "129fcddb",
        "papermill": {
          "duration": 2.666119,
          "end_time": "2023-04-12T09:11:22.792366",
          "exception": false,
          "start_time": "2023-04-12T09:11:20.126247",
          "status": "completed"
        },
        "tags": []
      },
      "outputs": [],
      "source": [
        "# Create a dataset object for the training set\n",
        "train_dataset = tf.data.Dataset.from_tensor_slices((source_sequences_train, tgt_sequences_train))\n",
        "\n",
        "# Shuffle and batch the training set\n",
        "train_dataset = train_dataset.shuffle(buffer_size=buffer_size).batch(BATCH_SIZE)\n",
        "\n",
        "# Create a dataset object for the validation set\n",
        "val_dataset = tf.data.Dataset.from_tensor_slices((source_sequences_val, tgt_sequences_val))\n",
        "\n",
        "# Batch the validation set\n",
        "val_dataset = val_dataset.batch(BATCH_SIZE)"
      ]
    },
    {
      "cell_type": "code",
      "execution_count": 24,
      "id": "ce17f002",
      "metadata": {
        "colab": {
          "base_uri": "https://localhost:8080/"
        },
        "execution": {
          "iopub.execute_input": "2023-04-12T09:11:22.819400Z",
          "iopub.status.busy": "2023-04-12T09:11:22.819114Z",
          "iopub.status.idle": "2023-04-12T09:11:23.120143Z",
          "shell.execute_reply": "2023-04-12T09:11:23.119032Z"
        },
        "id": "ce17f002",
        "outputId": "f8d7b847-81ff-4015-f2f5-1d7978be65bc",
        "papermill": {
          "duration": 0.317429,
          "end_time": "2023-04-12T09:11:23.122783",
          "exception": false,
          "start_time": "2023-04-12T09:11:22.805354",
          "status": "completed"
        },
        "tags": []
      },
      "outputs": [
        {
          "data": {
            "text/plain": [
              "(TensorShape([64, 53]), TensorShape([64, 51]))"
            ]
          },
          "execution_count": 24,
          "metadata": {},
          "output_type": "execute_result"
        }
      ],
      "source": [
        "# Printing the shape of an input batch\n",
        "example_input_batch, example_target_batch = next(iter(train_dataset))\n",
        "example_input_batch.shape, example_target_batch.shape"
      ]
    },
    {
      "cell_type": "markdown",
      "id": "OyfKKzO6kjTO",
      "metadata": {
        "id": "OyfKKzO6kjTO"
      },
      "source": [
        "### **Task 3: Build the NMT model**\n",
        "\n",
        "Let's take a recap of what we have done so far and what we have to do further.\n",
        "\n",
        "![picture](https://drive.google.com/uc?id=1TxuSn45YlitOoPI63MfLIMJUGMWiuPt0)\n",
        "\n",
        "Once we have preprocessed the model, the next task is to pass it to the NMT model so that it can perform the task of machine translation:\n",
        "\n",
        "> #### Encoder-Decoder model with attention\n",
        "\n",
        "The encoder model consists of an embedding layer, a GRU layer with 1024 units.\n",
        "\n",
        "The decoder model consists of an attention layer, a embedding layer, a GRU layer and a dense layer.\n",
        "\n",
        "The attention model consists of three dense layers (BahdanauAttention Model) .\n",
        "\n",
        "\n",
        "---\n",
        "![picture](https://drive.google.com/uc?id=1AnbdmNzOi9WyEZ8RiMWL3MsndVliggs7)"
      ]
    },
    {
      "cell_type": "markdown",
      "id": "z8EIkR3CuSkP",
      "metadata": {
        "id": "z8EIkR3CuSkP"
      },
      "source": [
        "#### 3.1 Build the Encoder\n",
        "The goal of the encoder is to process the context sequence into a sequence of vectors that are useful for the decoder as it attempts to predict the next output for each timestep.\n",
        "\n",
        "---\n",
        "\n",
        "\n",
        "The **Encoder** class is defined as a subclass of tf.keras.Model. It takes the following parameters as inputs:\n",
        "\n",
        "> **Class constructor:**\n",
        "\n",
        "* **vocab_size:** Integer representing the size of the vocabulary in the input language.\n",
        "* **emb_dim:** Integer representing the dimension of the embedding space.\n",
        "* **enc_units:** Integer representing the number of encoding GRU units.\n",
        "* **batch_sz:** Integer representing the batch size used during training.\n",
        "\n",
        "\n",
        "> It also initializes the following layers:\n",
        "\n",
        "* An **Embedding layer**, which maps the input language word indices to dense vectors in the embedding space. mask_zero argument is set to True to mask the padding in the input sequence.\n",
        "* A **GRU layer**, which performs the encoding of the input sequences.\n",
        "\n",
        "> The **call** method is defined to perform the forward pass of the Encoder. It takes two inputs:\n",
        "\n",
        "* x: Input sequences of shape (batch_size, sequence_length).\n",
        "* hidden: The initial hidden state, with shape **(batch_size, enc_units)**.\n",
        "\n",
        "> It does the following operations:\n",
        "1. The method first maps the input sequences to the embedding space using the Embedding layer. The resulting output has shape (batch_size, sequence_length, emb_dim).\n",
        "2. Then, the encoded sequence and the final hidden state are obtained by passing the embedded input through the GRU layer. The shape of the encoded sequence is **(batch_size, sequence_length, enc_units)** and the shape of the final hidden state is **(batch_size, enc_units).**\n",
        "3. The initialize_hidden_state method is used to initialize the hidden state of the GRU layer to all zeros, with shape **(batch_size, enc_units).**\n"
      ]
    },
    {
      "cell_type": "code",
      "execution_count": 25,
      "id": "74886cdd",
      "metadata": {
        "execution": {
          "iopub.execute_input": "2023-04-12T09:11:23.200403Z",
          "iopub.status.busy": "2023-04-12T09:11:23.199630Z",
          "iopub.status.idle": "2023-04-12T09:11:23.207947Z",
          "shell.execute_reply": "2023-04-12T09:11:23.207011Z"
        },
        "id": "74886cdd",
        "papermill": {
          "duration": 0.024172,
          "end_time": "2023-04-12T09:11:23.210079",
          "exception": false,
          "start_time": "2023-04-12T09:11:23.185907",
          "status": "completed"
        },
        "tags": []
      },
      "outputs": [],
      "source": [
        "# Define the Encoder model\n",
        "class Encoder(tf.keras.Model):\n",
        "    \"\"\"\n",
        "    The Encoder model for the Seq2Seq model\n",
        "\n",
        "    \"\"\"\n",
        "    def __init__(self, vocab_size, emb_dim, enc_units, batch_sz):\n",
        "        super(Encoder, self).__init__()\n",
        "        # Store the number of GRU units in the encoder\n",
        "        self.enc_units = enc_units\n",
        "        # Store the batch size\n",
        "        self.batch_sz = batch_sz\n",
        "        # Define the embedding layer for the input sequence\n",
        "        self.embedding = tf.keras.layers.Embedding(vocab_size, emb_dim,mask_zero=True)\n",
        "        # Define the GRU layer for encoding the input sequence\n",
        "        self.gru = tf.keras.layers.GRU(self.enc_units,\n",
        "                                       return_sequences=True,\n",
        "                                       return_state=True,\n",
        "                                       recurrent_initializer='glorot_uniform')\n",
        "\n",
        "#we have initialized the encoder above, follow the instructions given in the comments below and complete the call function\n",
        "    def call(self, x, hidden):\n",
        "        \"\"\"\n",
        "        Forward pass for the Encoder model\n",
        "\n",
        "        \"\"\"\n",
        "        # Pass the input sequence through the embedding layer\n",
        "        x = self.embedding(x)\n",
        "\n",
        "        # Embed the input sequence, resulting in shape (batch_size, sequence_length, emb_dim)\n",
        "\n",
        "        # Pass the embedded input sequence and initial hidden state through the GRU layer to return the output & hidden state.\n",
        "        output, state = self.gru(x, initial_state=hidden)\n",
        "\n",
        "        # The output shape is (batch_size, sequence_length, enc_units)\n",
        "        # The state shape is (batch_size, enc_units)\n",
        "        return output, state\n",
        "\n",
        "    def initialize_hidden_state(self):\n",
        "        \"\"\"\n",
        "        Initialize the hidden state of the GRU to all zeros\n",
        "\n",
        "        \"\"\"\n",
        "        # Initialize the hidden state of the GRU to all zeros\n",
        "        return tf.zeros((self.batch_sz, self.enc_units))\n"
      ]
    },
    {
      "cell_type": "code",
      "execution_count": 26,
      "id": "ef837b10",
      "metadata": {
        "colab": {
          "base_uri": "https://localhost:8080/"
        },
        "execution": {
          "iopub.execute_input": "2023-04-12T09:11:23.238154Z",
          "iopub.status.busy": "2023-04-12T09:11:23.236359Z",
          "iopub.status.idle": "2023-04-12T09:11:24.942712Z",
          "shell.execute_reply": "2023-04-12T09:11:24.940524Z"
        },
        "id": "ef837b10",
        "outputId": "3daa8c6f-fff8-4472-b114-c98a7c1fb62b",
        "papermill": {
          "duration": 1.722393,
          "end_time": "2023-04-12T09:11:24.945053",
          "exception": false,
          "start_time": "2023-04-12T09:11:23.222660",
          "status": "completed"
        },
        "tags": []
      },
      "outputs": [
        {
          "name": "stdout",
          "output_type": "stream",
          "text": [
            "Encoder output shape: (batch size, sequence length, units) (64, 53, 1024)\n",
            "Encoder Hidden state shape: (batch size, units) (64, 1024)\n"
          ]
        }
      ],
      "source": [
        "#Create an Encoder class object\n",
        "encoder = Encoder(src_vocab_size, embedding_dim, units, BATCH_SIZE)\n",
        "\n",
        "# sample input to get a sense of the shapes.\n",
        "sample_hidden = encoder.initialize_hidden_state()\n",
        "sample_output, sample_hidden = encoder(example_input_batch, sample_hidden)\n",
        "print ('Encoder output shape: (batch size, sequence length, units) {}'.format(sample_output.shape))\n",
        "print ('Encoder Hidden state shape: (batch size, units) {}'.format(sample_hidden.shape))"
      ]
    },
    {
      "cell_type": "markdown",
      "id": "0f7e76fc",
      "metadata": {
        "execution": {
          "iopub.execute_input": "2023-04-12T08:41:42.476547Z",
          "iopub.status.busy": "2023-04-12T08:41:42.475803Z",
          "iopub.status.idle": "2023-04-12T08:41:42.494862Z",
          "shell.execute_reply": "2023-04-12T08:41:42.492793Z",
          "shell.execute_reply.started": "2023-04-12T08:41:42.476502Z"
        },
        "id": "0f7e76fc",
        "papermill": {
          "duration": 0.013973,
          "end_time": "2023-04-12T09:11:24.972575",
          "exception": false,
          "start_time": "2023-04-12T09:11:24.958602",
          "status": "completed"
        },
        "tags": []
      },
      "source": [
        "#### 3.2 Bahdanau Attention Layer\n",
        "This class implements the Bahdanau Attention mechanism in TensorFlow as a custom layer. The class extends the **tf.keras.layers.Layer** class and overrides the call method to implement the Bahdanau attention mechanism.\n",
        "\n",
        "We will use the subclassing approach again for building the Attention layer as we have done for the Encoder. This will help us in training all of the sub-layers inside it together during the end-to-end training process of the NMT model.\n",
        "\n",
        ">**Architecture**\n",
        "The Bahdanau Attention layer consists of three fully-connected dense layers:\n",
        "1. **W1**: the first dense layer with units number of units.\n",
        "2. **W2**: the second dense layer with units number of units.\n",
        "3. **V**: the third dense layer with 1 unit.\n",
        "\n",
        "> **Inputs:**\n",
        "The input to the call method are two tensors:\n",
        "1. **Query**: a tensor with shape (batch_size, hidden size) representing the hidden state.\n",
        "2. **Values**: a tensor with shape (batch_size, max_len, hidden size) representing the values to attend over.\n",
        "\n",
        "> **Outputs:**\n",
        "The outputs of the call method are:\n",
        "1. **Context_vector**: a tensor with shape (batch_size, hidden_size) representing the context vector.\n",
        "2. **Attention_weights**: a tensor with shape (batch_size, max_length, 1) representing the attention weights.\n",
        "\n",
        ">**Algorithm**\n",
        "* The query tensor is expanded along the time axis to broadcast addition with the values tensor.\n",
        "* The score is calculated by applying the tanh activation on the result of the addition of W1(query_with_time_axis) and W2(values).\n",
        "* The attention weights are obtained by applying the softmax activation on the score.\n",
        "* The context vector is obtained by multiplying the attention weights with the values tensor and summing over the max length axis.\n",
        "* Finally, both the context vector and the attention weights are returned."
      ]
    },
    {
      "cell_type": "code",
      "execution_count": 27,
      "id": "2c13d69b",
      "metadata": {
        "execution": {
          "iopub.execute_input": "2023-04-12T09:11:24.999886Z",
          "iopub.status.busy": "2023-04-12T09:11:24.999572Z",
          "iopub.status.idle": "2023-04-12T09:11:25.007291Z",
          "shell.execute_reply": "2023-04-12T09:11:25.006042Z"
        },
        "id": "2c13d69b",
        "papermill": {
          "duration": 0.023651,
          "end_time": "2023-04-12T09:11:25.009385",
          "exception": false,
          "start_time": "2023-04-12T09:11:24.985734",
          "status": "completed"
        },
        "tags": []
      },
      "outputs": [],
      "source": [
        "# a class defined for the attention layer\n",
        "# returns attention weights and context vector.\n",
        "\n",
        "class BahdanauAttention(tf.keras.layers.Layer):\n",
        "  \"\"\"\n",
        "    Attention model for the Seq2Seq model\n",
        "\n",
        "  \"\"\"\n",
        "  def __init__(self, units):\n",
        "    super(BahdanauAttention, self).__init__()\n",
        "    self.W1 = tf.keras.layers.Dense(units) # fully-connected dense layer-1\n",
        "    self.W2 = tf.keras.layers.Dense(units) # fully-connected dense layer-2\n",
        "    self.V = tf.keras.layers.Dense(1) # fully-connected dense layer-3\n",
        "\n",
        "  def call(self, query, values):\n",
        "    \"\"\"\n",
        "        Forward pass for the Attention model\n",
        "\n",
        "    \"\"\"\n",
        "    # query hidden state shape == (batch_size, hidden size)\n",
        "    # query_with_time_axis shape == (batch_size, 1, hidden size)\n",
        "    # values shape == (batch_size, max_len, hidden size)\n",
        "    # we are doing this to broadcast addition along the time axis to calculate the score\n",
        "\n",
        "    #write a code below to expand the dimension of query by 1 dimension. You can use tf.expand_dims() to execute this.\n",
        "\n",
        "    query_with_time_axis = tf.expand_dims(query, 1)\n",
        "\n",
        "    # score shape == (batch_size, max_length, 1)\n",
        "    # we get 1 at the last axis because we are applying score to self.V\n",
        "    # the shape of the tensor before applying self.V is (batch_size, max_length, units)\n",
        "    score = self.V(tf.nn.tanh(self.W1(query_with_time_axis) + self.W2(values)))\n",
        "\n",
        "    # write code to calculate the attention weights using the softmax and score\n",
        "    # attention_weights shape == (batch_size, max_length, 1)\n",
        "\n",
        "    attention_weights = tf.nn.softmax(score, axis=1)\n",
        "\n",
        "    context_vector = attention_weights * values\n",
        "\n",
        "    # context_vector shape after sum == (batch_size, hidden_size)\n",
        "    context_vector = tf.reduce_sum(context_vector, axis=1)\n",
        "\n",
        "    return context_vector, attention_weights"
      ]
    },
    {
      "cell_type": "code",
      "execution_count": 28,
      "id": "aadf3868",
      "metadata": {
        "colab": {
          "base_uri": "https://localhost:8080/"
        },
        "execution": {
          "iopub.execute_input": "2023-04-12T09:11:25.037805Z",
          "iopub.status.busy": "2023-04-12T09:11:25.035912Z",
          "iopub.status.idle": "2023-04-12T09:11:27.012748Z",
          "shell.execute_reply": "2023-04-12T09:11:27.010427Z"
        },
        "id": "aadf3868",
        "outputId": "db36023b-0f77-40b1-f2ef-01e7dee5ae03",
        "papermill": {
          "duration": 1.992825,
          "end_time": "2023-04-12T09:11:27.015039",
          "exception": false,
          "start_time": "2023-04-12T09:11:25.022214",
          "status": "completed"
        },
        "tags": []
      },
      "outputs": [
        {
          "name": "stdout",
          "output_type": "stream",
          "text": [
            "Attention result shape (context vector): (batch size, units) (64, 1024)\n",
            "Attention weights shape: (batch_size, sequence_length, 1) (64, 53, 1)\n"
          ]
        }
      ],
      "source": [
        "attention_layer = BahdanauAttention(20) # create an attention layer object\n",
        "attention_result, attention_weights = attention_layer(sample_hidden, sample_output) # pass sample encoder output and hidden layer to get a sense of the shape of the output of the attention layer.\n",
        "\n",
        "print(\"Attention result shape (context vector): (batch size, units) {}\".format(attention_result.shape))\n",
        "print(\"Attention weights shape: (batch_size, sequence_length, 1) {}\".format(attention_weights.shape))"
      ]
    },
    {
      "cell_type": "markdown",
      "id": "554e1576",
      "metadata": {
        "id": "554e1576",
        "papermill": {
          "duration": 0.012574,
          "end_time": "2023-04-12T09:11:27.040798",
          "exception": false,
          "start_time": "2023-04-12T09:11:27.028224",
          "status": "completed"
        },
        "tags": []
      },
      "source": [
        "#### 3.3: Build the decoder\n",
        "The decoder's job is to generate predictions for the next token at each location in the target sequence.\n",
        "\n",
        "---\n",
        "\n",
        "\n",
        "This code defines a Decoder class that implements a decoder model for a sequence-to-sequence architecture. The decoder model will take in an input sequence and the hidden state from the encoder and generate the target sequence.\n",
        "\n",
        "> **Class constructor**:The __init__ method initializes the class variables:\n",
        "\n",
        "* **vocab_size**: The size of the target vocabulary.\n",
        "*embedding_dim: The size of the embedding layer that converts the target sequence into dense vectors.\n",
        "* **dec_units:** The number of GRU units in the decoder.\n",
        "* **batch_sz:** The batch size of the input data.\n",
        "\n",
        "> It also initializes the following layers:\n",
        "* **attention**: An instance of the BahdanauAttention class.\n",
        "* **Embedding**: An embedding layer to convert the target sequences into dense vectors.\n",
        "* **GRU**: A GRU layer to perform the decoding.\n",
        "* **FC**: A dense layer to generate the final target sequence.\n",
        "\n",
        ">**call** method: The call method implements the forward pass of the decoder. It  takes in 3 inputs: x, hidden, and enc_output.\n",
        "\n",
        "* x: Input sequences of shape (batch_size, sequence_length).\n",
        "* hidden:  hidden state from the encoder hidden.  **(batch_size, dec_units)\n",
        "* enc_output: The output of the encoder (shape: (batch_size, max_length, hidden_size)).\n",
        "\n",
        ">It does the following operations:\n",
        "1. Computes the context vector and the attention weights from the attention layer,\n",
        "2. Embeds the input x using the embedding layer.\n",
        "3. Concatenates the context vector with the embedded target sequence\n",
        "4. Passes the concatenated sequence and the hidden state from the encoder to the GRU layer. This generates the output and the new hidden state.\n",
        "3. Reshapes the output to a 2D tensor.\n",
        "4. Passes the reshaped output through the dense layer to generate the final target sequence.\n",
        "5. It returns the final target sequence and the new hidden state."
      ]
    },
    {
      "cell_type": "code",
      "execution_count": 29,
      "id": "6bf4c313",
      "metadata": {
        "execution": {
          "iopub.execute_input": "2023-04-12T09:11:27.068292Z",
          "iopub.status.busy": "2023-04-12T09:11:27.067375Z",
          "iopub.status.idle": "2023-04-12T09:11:27.076335Z",
          "shell.execute_reply": "2023-04-12T09:11:27.075336Z"
        },
        "id": "6bf4c313",
        "papermill": {
          "duration": 0.024872,
          "end_time": "2023-04-12T09:11:27.078618",
          "exception": false,
          "start_time": "2023-04-12T09:11:27.053746",
          "status": "completed"
        },
        "tags": []
      },
      "outputs": [],
      "source": [
        "# Define the Decoder model\n",
        "class Decoder(tf.keras.Model):\n",
        "  def __init__(self, vocab_size, emb_dim, dec_units, batch_sz):\n",
        "    super(Decoder, self).__init__()\n",
        "\n",
        "    # initialize the batch size\n",
        "    self.batch_sz = batch_sz\n",
        "\n",
        "    # initialize the number of decoder units\n",
        "    self.dec_units = dec_units\n",
        "\n",
        "    # initialize the attention layer\n",
        "    self.attention = BahdanauAttention(self.dec_units)\n",
        "\n",
        "    # initialize the embedding layer\n",
        "    self.embedding = tf.keras.layers.Embedding(vocab_size, emb_dim)\n",
        "\n",
        "    # initialize the GRU layer with the number of decoder units, return sequences and state set to True\n",
        "    # and the recurrent initializer set to 'glorot_uniform'\n",
        "    self.gru = tf.keras.layers.GRU(self.dec_units,\n",
        "                                   return_sequences=True,\n",
        "                                   return_state=True,\n",
        "                                   recurrent_initializer='glorot_uniform')\n",
        "    # initialize a fully connected layer with the number of output units equal to the vocabulary size\n",
        "    self.fc = tf.keras.layers.Dense(vocab_size)\n",
        "\n",
        "#we have initialized the decoder above, follow the instructions given in the comments below and complete the call function\n",
        "  def call(self, x, hidden, enc_output):\n",
        "\n",
        "     # enc_output shape == (batch_size, max_length, hidden_size)\n",
        "    # get the context vector and attention weights from the attention layer\n",
        "    context_vector, attention_weights = self.attention(hidden, enc_output)\n",
        "\n",
        "    # pass the input sequence through the embedding layer\n",
        "    # x shape after passing through embedding == (batch_size, 1, embedding_dim)\n",
        "    x = self.embedding(x)\n",
        "\n",
        "    # concatenate the context vector and the embedded input sequence\n",
        "    # x shape after concatenation == (batch_size, 1, embedding_dim + hidden_size)\n",
        "    x = tf.concat([tf.expand_dims(context_vector, 1), x], axis=-1)\n",
        "\n",
        "    # pass the concatenated sequence and the initial state to the GRU as the hidden state\n",
        "    output, state = self.gru(x)\n",
        "\n",
        "    # reshape the GRU output to be of shape (batch_size * 1, hidden_size)\n",
        "    output = tf.reshape(output, (-1, output.shape[2]))\n",
        "\n",
        "    # pass the reshaped output through the fully connected layer to get the final output of shape (batch_size, vocab)\n",
        "    x = self.fc(output)\n",
        "\n",
        "    # return the decoder output, decoder state and attention weights\n",
        "    return x, state , attention_weights\n"
      ]
    },
    {
      "cell_type": "code",
      "execution_count": 30,
      "id": "3c629bb2",
      "metadata": {
        "colab": {
          "base_uri": "https://localhost:8080/"
        },
        "execution": {
          "iopub.execute_input": "2023-04-12T09:11:27.105915Z",
          "iopub.status.busy": "2023-04-12T09:11:27.105052Z",
          "iopub.status.idle": "2023-04-12T09:11:27.194768Z",
          "shell.execute_reply": "2023-04-12T09:11:27.193479Z"
        },
        "id": "3c629bb2",
        "outputId": "598d2253-09d0-4cfd-9d4e-127f0b14662a",
        "papermill": {
          "duration": 0.106141,
          "end_time": "2023-04-12T09:11:27.197218",
          "exception": false,
          "start_time": "2023-04-12T09:11:27.091077",
          "status": "completed"
        },
        "tags": []
      },
      "outputs": [
        {
          "name": "stdout",
          "output_type": "stream",
          "text": [
            "Decoder output shape: (batch_size, vocab size) (64, 12935)\n"
          ]
        }
      ],
      "source": [
        "#Create an Decoder class object\n",
        "decoder = Decoder(tgt_vocab_size, embedding_dim, units, BATCH_SIZE)\n",
        "# sample input to get a sense of the shapes.\n",
        "sample_decoder_output, _, _ = decoder(tf.random.uniform((BATCH_SIZE, 1)),\n",
        "                                      sample_hidden, sample_output)\n",
        "\n",
        "print ('Decoder output shape: (batch_size, vocab size) {}'.format(sample_decoder_output.shape))"
      ]
    },
    {
      "cell_type": "markdown",
      "id": "FfmOfx3VMbiF",
      "metadata": {
        "id": "FfmOfx3VMbiF"
      },
      "source": [
        "### **Task 4: Train the NMT model**\n",
        "\n"
      ]
    },
    {
      "cell_type": "markdown",
      "id": "36m5MSKCVGk8",
      "metadata": {
        "id": "36m5MSKCVGk8"
      },
      "source": [
        "#### 4.1 Configure the model.\n",
        "To train the model you'll need several additional components:\n",
        "\n",
        "* **The Loss function**: The loss_function method calculates the loss between the target data and the model's prediction. The real argument is the target data, and the pred argument is the model's prediction.\n",
        "\n",
        "> The method first creates a binary mask to indicate which target data points are not padding (not equal to 0). The loss is calculated using the loss_object and the masked loss is returned by taking the mean of the masked loss values.\n",
        "\n",
        "* **The Optimizer** : Defines the optimizer and the loss function used to train the model. The optimizer used is Adam and the loss function used is SparseCategoricalCrossentropy.\n",
        "\n",
        "> SparseCategoricalCrossentropy is used because the target data is a categorical variable, but not one-hot encoded, so we use this form of categorical crossentropy loss. The from_logits argument is set to True because the model produces logits rather than probabilistic outputs, and the reduction argument is set to none because the loss values need to be calculated for each time step and then masked.\n",
        "\n",
        "* **Checkpoints**: The code defines the checkpoint and its directory. The checkpoint is a mechanism to save the model's state after each training epoch, so that we can resume training from the saved state if needed.\n",
        "\n",
        ">The checkpoint_dir is set to ./training_checkpoints and the checkpoint_prefix is set to ckpt inside the checkpoint_dir. The checkpoint is then defined using the tf.train.Checkpoint method, and includes the optimizer, the encoder and the decoder as its attributes.\n",
        "\n",
        "Here's an implementation of a masked loss and accuracy:"
      ]
    },
    {
      "cell_type": "code",
      "execution_count": 31,
      "id": "5b9b1121",
      "metadata": {
        "execution": {
          "iopub.execute_input": "2023-04-12T09:11:27.249999Z",
          "iopub.status.busy": "2023-04-12T09:11:27.249700Z",
          "iopub.status.idle": "2023-04-12T09:11:27.260515Z",
          "shell.execute_reply": "2023-04-12T09:11:27.259630Z"
        },
        "id": "5b9b1121",
        "papermill": {
          "duration": 0.026931,
          "end_time": "2023-04-12T09:11:27.262789",
          "exception": false,
          "start_time": "2023-04-12T09:11:27.235858",
          "status": "completed"
        },
        "tags": []
      },
      "outputs": [],
      "source": [
        "# Define the loss function and the optimizer\n",
        "# Use the Adam optimizer\n",
        "optimizer = tf.keras.optimizers.Adam()\n",
        "\n",
        "# Loss function is sparse categorical cross entropy\n",
        "loss_object = tf.keras.losses.SparseCategoricalCrossentropy(from_logits=True, reduction='none')\n",
        "\n",
        "\n",
        "\n",
        "# Define the loss function to calculate the difference between the real and predicted outputs\n",
        "def loss_function(real, pred):\n",
        "  mask = tf.math.logical_not(tf.math.equal(real, 0))  # Create a mask to ignore the padding values in the target sequence\n",
        "  loss_ = loss_object(real, pred)  # Calculate the loss using the loss function\n",
        "\n",
        "  # Multiply the loss by the mask to ignore the padding values\n",
        "  mask = tf.cast(mask, dtype=loss_.dtype)  # Cast the mask to the same data type as the loss\n",
        "  loss_ *= mask\n",
        "\n",
        "  # Calculate the mean loss across the batch size\n",
        "  return tf.reduce_mean(loss_)\n",
        "\n",
        "\n",
        "\n",
        "# Define the checkpoint path to save the training progress\n",
        "checkpoint_dir = './training_checkpoints'  # Directory to store the checkpoints\n",
        "checkpoint_prefix = os.path.join(checkpoint_dir, \"ckpt\")  # File prefix for the checkpoints\n",
        "checkpoint = tf.train.Checkpoint(optimizer=optimizer,  # Create a checkpoint object to save the optimizer and the models\n",
        "                                 encoder=encoder,\n",
        "                                 decoder=decoder)\n"
      ]
    },
    {
      "cell_type": "markdown",
      "id": "16b887b6",
      "metadata": {
        "id": "16b887b6",
        "papermill": {
          "duration": 0.012761,
          "end_time": "2023-04-12T09:11:27.288269",
          "exception": false,
          "start_time": "2023-04-12T09:11:27.275508",
          "status": "completed"
        },
        "tags": []
      },
      "source": [
        "#### 4.2 Configure the training step:\n",
        "A custom training loop (instead of Model.Fit etc.) is used for which further reference is available from Tensorflow [here](https://www.tensorflow.org/guide/keras/writing_a_training_loop_from_scratch)\n",
        "\n",
        "NOTE: While training the model, make sure your instance is GPU based.\n",
        "\n",
        "---\n",
        "\n",
        "\n",
        "\n",
        "The code is annotated with \"@tf.function\", which tells TensorFlow to compile this function for performance optimization.\n",
        "This is a TensorFlow function for a single training step of a sequence-to-sequence model. The input to the function includes:\n",
        "- `inp`: The input sequence to be encoded\n",
        "- `targ`: The target sequence to be decoded\n",
        "- `enc_hidden`: The initial hidden state of the encoder\n",
        "\n",
        "> The function performs the following operations:\n",
        "1. Encode the input sequence to get the encoded output and the final hidden state of the encoder.\n",
        "2. Set the initial hidden state of the decoder to the final hidden state of the encoder.\n",
        "3. Loop over the time steps of the target sequence to be passed as current input along with the hidden state and encoder output to get the predicted output and the next hidden state.\n",
        "4. Computing the loss between the target and the predicted output for each time step.\n",
        "5. Comparing the gradients of the loss with respect to the trainable variables of the encoder and decoder.\n",
        "6. Update the variables based on the computed gradients using an optimiser.\n",
        "\n",
        "---\n",
        "![picture](https://drive.google.com/uc?id=1siOhKcS8fYD_q71yarQE-uIofPV_CI81)"
      ]
    },
    {
      "cell_type": "code",
      "execution_count": 32,
      "id": "b8ffe8de",
      "metadata": {
        "execution": {
          "iopub.execute_input": "2023-04-12T09:11:27.315690Z",
          "iopub.status.busy": "2023-04-12T09:11:27.314809Z",
          "iopub.status.idle": "2023-04-12T09:11:27.323338Z",
          "shell.execute_reply": "2023-04-12T09:11:27.322304Z"
        },
        "id": "b8ffe8de",
        "papermill": {
          "duration": 0.024319,
          "end_time": "2023-04-12T09:11:27.325345",
          "exception": false,
          "start_time": "2023-04-12T09:11:27.301026",
          "status": "completed"
        },
        "tags": []
      },
      "outputs": [],
      "source": [
        "@tf.function\n",
        "def train_step(inp, targ, enc_hidden):\n",
        "  # Initialize loss to 0\n",
        "  loss = 0\n",
        "\n",
        "  # Start recording operations for automatic differentiation\n",
        "  with tf.GradientTape() as tape:\n",
        "    # Encode the input with the hidden state and get the encoded output and the hidden state\n",
        "    enc_output, enc_hidden = encoder(inp, enc_hidden)\n",
        "\n",
        "    # Set the initial hidden state of the decoder to be the final hidden state of the encoder\n",
        "    dec_hidden = enc_hidden\n",
        "\n",
        "    # Set the initial input of the decoder to the start-of-sequence token\n",
        "    dec_input = tf.expand_dims([tgt_lang_tokenizer.word_index['<sos>']] * BATCH_SIZE, 1)\n",
        "\n",
        "    # Loop over the time steps of the target sequence\n",
        "    for t in range(1, targ.shape[1]):\n",
        "      # Pass the current input and hidden state to the decoder, along with the encoder output\n",
        "      predictions, dec_hidden, _ = decoder(dec_input, dec_hidden, enc_output)\n",
        "\n",
        "      # Compute the loss between the target and the predicted output\n",
        "      loss += loss_function(targ[:, t], predictions)\n",
        "\n",
        "      # Use teacher forcing - set the next input to be the target\n",
        "      dec_input = tf.expand_dims(targ[:, t], 1)\n",
        "\n",
        "  # Compute the average loss over all time steps\n",
        "  batch_loss = (loss / int(targ.shape[1]))\n",
        "\n",
        "  # Get a list of all trainable variables in the encoder and decoder\n",
        "  variables = encoder.trainable_variables + decoder.trainable_variables\n",
        "\n",
        "  # Compute the gradients of the loss with respect to the variables\n",
        "  gradients = tape.gradient(loss, variables)\n",
        "\n",
        "  # Use the optimizer to update the variables based on the computed gradients\n",
        "  optimizer.apply_gradients(zip(gradients, variables))\n",
        "\n",
        "  # Return the average loss for this batch\n",
        "  return batch_loss\n"
      ]
    },
    {
      "cell_type": "markdown",
      "id": "36cded37",
      "metadata": {
        "execution": {
          "iopub.execute_input": "2023-04-12T08:46:34.096801Z",
          "iopub.status.busy": "2023-04-12T08:46:34.096383Z",
          "iopub.status.idle": "2023-04-12T08:46:34.106793Z",
          "shell.execute_reply": "2023-04-12T08:46:34.105287Z",
          "shell.execute_reply.started": "2023-04-12T08:46:34.096764Z"
        },
        "id": "36cded37",
        "papermill": {
          "duration": 0.012404,
          "end_time": "2023-04-12T09:11:27.350492",
          "exception": false,
          "start_time": "2023-04-12T09:11:27.338088",
          "status": "completed"
        },
        "tags": []
      },
      "source": [
        "#### 4.3 Configure the validation step:\n",
        "The purpose of the validation step is to evaluate the model's performance on a validation dataset and to monitor the training process.\n",
        "\n",
        "---\n",
        "This is a TensorFlow function for a single validation step of a sequence-to-sequence model. The input to the function includes:\n",
        "- `inp`: The input sequence to be encoded\n",
        "- `targ`: The target sequence to be decoded\n",
        "- `enc_hidden`: The initial hidden state of the encoder\n",
        "\n",
        ">The function performs the following operations:\n",
        "1. Encoding the input sequence to get the encoded output and the final hidden state of the encoder\n",
        "2. Setting the initial hidden state of the decoder to be the final hidden state of the encoder\n",
        "3. Looping over the time steps of the target sequence, passing the current input and hidden state to the decoder, along with the encoder output, to get the predicted output\n",
        "4. Computing the loss between the target and the predicted output for each time step\n",
        "5. Computing the average loss over all time steps\n",
        "6. Returning the average loss for this batch"
      ]
    },
    {
      "cell_type": "code",
      "execution_count": 33,
      "id": "447dd475",
      "metadata": {
        "execution": {
          "iopub.execute_input": "2023-04-12T09:11:27.378035Z",
          "iopub.status.busy": "2023-04-12T09:11:27.377029Z",
          "iopub.status.idle": "2023-04-12T09:11:27.384521Z",
          "shell.execute_reply": "2023-04-12T09:11:27.383641Z"
        },
        "id": "447dd475",
        "papermill": {
          "duration": 0.023292,
          "end_time": "2023-04-12T09:11:27.386629",
          "exception": false,
          "start_time": "2023-04-12T09:11:27.363337",
          "status": "completed"
        },
        "tags": []
      },
      "outputs": [],
      "source": [
        "# Define the validation step\n",
        "@tf.function\n",
        "def val_step(inp, targ, enc_hidden):\n",
        "    loss = 0 # Initialize the total loss for this batch\n",
        "\n",
        "    # Encoding the input sequence to get the encoded output and the final hidden state of the encoder\n",
        "    enc_output, enc_hidden = encoder(inp, enc_hidden)\n",
        "\n",
        "    # Setting the initial hidden state of the decoder to be the final hidden state of the encoder\n",
        "    dec_hidden = enc_hidden\n",
        "\n",
        "    # Setting the input to the decoder to be the start-of-sequence token\n",
        "    dec_input = tf.expand_dims([tgt_lang_tokenizer.word_index['<sos>']] * BATCH_SIZE, 1)\n",
        "\n",
        "    for t in range(1, targ.shape[1]): # Looping over the time steps of the target sequence\n",
        "\n",
        "    # Getting the predicted output and the next hidden state by passing the current input, hidden state, and encoder output to the decoder\n",
        "        predictions, dec_hidden, _ = decoder(dec_input, dec_hidden, enc_output)\n",
        "        loss += loss_function(targ[:, t], predictions)\n",
        "        dec_input = tf.expand_dims(targ[:, t], 1)\n",
        "\n",
        "    batch_loss = (loss / int(targ.shape[1]))\n",
        "\n",
        "    return batch_loss # Returning the average loss for this batch\n"
      ]
    },
    {
      "cell_type": "markdown",
      "id": "c8b65284",
      "metadata": {
        "id": "c8b65284",
        "papermill": {
          "duration": 0.01255,
          "end_time": "2023-04-12T09:11:27.412059",
          "exception": false,
          "start_time": "2023-04-12T09:11:27.399509",
          "status": "completed"
        },
        "tags": []
      },
      "source": [
        "#### 4.4 Initiate the model training:\n",
        "\n",
        "The following code trains a sequence to sequence model using the training and validation datasets. The model will be trained for 10 epochs.\n",
        "\n",
        "*NOTE: It is recommended that you train it for more number of epochs to evaluate whether the model's performance is increasing or not.*\n",
        "\n",
        "> At each epoch:\n",
        "* Step 1: Initialise Encoder’s hidden state\n",
        "* Step 2: Invoke train_step function\n",
        "* Step 3: Generate loss for each batch of the training dataset\n",
        "* Step 4: Accumulate loss to calculate the total training loss.\n",
        "* Step 5: Invoke train_step function\n",
        "* Step 6: Generate loss for each batch of the validation dataset\n",
        "* Step 7: Accumulate loss to calculate the total validation loss\n",
        "* Step 8: Store model after every 2 epochs\n",
        "* Step 9: Print metrics score\n",
        "\n",
        "---\n",
        "![picture](https://drive.google.com/uc?id=11FigkC_xa_cMfXcIF12U8DxYrjgqJKBK)"
      ]
    },
    {
      "cell_type": "code",
      "execution_count": 34,
      "id": "bc5a3356",
      "metadata": {
        "execution": {
          "iopub.execute_input": "2023-04-12T09:11:27.439170Z",
          "iopub.status.busy": "2023-04-12T09:11:27.438316Z",
          "iopub.status.idle": "2023-04-12T09:11:27.446984Z",
          "shell.execute_reply": "2023-04-12T09:11:27.446011Z"
        },
        "id": "bc5a3356",
        "papermill": {
          "duration": 0.024521,
          "end_time": "2023-04-12T09:11:27.449197",
          "exception": false,
          "start_time": "2023-04-12T09:11:27.424676",
          "status": "completed"
        },
        "tags": []
      },
      "outputs": [],
      "source": [
        "import time\n",
        "\n",
        "def train_and_validate(train_dataset, val_dataset, EPOCHS=10):\n",
        "    for epoch in range(EPOCHS):\n",
        "        start = time.time()\n",
        "\n",
        "        #Step1:\n",
        "        enc_hidden = encoder.initialize_hidden_state()\n",
        "        total_train_loss = 0\n",
        "        total_val_loss = 0\n",
        "        for(batch, (inp, targ)) in enumerate(train_dataset.take(steps_per_epoch)):\n",
        "            # Step 2 & 3: Call the train_step function by passing the input, target & encoder hidden state\n",
        "            batch_loss = train_step(inp, targ, enc_hidden)\n",
        "            # Step 4: Accumulate training loss\n",
        "            total_train_loss += batch_loss\n",
        "\n",
        "            # Print the loss every 100 batches\n",
        "            if batch % 100 == 0:\n",
        "                print('Epoch {} Batch {} Loss {:.4f}'.format(epoch + 1, batch, batch_loss.numpy()))\n",
        "\n",
        "        # Calculate the loss for each batch of validation data\n",
        "        for (batch, (inp, targ)) in enumerate(val_dataset.take(val_steps_per_epoch)):\n",
        "            # Step 5 & 6: Call the val_step function by passing the input, target & encoder hidden state\n",
        "            val_batch_loss = val_step(inp, targ, enc_hidden)\n",
        "            # Step 7: Accumulate validation loss\n",
        "            total_val_loss += val_batch_loss\n",
        "\n",
        "        #Step 8\n",
        "        if (epoch + 1) % 2 == 0:\n",
        "            checkpoint.save(file_prefix = checkpoint_prefix)\n",
        "\n",
        "        #Step 9\n",
        "        # Print the average training loss for the epoch\n",
        "        print('Total training loss is {:.4f}'.format(total_train_loss / steps_per_epoch))\n",
        "\n",
        "        # Print the average validation loss for the epoch\n",
        "        print('Total validation loss is {:.4f}'.format( total_val_loss / val_steps_per_epoch))\n",
        "\n",
        "        #Print the total time taken for each batch\n",
        "        print('Time taken for 1 epoch {} sec\\n'.format(time.time() - start))\n"
      ]
    },
    {
      "cell_type": "code",
      "execution_count": null,
      "id": "8bbf69f3",
      "metadata": {
        "execution": {
          "iopub.execute_input": "2023-04-12T09:11:27.476330Z",
          "iopub.status.busy": "2023-04-12T09:11:27.475538Z",
          "iopub.status.idle": "2023-04-12T10:55:50.988672Z",
          "shell.execute_reply": "2023-04-12T10:55:50.984054Z"
        },
        "id": "8bbf69f3",
        "outputId": "259f9284-7258-4d66-c89e-12b6586c4116",
        "papermill": {
          "duration": 6263.547417,
          "end_time": "2023-04-12T10:55:51.009417",
          "exception": false,
          "start_time": "2023-04-12T09:11:27.462000",
          "status": "completed"
        },
        "tags": []
      },
      "outputs": [
        {
          "name": "stdout",
          "output_type": "stream",
          "text": [
            "Epoch 1 Batch 0 Loss 1.4590\n",
            "Epoch 1 Batch 100 Loss 0.7274\n",
            "Epoch 1 Batch 200 Loss 0.6359\n",
            "Epoch 1 Batch 300 Loss 0.5868\n",
            "Epoch 1 Batch 400 Loss 0.6192\n",
            "Epoch 1 Batch 500 Loss 0.5914\n",
            "Epoch 1 Batch 600 Loss 0.5632\n",
            "Epoch 1 Batch 700 Loss 0.5178\n",
            "Epoch 1 Batch 800 Loss 0.5278\n",
            "Epoch 1 Batch 900 Loss 0.5410\n",
            "Epoch 1 Batch 1000 Loss 0.5190\n",
            "Epoch 1 Batch 1100 Loss 0.5044\n",
            "Epoch 1 Batch 1200 Loss 0.5095\n",
            "Epoch 1 Batch 1300 Loss 0.4727\n",
            "Epoch 1 Batch 1400 Loss 0.5227\n",
            "Total training loss is 0.5681\n",
            "Total validation loss is 1.0691\n",
            "Time taken for 1 epoch 716.4823491573334 sec\n",
            "\n",
            "Epoch 2 Batch 0 Loss 0.4726\n",
            "Epoch 2 Batch 100 Loss 0.4327\n",
            "Epoch 2 Batch 200 Loss 0.4629\n",
            "Epoch 2 Batch 300 Loss 0.4499\n",
            "Epoch 2 Batch 400 Loss 0.4538\n",
            "Epoch 2 Batch 500 Loss 0.4566\n",
            "Epoch 2 Batch 600 Loss 0.4339\n",
            "Epoch 2 Batch 700 Loss 0.3841\n",
            "Epoch 2 Batch 800 Loss 0.4102\n",
            "Epoch 2 Batch 900 Loss 0.3842\n",
            "Epoch 2 Batch 1000 Loss 0.3620\n",
            "Epoch 2 Batch 1100 Loss 0.3191\n",
            "Epoch 2 Batch 1200 Loss 0.3743\n",
            "Epoch 2 Batch 1300 Loss 0.3145\n",
            "Epoch 2 Batch 1400 Loss 0.2907\n",
            "Total training loss is 0.3954\n",
            "Total validation loss is 0.8776\n",
            "Time taken for 1 epoch 617.6825308799744 sec\n",
            "\n",
            "Epoch 3 Batch 0 Loss 0.3378\n",
            "Epoch 3 Batch 100 Loss 0.2887\n",
            "Epoch 3 Batch 200 Loss 0.2747\n",
            "Epoch 3 Batch 300 Loss 0.2617\n",
            "Epoch 3 Batch 400 Loss 0.2458\n",
            "Epoch 3 Batch 500 Loss 0.2593\n",
            "Epoch 3 Batch 600 Loss 0.3096\n",
            "Epoch 3 Batch 700 Loss 0.2311\n",
            "Epoch 3 Batch 800 Loss 0.2221\n",
            "Epoch 3 Batch 900 Loss 0.2381\n",
            "Epoch 3 Batch 1000 Loss 0.2408\n",
            "Epoch 3 Batch 1100 Loss 0.2411\n",
            "Epoch 3 Batch 1200 Loss 0.1918\n",
            "Epoch 3 Batch 1300 Loss 0.2189\n",
            "Epoch 3 Batch 1400 Loss 0.1935\n",
            "Total training loss is 0.2383\n",
            "Total validation loss is 0.7454\n",
            "Time taken for 1 epoch 615.9794526100159 sec\n",
            "\n",
            "Epoch 4 Batch 0 Loss 0.1522\n",
            "Epoch 4 Batch 100 Loss 0.1693\n",
            "Epoch 4 Batch 200 Loss 0.1758\n",
            "Epoch 4 Batch 300 Loss 0.1407\n",
            "Epoch 4 Batch 400 Loss 0.1901\n",
            "Epoch 4 Batch 500 Loss 0.1726\n",
            "Epoch 4 Batch 600 Loss 0.1476\n",
            "Epoch 4 Batch 700 Loss 0.1316\n",
            "Epoch 4 Batch 800 Loss 0.1588\n",
            "Epoch 4 Batch 900 Loss 0.1367\n",
            "Epoch 4 Batch 1000 Loss 0.1467\n",
            "Epoch 4 Batch 1100 Loss 0.1574\n",
            "Epoch 4 Batch 1200 Loss 0.1285\n",
            "Epoch 4 Batch 1300 Loss 0.1538\n",
            "Epoch 4 Batch 1400 Loss 0.1476\n",
            "Total training loss is 0.1534\n",
            "Total validation loss is 0.6672\n",
            "Time taken for 1 epoch 615.863765001297 sec\n",
            "\n",
            "Epoch 5 Batch 0 Loss 0.1139\n",
            "Epoch 5 Batch 100 Loss 0.1106\n",
            "Epoch 5 Batch 200 Loss 0.1058\n",
            "Epoch 5 Batch 300 Loss 0.1126\n",
            "Epoch 5 Batch 400 Loss 0.0945\n",
            "Epoch 5 Batch 500 Loss 0.1053\n",
            "Epoch 5 Batch 600 Loss 0.1236\n",
            "Epoch 5 Batch 700 Loss 0.1037\n",
            "Epoch 5 Batch 800 Loss 0.0966\n",
            "Epoch 5 Batch 900 Loss 0.1203\n",
            "Epoch 5 Batch 1000 Loss 0.1066\n",
            "Epoch 5 Batch 1100 Loss 0.1297\n",
            "Epoch 5 Batch 1200 Loss 0.1274\n",
            "Epoch 5 Batch 1300 Loss 0.0902\n",
            "Epoch 5 Batch 1400 Loss 0.1053\n",
            "Total training loss is 0.1089\n",
            "Total validation loss is 0.6953\n",
            "Time taken for 1 epoch 615.4250919818878 sec\n",
            "\n",
            "Epoch 6 Batch 0 Loss 0.0763\n",
            "Epoch 6 Batch 100 Loss 0.0745\n",
            "Epoch 6 Batch 200 Loss 0.0798\n",
            "Epoch 6 Batch 300 Loss 0.0704\n",
            "Epoch 6 Batch 400 Loss 0.0876\n",
            "Epoch 6 Batch 500 Loss 0.0825\n",
            "Epoch 6 Batch 600 Loss 0.0732\n",
            "Epoch 6 Batch 700 Loss 0.0941\n",
            "Epoch 6 Batch 800 Loss 0.0781\n",
            "Epoch 6 Batch 900 Loss 0.0702\n",
            "Epoch 6 Batch 1000 Loss 0.0809\n",
            "Epoch 6 Batch 1100 Loss 0.0724\n",
            "Epoch 6 Batch 1200 Loss 0.0743\n",
            "Epoch 6 Batch 1300 Loss 0.1045\n",
            "Epoch 6 Batch 1400 Loss 0.0759\n",
            "Total training loss is 0.0823\n",
            "Total validation loss is 0.7033\n",
            "Time taken for 1 epoch 615.8736643791199 sec\n",
            "\n",
            "Epoch 7 Batch 0 Loss 0.0561\n",
            "Epoch 7 Batch 100 Loss 0.0839\n",
            "Epoch 7 Batch 200 Loss 0.0767\n",
            "Epoch 7 Batch 300 Loss 0.0529\n",
            "Epoch 7 Batch 400 Loss 0.0743\n",
            "Epoch 7 Batch 500 Loss 0.0780\n",
            "Epoch 7 Batch 600 Loss 0.0689\n",
            "Epoch 7 Batch 700 Loss 0.0473\n",
            "Epoch 7 Batch 800 Loss 0.0674\n",
            "Epoch 7 Batch 900 Loss 0.0825\n",
            "Epoch 7 Batch 1000 Loss 0.0745\n",
            "Epoch 7 Batch 1100 Loss 0.0826\n",
            "Epoch 7 Batch 1200 Loss 0.0602\n",
            "Epoch 7 Batch 1300 Loss 0.0717\n",
            "Epoch 7 Batch 1400 Loss 0.0879\n",
            "Total training loss is 0.0646\n",
            "Total validation loss is 0.7835\n",
            "Time taken for 1 epoch 616.5511915683746 sec\n",
            "\n",
            "Epoch 8 Batch 0 Loss 0.0440\n",
            "Epoch 8 Batch 100 Loss 0.0413\n",
            "Epoch 8 Batch 200 Loss 0.0488\n",
            "Epoch 8 Batch 300 Loss 0.0423\n",
            "Epoch 8 Batch 400 Loss 0.0357\n",
            "Epoch 8 Batch 500 Loss 0.0765\n",
            "Epoch 8 Batch 600 Loss 0.0513\n",
            "Epoch 8 Batch 700 Loss 0.0530\n",
            "Epoch 8 Batch 800 Loss 0.0462\n",
            "Epoch 8 Batch 900 Loss 0.0566\n",
            "Epoch 8 Batch 1000 Loss 0.0606\n",
            "Epoch 8 Batch 1100 Loss 0.0677\n",
            "Epoch 8 Batch 1200 Loss 0.0540\n",
            "Epoch 8 Batch 1300 Loss 0.0697\n",
            "Epoch 8 Batch 1400 Loss 0.0596\n",
            "Total training loss is 0.0526\n",
            "Total validation loss is 0.7631\n",
            "Time taken for 1 epoch 616.7291610240936 sec\n",
            "\n",
            "Epoch 9 Batch 0 Loss 0.0381\n",
            "Epoch 9 Batch 100 Loss 0.0329\n",
            "Epoch 9 Batch 200 Loss 0.0451\n",
            "Epoch 9 Batch 300 Loss 0.0414\n",
            "Epoch 9 Batch 400 Loss 0.0369\n",
            "Epoch 9 Batch 500 Loss 0.0349\n",
            "Epoch 9 Batch 600 Loss 0.0421\n",
            "Epoch 9 Batch 700 Loss 0.0522\n",
            "Epoch 9 Batch 800 Loss 0.0418\n",
            "Epoch 9 Batch 900 Loss 0.0463\n",
            "Epoch 9 Batch 1000 Loss 0.0431\n",
            "Epoch 9 Batch 1100 Loss 0.0518\n",
            "Epoch 9 Batch 1200 Loss 0.0482\n",
            "Epoch 9 Batch 1300 Loss 0.0423\n",
            "Epoch 9 Batch 1400 Loss 0.0414\n",
            "Total training loss is 0.0436\n",
            "Total validation loss is 0.7982\n",
            "Time taken for 1 epoch 615.9249587059021 sec\n",
            "\n",
            "Epoch 10 Batch 0 Loss 0.0342\n",
            "Epoch 10 Batch 100 Loss 0.0275\n",
            "Epoch 10 Batch 200 Loss 0.0271\n",
            "Epoch 10 Batch 300 Loss 0.0356\n",
            "Epoch 10 Batch 400 Loss 0.0254\n",
            "Epoch 10 Batch 500 Loss 0.0305\n",
            "Epoch 10 Batch 600 Loss 0.0324\n",
            "Epoch 10 Batch 700 Loss 0.0305\n",
            "Epoch 10 Batch 800 Loss 0.0304\n",
            "Epoch 10 Batch 900 Loss 0.0362\n",
            "Epoch 10 Batch 1000 Loss 0.0420\n",
            "Epoch 10 Batch 1100 Loss 0.0390\n",
            "Epoch 10 Batch 1200 Loss 0.0341\n",
            "Epoch 10 Batch 1300 Loss 0.0361\n",
            "Epoch 10 Batch 1400 Loss 0.0466\n",
            "Total training loss is 0.0369\n",
            "Total validation loss is 0.8485\n",
            "Time taken for 1 epoch 616.9911561012268 sec\n",
            "\n"
          ]
        }
      ],
      "source": [
        "train_and_validate(train_dataset, val_dataset)"
      ]
    },
    {
      "cell_type": "markdown",
      "id": "d7132c0a",
      "metadata": {
        "id": "d7132c0a",
        "papermill": {
          "duration": 0.020973,
          "end_time": "2023-04-12T10:55:51.051879",
          "exception": false,
          "start_time": "2023-04-12T10:55:51.030906",
          "status": "completed"
        },
        "tags": []
      },
      "source": [
        "# **Prediction using Greedy Search**\n",
        "\n",
        "During inference i.e during testing, we change the prediction process slightly.\n",
        "The code evaluate(sentence) defines a function that takes a sentence as input and returns the translated result along with the original sentence and an attention plot. Here's how the code performs these steps:\n",
        "\n",
        "1. Initialize the attention plot with zeros, with shape (max_length_tgt, max_length_src).\n",
        "2. Preprocess the input sentence by splitting it into words and converting each word into its corresponding index in the source tokenizer vocabulary.\n",
        "3. Pad the input sequence with zeros to a fixed length max_length_src.\n",
        "4. Convert the input sequence into a tensor.\n",
        "5. Initialize the hidden state of the encoder with zeros.\n",
        "6. Pass the input sequence through the encoder and get the output and the final hidden state.\n",
        "7. Initialize the hidden state of the decoder with the final hidden state of the encoder.\n",
        "8. Initialize the decoder input with the index of the special symbol <sos>.\n",
        "9. For t in range(max_length_tgt):\n",
        ">* Pass the decoder input, hidden state and the encoder output through the decoder and get the predictions and attention weights.\n",
        ">* Add the attention weights to the attention plot.\n",
        ">* Get the index of the word with the highest predicted probability and add it to the result string.\n",
        ">* If the word is the special symbol <eos>, return the result, the original sentence, and the attention plot.\n",
        ">* Set the decoder input to be the index of the word with the highest predicted probability.\n",
        "10. Return the result, the original sentence, and the attention plot."
      ]
    },
    {
      "cell_type": "markdown",
      "id": "36d2a11b",
      "metadata": {
        "id": "36d2a11b",
        "papermill": {
          "duration": 0.020941,
          "end_time": "2023-04-12T10:55:51.094352",
          "exception": false,
          "start_time": "2023-04-12T10:55:51.073411",
          "status": "completed"
        },
        "tags": []
      },
      "source": [
        "## Attention plot\n",
        "\n",
        "The function for plotting the attention weights that takes three arguments: **attention, sentence, and predicted_sentence.**\n",
        "* Create a figure and set its size to 10 x 10 using plt.figure(figsize=(10, 10)).\n",
        "* Add a subplot of 1 x 1 grid and select the first subplot using fig.add_subplot(1, 1, 1).\n",
        "* Display the attention weights with a heatmap using ax.matshow(attention, cmap='viridis').\n",
        "* Create a font dictionary to set the font size of the tick labels to 14.\n",
        "* Set the x-axis tick labels to sentence and the y-axis tick labels to predicted_sentence with a font size of 14.\n",
        "* Set the x-axis major locator to tick every 1 and the y-axis major locator to tick every 1 using ax.xaxis.set_major_locator(ticker.MultipleLocator(1)) and ax.yaxis.set_major_locator(ticker.MultipleLocator(1)).\n",
        "* Display the plot using plt.show()."
      ]
    },
    {
      "cell_type": "code",
      "execution_count": null,
      "id": "8e04100b",
      "metadata": {
        "execution": {
          "iopub.execute_input": "2023-04-12T10:55:51.138583Z",
          "iopub.status.busy": "2023-04-12T10:55:51.138221Z",
          "iopub.status.idle": "2023-04-12T10:55:51.147679Z",
          "shell.execute_reply": "2023-04-12T10:55:51.146497Z"
        },
        "id": "8e04100b",
        "papermill": {
          "duration": 0.034486,
          "end_time": "2023-04-12T10:55:51.150167",
          "exception": false,
          "start_time": "2023-04-12T10:55:51.115681",
          "status": "completed"
        },
        "tags": []
      },
      "outputs": [],
      "source": [
        "def plot_attention(attention, sentence, predicted_sentence):\n",
        "  # create a figure and set the figsize to 10 x 10\n",
        "  fig = plt.figure(figsize=(10, 10))\n",
        "\n",
        "  # add a subplot of 1x1 grid, and select the first subplot\n",
        "  ax = fig.add_subplot(1, 1, 1)\n",
        "\n",
        "  # display the attention weights with a heatmap using matshow\n",
        "  ax.matshow(attention, cmap='viridis')\n",
        "\n",
        "  # create a fontdict to set font size\n",
        "  fontdict = {'fontsize': 14}\n",
        "\n",
        "  # set the x axis tick labels to the sentence, with a font size of 14\n",
        "  ax.set_xticklabels([''] + sentence, fontdict=fontdict, rotation=90)\n",
        "  ax.xaxis.set_major_locator(ticker.FixedLocator(range(len(sentence) + 1)))\n",
        "\n",
        "  # set the y axis tick labels to the predicted sentence, with a font size of 14\n",
        "  ax.set_yticklabels([''] + predicted_sentence, fontdict=fontdict)\n",
        "  ax.yaxis.set_major_locator(ticker.FixedLocator(range(len(predicted_sentence) + 1)))\n",
        "  # set the x axis major locator to tick every 1\n",
        "  ax.xaxis.set_major_locator(ticker.MultipleLocator(1))\n",
        "\n",
        "  # set the y axis major locator to tick every 1\n",
        "  ax.yaxis.set_major_locator(ticker.MultipleLocator(1))\n",
        "\n",
        "  # display the plot\n",
        "  plt.show()\n"
      ]
    },
    {
      "cell_type": "code",
      "execution_count": null,
      "id": "a1bbd501",
      "metadata": {
        "execution": {
          "iopub.execute_input": "2023-04-12T10:55:51.194088Z",
          "iopub.status.busy": "2023-04-12T10:55:51.193503Z",
          "iopub.status.idle": "2023-04-12T10:55:51.202565Z",
          "shell.execute_reply": "2023-04-12T10:55:51.201671Z"
        },
        "id": "a1bbd501",
        "papermill": {
          "duration": 0.033259,
          "end_time": "2023-04-12T10:55:51.204685",
          "exception": false,
          "start_time": "2023-04-12T10:55:51.171426",
          "status": "completed"
        },
        "tags": []
      },
      "outputs": [],
      "source": [
        "# Define the evaluate function\n",
        "def evaluate(sentence):\n",
        "    #Initialize the attention plot with zeros\n",
        "    attention_plot = np.zeros((max_length_trg, max_length_src))\n",
        "    # Preprocess the input sentence\n",
        "    sentence = preprocess_text(sentence)\n",
        "    # Convert the sentence into a list of word indices\n",
        "    inputs = [src_lang_tokenizer.word_index[i] for i in sentence.split(' ')]\n",
        "    # Pad the list of word indices to make it equal to max_length_src\n",
        "    inputs = pad_sequences([inputs],\n",
        "                          maxlen=max_length_src,\n",
        "                          padding='post')\n",
        "    # Convert the inputs to a tensor\n",
        "    inputs = tf.convert_to_tensor(inputs)\n",
        "\n",
        "    result = ''\n",
        "    # Initialize the hidden state of the encoder\n",
        "    hidden = [tf.zeros((1, units))]\n",
        "    # Pass the inputs and hidden state through the encoder\n",
        "    enc_out, enc_hidden = encoder(inputs, hidden)\n",
        "    # Set the decoder's hidden state to the encoder's hidden state\n",
        "    dec_hidden = enc_hidden\n",
        "    # Initialize the input to the decoder as the start-of-sentence token\n",
        "    dec_input = tf.expand_dims([tgt_lang_tokenizer.word_index['<sos>']], 0)\n",
        "\n",
        "    # Loop for max_length_trg steps\n",
        "    for t in range(max_length_trg):\n",
        "        # Pass the decoder input, hidden state, and encoder output through the decoder\n",
        "        predictions, dec_hidden, attention_weights = decoder(dec_input,\n",
        "                                                         dec_hidden,\n",
        "                                                         enc_out)\n",
        "        # Reshape the attention weights\n",
        "        attention_weights = tf.reshape(attention_weights, (-1, ))\n",
        "        # Store the attention weights for plotting\n",
        "        attention_plot[t] = attention_weights.numpy()\n",
        "        # Get the index of the predicted word\n",
        "        predicted_id = tf.argmax(predictions[0]).numpy()\n",
        "        # Concatenate the predicted word to the result string\n",
        "        result += tgt_lang_tokenizer.index_word[predicted_id] + ' '\n",
        "\n",
        "        # If the predicted word is the end-of-sentence token, return the result\n",
        "        if tgt_lang_tokenizer.index_word[predicted_id] == '<eos>':\n",
        "            return result, sentence, attention_plot\n",
        "        # Set the input to the decoder to be the predicted word\n",
        "        dec_input = tf.expand_dims([predicted_id], 0)\n",
        "\n",
        "    return result, sentence, attention_plot\n"
      ]
    },
    {
      "cell_type": "code",
      "execution_count": null,
      "id": "1d680158",
      "metadata": {
        "execution": {
          "iopub.execute_input": "2023-04-12T10:55:51.248250Z",
          "iopub.status.busy": "2023-04-12T10:55:51.247950Z",
          "iopub.status.idle": "2023-04-12T10:55:51.253244Z",
          "shell.execute_reply": "2023-04-12T10:55:51.252253Z"
        },
        "id": "1d680158",
        "papermill": {
          "duration": 0.029634,
          "end_time": "2023-04-12T10:55:51.255396",
          "exception": false,
          "start_time": "2023-04-12T10:55:51.225762",
          "status": "completed"
        },
        "tags": []
      },
      "outputs": [],
      "source": [
        "def translate(sentence):\n",
        "  result, sentence, attention_plot = evaluate(sentence)\n",
        "\n",
        "  print('Input:', sentence)\n",
        "  print('Predicted Translation:', result)\n",
        "\n",
        "  attention_plot = attention_plot[:len(result.split(' ')),\n",
        "                                  :len(sentence.split(' '))]\n",
        "  plot_attention(attention_plot, sentence.split(' '), result.split(' '))"
      ]
    },
    {
      "cell_type": "code",
      "execution_count": null,
      "id": "47e1175c",
      "metadata": {
        "execution": {
          "iopub.execute_input": "2023-04-12T10:55:51.298817Z",
          "iopub.status.busy": "2023-04-12T10:55:51.298559Z",
          "iopub.status.idle": "2023-04-12T10:55:51.624852Z",
          "shell.execute_reply": "2023-04-12T10:55:51.623820Z"
        },
        "id": "47e1175c",
        "outputId": "201c3779-d32b-4a3c-e82e-4cb6ebae65f2",
        "papermill": {
          "duration": 0.350814,
          "end_time": "2023-04-12T10:55:51.627385",
          "exception": false,
          "start_time": "2023-04-12T10:55:51.276571",
          "status": "completed"
        },
        "tags": []
      },
      "outputs": [
        {
          "data": {
            "text/plain": [
              "<tensorflow.python.checkpoint.checkpoint.CheckpointLoadStatus at 0x7ae71632d310>"
            ]
          },
          "execution_count": 37,
          "metadata": {},
          "output_type": "execute_result"
        }
      ],
      "source": [
        "checkpoint.restore(tf.train.latest_checkpoint(checkpoint_dir))"
      ]
    },
    {
      "cell_type": "code",
      "execution_count": null,
      "id": "409aae53",
      "metadata": {
        "execution": {
          "iopub.execute_input": "2023-04-12T10:55:51.672277Z",
          "iopub.status.busy": "2023-04-12T10:55:51.671958Z",
          "iopub.status.idle": "2023-04-12T10:55:52.139489Z",
          "shell.execute_reply": "2023-04-12T10:55:52.138453Z"
        },
        "id": "409aae53",
        "outputId": "f1edd426-4892-4841-f90b-b931dd155770",
        "papermill": {
          "duration": 0.492579,
          "end_time": "2023-04-12T10:55:52.141821",
          "exception": false,
          "start_time": "2023-04-12T10:55:51.649242",
          "status": "completed"
        },
        "tags": []
      },
      "outputs": [
        {
          "name": "stdout",
          "output_type": "stream",
          "text": [
            "Input: <sos> hace mucho frio aqui . <eos>\n",
            "Predicted Translation: it s very cold here . <eos> \n"
          ]
        },
        {
          "data": {
            "image/png": "[encoded data removed]",
            "text/plain": [
              "<Figure size 1000x1000 with 1 Axes>"
            ]
          },
          "metadata": {},
          "output_type": "display_data"
        }
      ],
      "source": [
        "translate(u'hace mucho frío aquí.')"
      ]
    },
    {
      "cell_type": "code",
      "execution_count": null,
      "id": "c3901a6c",
      "metadata": {
        "execution": {
          "iopub.execute_input": "2023-04-12T10:55:52.188757Z",
          "iopub.status.busy": "2023-04-12T10:55:52.188163Z",
          "iopub.status.idle": "2023-04-12T10:55:52.620126Z",
          "shell.execute_reply": "2023-04-12T10:55:52.618965Z"
        },
        "id": "c3901a6c",
        "outputId": "628b4017-4482-44a1-9e8c-46bc7fe95f01",
        "papermill": {
          "duration": 0.457888,
          "end_time": "2023-04-12T10:55:52.622630",
          "exception": false,
          "start_time": "2023-04-12T10:55:52.164742",
          "status": "completed"
        },
        "tags": []
      },
      "outputs": [
        {
          "name": "stdout",
          "output_type": "stream",
          "text": [
            "Input: <sos> trata de averiguarlo . <eos>\n",
            "Predicted Translation: try to figure it out . <eos> \n"
          ]
        },
        {
          "data": {
            "image/png": "[encoded data removed]",
            "text/plain": [
              "<Figure size 1000x1000 with 1 Axes>"
            ]
          },
          "metadata": {},
          "output_type": "display_data"
        }
      ],
      "source": [
        "translate(u'trata de averiguarlo.')"
      ]
    },
    {
      "cell_type": "code",
      "execution_count": null,
      "id": "16d29a60",
      "metadata": {
        "execution": {
          "iopub.execute_input": "2023-04-12T10:55:52.672221Z",
          "iopub.status.busy": "2023-04-12T10:55:52.671170Z",
          "iopub.status.idle": "2023-04-12T10:55:53.170600Z",
          "shell.execute_reply": "2023-04-12T10:55:53.169421Z"
        },
        "id": "16d29a60",
        "outputId": "c009c359-7351-481c-c0da-d96a7c002080",
        "papermill": {
          "duration": 0.526454,
          "end_time": "2023-04-12T10:55:53.173252",
          "exception": false,
          "start_time": "2023-04-12T10:55:52.646798",
          "status": "completed"
        },
        "tags": []
      },
      "outputs": [
        {
          "name": "stdout",
          "output_type": "stream",
          "text": [
            "Input: <sos> ¿ todavia estan en casa ? <eos>\n",
            "Predicted Translation: are you still at home ? <eos> \n"
          ]
        },
        {
          "data": {
            "image/png": "[encoded data removed]",
            "text/plain": [
              "<Figure size 1000x1000 with 1 Axes>"
            ]
          },
          "metadata": {},
          "output_type": "display_data"
        }
      ],
      "source": [
        "translate(u'¿todavía están en casa?')"
      ]
    }
  ],
  "metadata": {
    "colab": {
      "provenance": []
    },
    "kernelspec": {
      "display_name": "Python 3",
      "language": "python",
      "name": "python3"
    },
    "language_info": {
      "codemirror_mode": {
        "name": "ipython",
        "version": 3
      },
      "file_extension": ".py",
      "mimetype": "text/x-python",
      "name": "python",
      "nbconvert_exporter": "python",
      "pygments_lexer": "ipython3",
      "version": "3.7.12"
    },
    "papermill": {
      "default_parameters": {},
      "duration": 6312.954857,
      "end_time": "2023-04-12T10:55:56.275527",
      "environment_variables": {},
      "exception": null,
      "input_path": "__notebook__.ipynb",
      "output_path": "__notebook__.ipynb",
      "parameters": {},
      "start_time": "2023-04-12T09:10:43.320670",
      "version": "2.4.0"
    }
  },
  "nbformat": 4,
  "nbformat_minor": 5
}
